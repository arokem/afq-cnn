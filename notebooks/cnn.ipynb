{
 "cells": [
  {
   "cell_type": "code",
   "execution_count": 1,
   "id": "divine-appendix",
   "metadata": {},
   "outputs": [],
   "source": [
    "import pandas as pd\n",
    "import afqinsight as afq\n",
    "import numpy as np\n",
    "from sklearn.linear_model import LassoCV\n",
    "from sklearn.pipeline import Pipeline\n",
    "from sklearn.impute import SimpleImputer\n",
    "from sklearn.model_selection import cross_val_score, train_test_split\n",
    "from groupyr.transform import GroupExtractor\n",
    "from sklearn.ensemble import RandomForestRegressor, AdaBoostRegressor\n",
    "import sklearn.metrics"
   ]
  },
  {
   "cell_type": "code",
   "execution_count": 2,
   "id": "joined-symbol",
   "metadata": {},
   "outputs": [],
   "source": [
    "from keras.models import Sequential\n",
    "from keras.layers import Dense, Conv1D, Flatten, MaxPool1D, MaxPooling1D, Dropout\n",
    "from keras.callbacks import EarlyStopping\n",
    "from sklearn.impute import SimpleImputer"
   ]
  },
  {
   "cell_type": "code",
   "execution_count": 56,
   "id": "through-motion",
   "metadata": {},
   "outputs": [],
   "source": [
    "X, y, groups, feature_names, group_names, subjects, _ = afq.datasets.load_afq_data('../data/raw/age_data', \"Age\")"
   ]
  },
  {
   "cell_type": "code",
   "execution_count": 57,
   "id": "typical-resort",
   "metadata": {},
   "outputs": [],
   "source": [
    "group_extractor = GroupExtractor(select=['fa', 'md'], groups=groups, group_names=group_names)\n",
    "X = group_extractor.fit_transform(X)"
   ]
  },
  {
   "cell_type": "code",
   "execution_count": 58,
   "id": "virtual-township",
   "metadata": {},
   "outputs": [],
   "source": [
    "#group_names = [g for g in group_names if g[0] in ['md', 'fa']]\n",
    "#print(len(group_names))\n",
    "#print(X.shape)\n",
    "#groups = groups[0:40]\n",
    "#group_extractor = GroupExtractor(select=['Right Cingulum Cingulate'], groups=groups, group_names=group_names)\n",
    "#X = group_extractor.fit_transform(X)"
   ]
  },
  {
   "cell_type": "code",
   "execution_count": 59,
   "id": "primary-access",
   "metadata": {},
   "outputs": [
    {
     "data": {
      "text/plain": [
       "(77, 4000)"
      ]
     },
     "execution_count": 59,
     "metadata": {},
     "output_type": "execute_result"
    }
   ],
   "source": [
    "X.shape"
   ]
  },
  {
   "cell_type": "code",
   "execution_count": 60,
   "id": "natural-batman",
   "metadata": {},
   "outputs": [],
   "source": [
    "X_train, X_test, y_train, y_test = train_test_split(X, y)"
   ]
  },
  {
   "cell_type": "code",
   "execution_count": 61,
   "id": "usual-bundle",
   "metadata": {},
   "outputs": [],
   "source": [
    "imp = SimpleImputer(strategy='median')\n",
    "imp.fit(X_train)\n",
    "X_train = imp.transform(X_train)\n",
    "X_test = imp.transform(X_test)"
   ]
  },
  {
   "cell_type": "code",
   "execution_count": 62,
   "id": "administrative-flight",
   "metadata": {},
   "outputs": [
    {
     "data": {
      "text/plain": [
       "((57, 4000), (57,), (20, 4000), (20,))"
      ]
     },
     "execution_count": 62,
     "metadata": {},
     "output_type": "execute_result"
    }
   ],
   "source": [
    "X_train.shape, y_train.shape, X_test.shape, y_test.shape"
   ]
  },
  {
   "cell_type": "code",
   "execution_count": 63,
   "id": "rotary-journal",
   "metadata": {},
   "outputs": [],
   "source": [
    "X_train_reshaped = np.swapaxes(X_train.reshape((57, 40, 100)), 1, 2)\n",
    "X_test_reshaped = np.swapaxes(X_test.reshape((20, 40, 100)), 1, 2)"
   ]
  },
  {
   "cell_type": "code",
   "execution_count": 88,
   "id": "optical-turning",
   "metadata": {},
   "outputs": [],
   "source": [
    "model = Sequential()\n",
    "\n",
    "# input: 3+D tensor with shape: batch_shape + (steps, input_dim)\n",
    "# output: 3+D tensor with shape: batch_shape + (new_steps, filters) steps value might have changed due to padding or strides.\n",
    "model = Sequential()\n",
    "model.add(Dense(128, activation='relu', input_shape=X_train_reshaped.shape[1:]))\n",
    "model.add(Conv1D(24, kernel_size=2, activation='relu'))\n",
    "model.add(MaxPool1D(pool_size=2,padding='same'))\n",
    "model.add(Conv1D(32, kernel_size=2, activation='relu'))\n",
    "model.add(MaxPool1D(pool_size=2,padding='same'))\n",
    "model.add(Conv1D(64, kernel_size=3, activation='relu'))\n",
    "model.add(MaxPool1D(pool_size=2,padding='same'))\n",
    "model.add(Conv1D(128, kernel_size=4, activation='relu'))\n",
    "model.add(MaxPool1D(pool_size=2,padding='same'))\n",
    "model.add(Conv1D(256, kernel_size=4, activation='relu'))\n",
    "model.add(MaxPool1D(pool_size=2,padding='same'))\n",
    "model.add(Dropout(0.25))\n",
    "model.add(Flatten())\n",
    "model.add(Dense(128, activation='relu'))\n",
    "model.add(Dropout(0.25))\n",
    "model.add(Dense(64, activation='relu'))\n",
    "model.add(Dense(1, activation='linear'))\n",
    "\n",
    "model.compile(loss='mean_squared_error',optimizer='adam',metrics=['mean_squared_error'])"
   ]
  },
  {
   "cell_type": "code",
   "execution_count": 89,
   "id": "returning-canadian",
   "metadata": {},
   "outputs": [
    {
     "name": "stdout",
     "output_type": "stream",
     "text": [
      "Model: \"sequential_33\"\n",
      "_________________________________________________________________\n",
      "Layer (type)                 Output Shape              Param #   \n",
      "=================================================================\n",
      "dense_26 (Dense)             (None, 100, 128)          5248      \n",
      "_________________________________________________________________\n",
      "conv1d_38 (Conv1D)           (None, 99, 24)            6168      \n",
      "_________________________________________________________________\n",
      "max_pooling1d_24 (MaxPooling (None, 50, 24)            0         \n",
      "_________________________________________________________________\n",
      "conv1d_39 (Conv1D)           (None, 49, 32)            1568      \n",
      "_________________________________________________________________\n",
      "max_pooling1d_25 (MaxPooling (None, 25, 32)            0         \n",
      "_________________________________________________________________\n",
      "conv1d_40 (Conv1D)           (None, 23, 64)            6208      \n",
      "_________________________________________________________________\n",
      "max_pooling1d_26 (MaxPooling (None, 12, 64)            0         \n",
      "_________________________________________________________________\n",
      "conv1d_41 (Conv1D)           (None, 9, 128)            32896     \n",
      "_________________________________________________________________\n",
      "max_pooling1d_27 (MaxPooling (None, 5, 128)            0         \n",
      "_________________________________________________________________\n",
      "conv1d_42 (Conv1D)           (None, 2, 256)            131328    \n",
      "_________________________________________________________________\n",
      "max_pooling1d_28 (MaxPooling (None, 1, 256)            0         \n",
      "_________________________________________________________________\n",
      "dropout_8 (Dropout)          (None, 1, 256)            0         \n",
      "_________________________________________________________________\n",
      "flatten_12 (Flatten)         (None, 256)               0         \n",
      "_________________________________________________________________\n",
      "dense_27 (Dense)             (None, 128)               32896     \n",
      "_________________________________________________________________\n",
      "dropout_9 (Dropout)          (None, 128)               0         \n",
      "_________________________________________________________________\n",
      "dense_28 (Dense)             (None, 64)                8256      \n",
      "_________________________________________________________________\n",
      "dense_29 (Dense)             (None, 1)                 65        \n",
      "=================================================================\n",
      "Total params: 224,633\n",
      "Trainable params: 224,633\n",
      "Non-trainable params: 0\n",
      "_________________________________________________________________\n"
     ]
    }
   ],
   "source": [
    "model.summary()"
   ]
  },
  {
   "cell_type": "code",
   "execution_count": 92,
   "id": "intense-brisbane",
   "metadata": {
    "scrolled": true,
    "tags": []
   },
   "outputs": [
    {
     "name": "stdout",
     "output_type": "stream",
     "text": [
      "Epoch 1/100\n",
      "1/1 [==============================] - 0s 102ms/step - loss: 106.8943 - mean_squared_error: 106.8943 - val_loss: 87.9716 - val_mean_squared_error: 87.9716\n",
      "Epoch 2/100\n",
      "1/1 [==============================] - 0s 61ms/step - loss: 94.2917 - mean_squared_error: 94.2917 - val_loss: 107.5023 - val_mean_squared_error: 107.5023\n",
      "Epoch 3/100\n",
      "1/1 [==============================] - 0s 73ms/step - loss: 115.8578 - mean_squared_error: 115.8578 - val_loss: 104.1910 - val_mean_squared_error: 104.1910\n",
      "Epoch 4/100\n",
      "1/1 [==============================] - 0s 66ms/step - loss: 112.4286 - mean_squared_error: 112.4286 - val_loss: 90.2857 - val_mean_squared_error: 90.2857\n",
      "Epoch 5/100\n",
      "1/1 [==============================] - 0s 65ms/step - loss: 98.7421 - mean_squared_error: 98.7421 - val_loss: 105.4333 - val_mean_squared_error: 105.4333\n",
      "1/1 [==============================] - 0s 18ms/step - loss: 105.4333 - mean_squared_error: 105.4333\n",
      "loss : 105.433349609375\n",
      "mean_squared_error : 105.433349609375\n"
     ]
    }
   ],
   "source": [
    "callback = EarlyStopping(monitor='loss', patience=3)\n",
    "model.fit(X_train_reshaped, y_train, epochs=100, batch_size=100, validation_data=(X_test_reshaped, y_test), callbacks=callback)\n",
    "loss_and_metrics = model.evaluate(X_test_reshaped, y_test, batch_size=100)\n",
    "for name, metric in zip(model.metrics_names, loss_and_metrics):\n",
    "    print(name, \":\", metric)"
   ]
  },
  {
   "cell_type": "code",
   "execution_count": 93,
   "id": "metropolitan-flesh",
   "metadata": {},
   "outputs": [],
   "source": [
    "import matplotlib.pyplot as plt"
   ]
  },
  {
   "cell_type": "code",
   "execution_count": 94,
   "id": "powerful-employment",
   "metadata": {},
   "outputs": [
    {
     "name": "stdout",
     "output_type": "stream",
     "text": [
      "WARNING:tensorflow:5 out of the last 11 calls to <function Model.make_predict_function.<locals>.predict_function at 0x7f7ff8146430> triggered tf.function retracing. Tracing is expensive and the excessive number of tracings could be due to (1) creating @tf.function repeatedly in a loop, (2) passing tensors with different shapes, (3) passing Python objects instead of tensors. For (1), please define your @tf.function outside of the loop. For (2), @tf.function has experimental_relax_shapes=True option that relaxes argument shapes that can avoid unnecessary retracing. For (3), please refer to https://www.tensorflow.org/guide/function#controlling_retracing and https://www.tensorflow.org/api_docs/python/tf/function for  more details.\n"
     ]
    },
    {
     "data": {
      "text/plain": [
       "[<matplotlib.lines.Line2D at 0x7f7ff5cc95b0>]"
      ]
     },
     "execution_count": 94,
     "metadata": {},
     "output_type": "execute_result"
    },
    {
     "data": {
      "image/png": "[encoded data removed]",
      "text/plain": [
       "<Figure size 432x288 with 1 Axes>"
      ]
     },
     "metadata": {
      "needs_background": "light"
     },
     "output_type": "display_data"
    }
   ],
   "source": [
    "y_hat = model.predict(X_train_reshaped)\n",
    "plt.plot(y_train, y_hat, linestyle=\"\", marker=\".\")"
   ]
  },
  {
   "cell_type": "code",
   "execution_count": 95,
   "id": "charming-covering",
   "metadata": {},
   "outputs": [
    {
     "data": {
      "text/plain": [
       "[<matplotlib.lines.Line2D at 0x7f7ffb88d910>]"
      ]
     },
     "execution_count": 95,
     "metadata": {},
     "output_type": "execute_result"
    },
    {
     "data": {
      "image/png": "[encoded data removed]",
      "text/plain": [
       "<Figure size 432x288 with 1 Axes>"
      ]
     },
     "metadata": {
      "needs_background": "light"
     },
     "output_type": "display_data"
    }
   ],
   "source": [
    "y_hat = model.predict(X_test_reshaped)\n",
    "plt.plot(y_test, y_hat, linestyle=\"\", marker=\".\")"
   ]
  },
  {
   "cell_type": "code",
   "execution_count": null,
   "id": "brave-performer",
   "metadata": {},
   "outputs": [],
   "source": []
  }
 ],
 "metadata": {
  "kernelspec": {
   "display_name": "Python 3",
   "language": "python",
   "name": "python3"
  },
  "language_info": {
   "codemirror_mode": {
    "name": "ipython",
    "version": 3
   },
   "file_extension": ".py",
   "mimetype": "text/x-python",
   "name": "python",
   "nbconvert_exporter": "python",
   "pygments_lexer": "ipython3",
   "version": "3.8.8"
  }
 },
 "nbformat": 4,
 "nbformat_minor": 5
}
