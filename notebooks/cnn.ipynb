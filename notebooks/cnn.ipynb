{
 "cells": [
  {
   "cell_type": "code",
   "execution_count": 2,
   "id": "executed-virus",
   "metadata": {},
   "outputs": [],
   "source": [
    "import pandas as pd\n",
    "import afqinsight as afq\n",
    "import numpy as np\n",
    "from sklearn.linear_model import LassoCV\n",
    "from sklearn.pipeline import Pipeline\n",
    "from sklearn.impute import SimpleImputer\n",
    "from sklearn.model_selection import cross_val_score, train_test_split\n",
    "from groupyr.transform import GroupExtractor\n",
    "from sklearn.ensemble import RandomForestRegressor, AdaBoostRegressor\n",
    "import sklearn.metrics"
   ]
  },
  {
   "cell_type": "code",
   "execution_count": 3,
   "id": "lightweight-staff",
   "metadata": {},
   "outputs": [],
   "source": [
    "from keras.models import Sequential\n",
    "from keras.layers import Dense, Conv1D, Flatten, MaxPool1D, MaxPooling1D, Dropout\n",
    "from keras.callbacks import EarlyStopping\n",
    "from sklearn.impute import SimpleImputer"
   ]
  },
  {
   "cell_type": "code",
   "execution_count": 4,
   "id": "ready-profile",
   "metadata": {},
   "outputs": [],
   "source": [
    "X, y, groups, feature_names, group_names, subjects, _ = afq.datasets.load_afq_data('../data/raw/age_data', \"Age\")"
   ]
  },
  {
   "cell_type": "code",
   "execution_count": 5,
   "id": "sufficient-limit",
   "metadata": {},
   "outputs": [],
   "source": [
    "group_extractor = GroupExtractor(select=['fa', 'md'], groups=groups, group_names=group_names)\n",
    "X = group_extractor.fit_transform(X)"
   ]
  },
  {
   "cell_type": "code",
   "execution_count": 6,
   "id": "neither-injection",
   "metadata": {},
   "outputs": [],
   "source": [
    "#group_names = [g for g in group_names if g[0] in ['md', 'fa']]\n",
    "#print(len(group_names))\n",
    "#print(X.shape)\n",
    "#groups = groups[0:40]\n",
    "#group_extractor = GroupExtractor(select=['Right Cingulum Cingulate'], groups=groups, group_names=group_names)\n",
    "#X = group_extractor.fit_transform(X)"
   ]
  },
  {
   "cell_type": "code",
   "execution_count": 7,
   "id": "white-stake",
   "metadata": {},
   "outputs": [
    {
     "data": {
      "text/plain": [
       "(77, 4000)"
      ]
     },
     "execution_count": 7,
     "metadata": {},
     "output_type": "execute_result"
    }
   ],
   "source": [
    "X.shape"
   ]
  },
  {
   "cell_type": "code",
   "execution_count": 8,
   "id": "incoming-geometry",
   "metadata": {},
   "outputs": [],
   "source": [
    "X_train, X_test, y_train, y_test = train_test_split(X, y)"
   ]
  },
  {
   "cell_type": "code",
   "execution_count": 9,
   "id": "registered-california",
   "metadata": {},
   "outputs": [],
   "source": [
    "imp = SimpleImputer(strategy='median')\n",
    "imp.fit(X_train)\n",
    "X_train = imp.transform(X_train)\n",
    "X_test = imp.transform(X_test)"
   ]
  },
  {
   "cell_type": "code",
   "execution_count": 10,
   "id": "rotary-brand",
   "metadata": {},
   "outputs": [
    {
     "data": {
      "text/plain": [
       "((57, 4000), (57,), (20, 4000), (20,))"
      ]
     },
     "execution_count": 10,
     "metadata": {},
     "output_type": "execute_result"
    }
   ],
   "source": [
    "X_train.shape, y_train.shape, X_test.shape, y_test.shape"
   ]
  },
  {
   "cell_type": "code",
   "execution_count": 11,
   "id": "broken-external",
   "metadata": {},
   "outputs": [],
   "source": [
    "X_train_reshaped = np.swapaxes(X_train.reshape((57, 40, 100)), 1, 2)\n",
    "X_test_reshaped = np.swapaxes(X_test.reshape((20, 40, 100)), 1, 2)"
   ]
  },
  {
   "cell_type": "code",
   "execution_count": 32,
   "id": "subsequent-initial",
   "metadata": {},
   "outputs": [],
   "source": [
    "model = Sequential()\n",
    "\n",
    "# input: 3+D tensor with shape: batch_shape + (steps, input_dim)\n",
    "# output: 3+D tensor with shape: batch_shape + (new_steps, filters) steps value might have changed due to padding or strides.\n",
    "model = Sequential()\n",
    "model.add(Dense(128, activation='relu', input_shape=X_train_reshaped.shape[1:]))\n",
    "model.add(Conv1D(24, kernel_size=2, activation='relu'))\n",
    "model.add(MaxPool1D(pool_size=2,padding='same'))\n",
    "model.add(Conv1D(32, kernel_size=2, activation='relu'))\n",
    "model.add(MaxPool1D(pool_size=2,padding='same'))\n",
    "model.add(Conv1D(64, kernel_size=3, activation='relu'))\n",
    "model.add(MaxPool1D(pool_size=2,padding='same'))\n",
    "model.add(Conv1D(128, kernel_size=4, activation='relu'))\n",
    "model.add(MaxPool1D(pool_size=2,padding='same'))\n",
    "model.add(Conv1D(256, kernel_size=4, activation='relu'))\n",
    "model.add(MaxPool1D(pool_size=2,padding='same'))\n",
    "model.add(Dropout(0.25))\n",
    "model.add(Flatten())\n",
    "model.add(Dense(128, activation='relu'))\n",
    "model.add(Dropout(0.25))\n",
    "model.add(Dense(64, activation='relu'))\n",
    "model.add(Dense(1, activation='linear'))\n",
    "\n",
    "model.compile(loss='mean_squared_error',optimizer='adam',metrics=['mean_squared_error'])"
   ]
  },
  {
   "cell_type": "code",
   "execution_count": 28,
   "id": "nominated-broadcast",
   "metadata": {},
   "outputs": [
    {
     "name": "stdout",
     "output_type": "stream",
     "text": [
      "Model: \"sequential_7\"\n",
      "_________________________________________________________________\n",
      "Layer (type)                 Output Shape              Param #   \n",
      "=================================================================\n",
      "dense_8 (Dense)              (None, 100, 128)          5248      \n",
      "_________________________________________________________________\n",
      "conv1d_14 (Conv1D)           (None, 99, 24)            6168      \n",
      "_________________________________________________________________\n",
      "max_pooling1d_14 (MaxPooling (None, 50, 24)            0         \n",
      "_________________________________________________________________\n",
      "conv1d_15 (Conv1D)           (None, 49, 32)            1568      \n",
      "_________________________________________________________________\n",
      "max_pooling1d_15 (MaxPooling (None, 25, 32)            0         \n",
      "_________________________________________________________________\n",
      "conv1d_16 (Conv1D)           (None, 23, 64)            6208      \n",
      "_________________________________________________________________\n",
      "max_pooling1d_16 (MaxPooling (None, 12, 64)            0         \n",
      "_________________________________________________________________\n",
      "dropout_4 (Dropout)          (None, 12, 64)            0         \n",
      "_________________________________________________________________\n",
      "flatten_3 (Flatten)          (None, 768)               0         \n",
      "_________________________________________________________________\n",
      "dense_9 (Dense)              (None, 128)               98432     \n",
      "_________________________________________________________________\n",
      "dropout_5 (Dropout)          (None, 128)               0         \n",
      "_________________________________________________________________\n",
      "dense_10 (Dense)             (None, 64)                8256      \n",
      "_________________________________________________________________\n",
      "dense_11 (Dense)             (None, 1)                 65        \n",
      "=================================================================\n",
      "Total params: 125,945\n",
      "Trainable params: 125,945\n",
      "Non-trainable params: 0\n",
      "_________________________________________________________________\n"
     ]
    }
   ],
   "source": [
    "model.summary()"
   ]
  },
  {
   "cell_type": "code",
   "execution_count": 42,
   "id": "collect-casino",
   "metadata": {
    "scrolled": true,
    "tags": []
   },
   "outputs": [
    {
     "name": "stdout",
     "output_type": "stream",
     "text": [
      "Epoch 1/100\n",
      "1/1 [==============================] - 0s 144ms/step - loss: 78.1683 - mean_squared_error: 78.1683 - val_loss: 74.3070 - val_mean_squared_error: 74.3070\n",
      "Epoch 2/100\n",
      "1/1 [==============================] - 0s 99ms/step - loss: 77.9382 - mean_squared_error: 77.9382 - val_loss: 73.9823 - val_mean_squared_error: 73.9823\n",
      "Epoch 3/100\n",
      "1/1 [==============================] - 0s 83ms/step - loss: 74.5444 - mean_squared_error: 74.5444 - val_loss: 78.0838 - val_mean_squared_error: 78.0838\n",
      "Epoch 4/100\n",
      "1/1 [==============================] - 0s 92ms/step - loss: 85.2304 - mean_squared_error: 85.2304 - val_loss: 72.9201 - val_mean_squared_error: 72.9201\n",
      "Epoch 5/100\n",
      "1/1 [==============================] - 0s 99ms/step - loss: 74.9806 - mean_squared_error: 74.9806 - val_loss: 74.7528 - val_mean_squared_error: 74.7528\n",
      "Epoch 6/100\n",
      "1/1 [==============================] - 0s 90ms/step - loss: 74.9208 - mean_squared_error: 74.9208 - val_loss: 76.8660 - val_mean_squared_error: 76.8660\n",
      "Epoch 7/100\n",
      "1/1 [==============================] - 0s 111ms/step - loss: 64.3604 - mean_squared_error: 64.3604 - val_loss: 75.9437 - val_mean_squared_error: 75.9437\n",
      "Epoch 8/100\n",
      "1/1 [==============================] - 0s 102ms/step - loss: 85.0846 - mean_squared_error: 85.0846 - val_loss: 73.7595 - val_mean_squared_error: 73.7595\n",
      "Epoch 9/100\n",
      "1/1 [==============================] - 0s 100ms/step - loss: 76.9275 - mean_squared_error: 76.9275 - val_loss: 72.2829 - val_mean_squared_error: 72.2829\n",
      "Epoch 10/100\n",
      "1/1 [==============================] - 0s 90ms/step - loss: 78.5819 - mean_squared_error: 78.5819 - val_loss: 79.3370 - val_mean_squared_error: 79.3370\n",
      "Epoch 11/100\n",
      "1/1 [==============================] - 0s 84ms/step - loss: 76.6834 - mean_squared_error: 76.6834 - val_loss: 71.6581 - val_mean_squared_error: 71.6581\n",
      "Epoch 12/100\n",
      "1/1 [==============================] - 0s 106ms/step - loss: 65.0107 - mean_squared_error: 65.0107 - val_loss: 71.4755 - val_mean_squared_error: 71.4755\n",
      "Epoch 13/100\n",
      "1/1 [==============================] - 0s 116ms/step - loss: 84.4329 - mean_squared_error: 84.4329 - val_loss: 74.7565 - val_mean_squared_error: 74.7565\n",
      "Epoch 14/100\n",
      "1/1 [==============================] - 0s 125ms/step - loss: 80.5873 - mean_squared_error: 80.5873 - val_loss: 72.0461 - val_mean_squared_error: 72.0461\n",
      "Epoch 15/100\n",
      "1/1 [==============================] - 0s 88ms/step - loss: 75.0984 - mean_squared_error: 75.0984 - val_loss: 70.8090 - val_mean_squared_error: 70.8090\n",
      "Epoch 16/100\n",
      "1/1 [==============================] - 0s 81ms/step - loss: 83.4204 - mean_squared_error: 83.4204 - val_loss: 71.0764 - val_mean_squared_error: 71.0764\n",
      "Epoch 17/100\n",
      "1/1 [==============================] - 0s 94ms/step - loss: 71.5568 - mean_squared_error: 71.5568 - val_loss: 70.1400 - val_mean_squared_error: 70.1400\n",
      "1/1 [==============================] - 0s 34ms/step - loss: 70.1400 - mean_squared_error: 70.1400\n",
      "loss : 70.13996887207031\n",
      "mean_squared_error : 70.13996887207031\n"
     ]
    }
   ],
   "source": [
    "callback = EarlyStopping(monitor='loss', patience=10)\n",
    "model.fit(X_train_reshaped, y_train, epochs=100, batch_size=100, validation_data=(X_test_reshaped, y_test), callbacks=callback)\n",
    "loss_and_metrics = model.evaluate(X_test_reshaped, y_test, batch_size=100)\n",
    "for name, metric in zip(model.metrics_names, loss_and_metrics):\n",
    "    print(name, \":\", metric)"
   ]
  },
  {
   "cell_type": "code",
   "execution_count": 43,
   "id": "stone-anaheim",
   "metadata": {},
   "outputs": [],
   "source": [
    "import matplotlib.pyplot as plt"
   ]
  },
  {
   "cell_type": "code",
   "execution_count": 44,
   "id": "ranking-bulletin",
   "metadata": {},
   "outputs": [
    {
     "data": {
      "text/plain": [
       "[<matplotlib.lines.Line2D at 0x7f9f25ab27f0>]"
      ]
     },
     "execution_count": 44,
     "metadata": {},
     "output_type": "execute_result"
    },
    {
     "data": {
      "image/png": "[encoded data removed]",
      "text/plain": [
       "<Figure size 432x288 with 1 Axes>"
      ]
     },
     "metadata": {
      "needs_background": "light"
     },
     "output_type": "display_data"
    }
   ],
   "source": [
    "y_hat = model.predict(X_train_reshaped)\n",
    "plt.plot(y_train, y_hat, linestyle=\"\", marker=\".\")"
   ]
  },
  {
   "cell_type": "code",
   "execution_count": 45,
   "id": "reserved-samoa",
   "metadata": {},
   "outputs": [
    {
     "data": {
      "text/plain": [
       "[<matplotlib.lines.Line2D at 0x7f9f25b7c700>]"
      ]
     },
     "execution_count": 45,
     "metadata": {},
     "output_type": "execute_result"
    },
    {
     "data": {
      "image/png": "[encoded data removed]",
      "text/plain": [
       "<Figure size 432x288 with 1 Axes>"
      ]
     },
     "metadata": {
      "needs_background": "light"
     },
     "output_type": "display_data"
    }
   ],
   "source": [
    "y_hat = model.predict(X_test_reshaped)\n",
    "plt.plot(y_test, y_hat, linestyle=\"\", marker=\".\")"
   ]
  },
  {
   "cell_type": "code",
   "execution_count": 46,
   "id": "sufficient-psychiatry",
   "metadata": {},
   "outputs": [],
   "source": [
    "from sklearn.metrics import r2_score"
   ]
  },
  {
   "cell_type": "code",
   "execution_count": 47,
   "id": "exclusive-secret",
   "metadata": {},
   "outputs": [
    {
     "data": {
      "text/plain": [
       "0.5747224272211304"
      ]
     },
     "execution_count": 47,
     "metadata": {},
     "output_type": "execute_result"
    }
   ],
   "source": [
    "r2_score(y_test, y_hat)"
   ]
  },
  {
   "cell_type": "code",
   "execution_count": null,
   "id": "bacterial-correction",
   "metadata": {},
   "outputs": [],
   "source": []
  }
 ],
 "metadata": {
  "kernelspec": {
   "display_name": "Python 3",
   "language": "python",
   "name": "python3"
  },
  "language_info": {
   "codemirror_mode": {
    "name": "ipython",
    "version": 3
   },
   "file_extension": ".py",
   "mimetype": "text/x-python",
   "name": "python",
   "nbconvert_exporter": "python",
   "pygments_lexer": "ipython3",
   "version": "3.8.8"
  }
 },
 "nbformat": 4,
 "nbformat_minor": 5
}
