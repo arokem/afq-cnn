{
 "cells": [
  {
   "cell_type": "code",
   "execution_count": 1,
   "id": "excellent-support",
   "metadata": {},
   "outputs": [],
   "source": [
    "import pandas as pd\n",
    "import afqinsight as afq\n",
    "import numpy as np\n",
    "from sklearn.linear_model import LassoCV\n",
    "from sklearn.pipeline import Pipeline\n",
    "from sklearn.impute import SimpleImputer\n",
    "from sklearn.model_selection import cross_val_score, train_test_split\n",
    "from groupyr.transform import GroupExtractor\n",
    "from sklearn.ensemble import RandomForestRegressor, AdaBoostRegressor\n",
    "import sklearn.metrics"
   ]
  },
  {
   "cell_type": "code",
   "execution_count": 2,
   "id": "published-centre",
   "metadata": {},
   "outputs": [],
   "source": [
    "from keras.models import Sequential\n",
    "from keras.layers import Dense, Conv1D, Flatten, MaxPool1D, MaxPooling1D, Dropout\n",
    "from keras.callbacks import EarlyStopping\n",
    "from sklearn.impute import SimpleImputer"
   ]
  },
  {
   "cell_type": "code",
   "execution_count": 20,
   "id": "secondary-logistics",
   "metadata": {},
   "outputs": [],
   "source": [
    "X, y, groups, feature_names, group_names, subjects, _ = afq.datasets.load_afq_data('../data/raw/age_data', \"Age\")"
   ]
  },
  {
   "cell_type": "code",
   "execution_count": 21,
   "id": "concerned-peoples",
   "metadata": {},
   "outputs": [],
   "source": [
    "#group_extractor = GroupExtractor(select=['fa', 'md'], groups=groups, group_names=group_names)\n",
    "#X = group_extractor.fit_transform(X)"
   ]
  },
  {
   "cell_type": "code",
   "execution_count": 22,
   "id": "optimum-tournament",
   "metadata": {},
   "outputs": [],
   "source": [
    "#group_names = [g for g in group_names if g[0] in ['md', 'fa']]\n",
    "#print(len(group_names))\n",
    "#print(X.shape)\n",
    "#groups = groups[0:40]\n",
    "group_extractor = GroupExtractor(select=['Right Cingulum Cingulate'], groups=groups, group_names=group_names)\n",
    "X = group_extractor.fit_transform(X)"
   ]
  },
  {
   "cell_type": "code",
   "execution_count": 23,
   "id": "imposed-interference",
   "metadata": {},
   "outputs": [],
   "source": [
    "X_train, X_test, y_train, y_test = train_test_split(X, y)"
   ]
  },
  {
   "cell_type": "code",
   "execution_count": 24,
   "id": "pretty-fishing",
   "metadata": {},
   "outputs": [],
   "source": [
    "imp = SimpleImputer(strategy='median')\n",
    "imp.fit(X_train)\n",
    "X_train = imp.transform(X_train)\n",
    "X_test = imp.transform(X_test)"
   ]
  },
  {
   "cell_type": "code",
   "execution_count": 25,
   "id": "caroline-oklahoma",
   "metadata": {},
   "outputs": [
    {
     "data": {
      "text/plain": [
       "((57, 500), (57,), (20, 500), (20,))"
      ]
     },
     "execution_count": 25,
     "metadata": {},
     "output_type": "execute_result"
    }
   ],
   "source": [
    "X_train.shape, y_train.shape, X_test.shape, y_test.shape"
   ]
  },
  {
   "cell_type": "code",
   "execution_count": 26,
   "id": "raised-merit",
   "metadata": {},
   "outputs": [],
   "source": [
    "model = Sequential()\n",
    "\n",
    "# input: 3+D tensor with shape: batch_shape + (steps, input_dim)\n",
    "# output: 3+D tensor with shape: batch_shape + (new_steps, filters) steps value might have changed due to padding or strides.\n",
    "#model.add(Conv1D(32, kernel_size=3, input_shape=X_train.shape[1:], activation='relu'))\n",
    "# flatten takes feature maps and flattens it into 784 pixels, since dense doesnt care about space\n",
    "#model.add(MaxPool1D(pool_size=3,padding='same'))\n",
    "#model.add(Flatten())\n",
    "model.add(Dense(128, activation='relu', input_shape=X_train.shape[1:]))\n",
    "model.add(Dropout(0.25))\n",
    "model.add(Dense(64, activation='relu'))\n",
    "model.add(Dropout(0.2))\n",
    "model.add(Dense(1, activation='linear'))\n",
    "\n",
    "model.compile(loss='mean_squared_error',optimizer='adam',metrics=['mean_squared_error'])"
   ]
  },
  {
   "cell_type": "code",
   "execution_count": 27,
   "id": "paperback-worry",
   "metadata": {},
   "outputs": [
    {
     "name": "stdout",
     "output_type": "stream",
     "text": [
      "Model: \"sequential\"\n",
      "_________________________________________________________________\n",
      "Layer (type)                 Output Shape              Param #   \n",
      "=================================================================\n",
      "dense (Dense)                (None, 128)               64128     \n",
      "_________________________________________________________________\n",
      "dropout (Dropout)            (None, 128)               0         \n",
      "_________________________________________________________________\n",
      "dense_1 (Dense)              (None, 64)                8256      \n",
      "_________________________________________________________________\n",
      "dropout_1 (Dropout)          (None, 64)                0         \n",
      "_________________________________________________________________\n",
      "dense_2 (Dense)              (None, 1)                 65        \n",
      "=================================================================\n",
      "Total params: 72,449\n",
      "Trainable params: 72,449\n",
      "Non-trainable params: 0\n",
      "_________________________________________________________________\n"
     ]
    }
   ],
   "source": [
    "model.summary()"
   ]
  },
  {
   "cell_type": "code",
   "execution_count": 28,
   "id": "swedish-graphic",
   "metadata": {
    "scrolled": true,
    "tags": []
   },
   "outputs": [
    {
     "name": "stdout",
     "output_type": "stream",
     "text": [
      "Epoch 1/100\n",
      "1/1 [==============================] - 1s 565ms/step - loss: 491.6553 - mean_squared_error: 491.6553 - val_loss: 437.1331 - val_mean_squared_error: 437.1331\n",
      "Epoch 2/100\n",
      "1/1 [==============================] - 0s 37ms/step - loss: 440.5576 - mean_squared_error: 440.5576 - val_loss: 396.2962 - val_mean_squared_error: 396.2962\n",
      "Epoch 3/100\n",
      "1/1 [==============================] - 0s 37ms/step - loss: 394.5652 - mean_squared_error: 394.5652 - val_loss: 361.8248 - val_mean_squared_error: 361.8248\n",
      "Epoch 4/100\n",
      "1/1 [==============================] - 0s 40ms/step - loss: 361.7576 - mean_squared_error: 361.7576 - val_loss: 328.2176 - val_mean_squared_error: 328.2176\n",
      "Epoch 5/100\n",
      "1/1 [==============================] - 0s 40ms/step - loss: 332.6439 - mean_squared_error: 332.6439 - val_loss: 295.5285 - val_mean_squared_error: 295.5285\n",
      "Epoch 6/100\n",
      "1/1 [==============================] - 0s 41ms/step - loss: 315.9508 - mean_squared_error: 315.9508 - val_loss: 264.3543 - val_mean_squared_error: 264.3543\n",
      "Epoch 7/100\n",
      "1/1 [==============================] - 0s 38ms/step - loss: 272.2787 - mean_squared_error: 272.2787 - val_loss: 234.4834 - val_mean_squared_error: 234.4834\n",
      "Epoch 8/100\n",
      "1/1 [==============================] - 0s 78ms/step - loss: 248.8153 - mean_squared_error: 248.8153 - val_loss: 206.3920 - val_mean_squared_error: 206.3920\n",
      "Epoch 9/100\n",
      "1/1 [==============================] - 0s 40ms/step - loss: 224.1207 - mean_squared_error: 224.1207 - val_loss: 181.4711 - val_mean_squared_error: 181.4711\n",
      "Epoch 10/100\n",
      "1/1 [==============================] - 0s 46ms/step - loss: 206.9489 - mean_squared_error: 206.9489 - val_loss: 160.5592 - val_mean_squared_error: 160.5592\n",
      "Epoch 11/100\n",
      "1/1 [==============================] - 0s 47ms/step - loss: 182.7224 - mean_squared_error: 182.7224 - val_loss: 144.7243 - val_mean_squared_error: 144.7243\n",
      "Epoch 12/100\n",
      "1/1 [==============================] - 0s 50ms/step - loss: 173.5924 - mean_squared_error: 173.5924 - val_loss: 134.5688 - val_mean_squared_error: 134.5688\n",
      "Epoch 13/100\n",
      "1/1 [==============================] - 0s 46ms/step - loss: 153.4274 - mean_squared_error: 153.4274 - val_loss: 130.1274 - val_mean_squared_error: 130.1274\n",
      "Epoch 14/100\n",
      "1/1 [==============================] - 0s 45ms/step - loss: 166.8252 - mean_squared_error: 166.8252 - val_loss: 130.5523 - val_mean_squared_error: 130.5523\n",
      "Epoch 15/100\n",
      "1/1 [==============================] - 0s 35ms/step - loss: 178.1740 - mean_squared_error: 178.1740 - val_loss: 133.6451 - val_mean_squared_error: 133.6451\n",
      "Epoch 16/100\n",
      "1/1 [==============================] - 0s 36ms/step - loss: 189.3037 - mean_squared_error: 189.3037 - val_loss: 137.2009 - val_mean_squared_error: 137.2009\n",
      "Epoch 17/100\n",
      "1/1 [==============================] - 0s 38ms/step - loss: 164.7039 - mean_squared_error: 164.7039 - val_loss: 140.0492 - val_mean_squared_error: 140.0492\n",
      "Epoch 18/100\n",
      "1/1 [==============================] - 0s 34ms/step - loss: 191.5314 - mean_squared_error: 191.5314 - val_loss: 141.0180 - val_mean_squared_error: 141.0180\n",
      "Epoch 19/100\n",
      "1/1 [==============================] - 0s 35ms/step - loss: 206.9668 - mean_squared_error: 206.9668 - val_loss: 139.7050 - val_mean_squared_error: 139.7050\n",
      "Epoch 20/100\n",
      "1/1 [==============================] - 0s 36ms/step - loss: 176.5901 - mean_squared_error: 176.5901 - val_loss: 137.4327 - val_mean_squared_error: 137.4327\n",
      "Epoch 21/100\n",
      "1/1 [==============================] - 0s 36ms/step - loss: 194.1768 - mean_squared_error: 194.1768 - val_loss: 134.5017 - val_mean_squared_error: 134.5017\n",
      "Epoch 22/100\n",
      "1/1 [==============================] - 0s 40ms/step - loss: 188.0911 - mean_squared_error: 188.0911 - val_loss: 131.8207 - val_mean_squared_error: 131.8207\n",
      "Epoch 23/100\n",
      "1/1 [==============================] - 0s 37ms/step - loss: 187.0665 - mean_squared_error: 187.0665 - val_loss: 129.9250 - val_mean_squared_error: 129.9250\n",
      "Epoch 24/100\n",
      "1/1 [==============================] - 0s 42ms/step - loss: 202.1960 - mean_squared_error: 202.1960 - val_loss: 128.9982 - val_mean_squared_error: 128.9982\n",
      "Epoch 25/100\n",
      "1/1 [==============================] - 0s 42ms/step - loss: 181.6045 - mean_squared_error: 181.6045 - val_loss: 129.1866 - val_mean_squared_error: 129.1866\n",
      "Epoch 26/100\n",
      "1/1 [==============================] - 0s 38ms/step - loss: 179.0668 - mean_squared_error: 179.0668 - val_loss: 130.5068 - val_mean_squared_error: 130.5068\n",
      "Epoch 27/100\n",
      "1/1 [==============================] - 0s 49ms/step - loss: 156.9379 - mean_squared_error: 156.9379 - val_loss: 132.5517 - val_mean_squared_error: 132.5517\n",
      "Epoch 28/100\n",
      "1/1 [==============================] - 0s 51ms/step - loss: 167.2628 - mean_squared_error: 167.2628 - val_loss: 134.9792 - val_mean_squared_error: 134.9792\n",
      "Epoch 29/100\n",
      "1/1 [==============================] - 0s 43ms/step - loss: 170.3626 - mean_squared_error: 170.3626 - val_loss: 137.5046 - val_mean_squared_error: 137.5046\n",
      "Epoch 30/100\n",
      "1/1 [==============================] - 0s 41ms/step - loss: 180.6592 - mean_squared_error: 180.6592 - val_loss: 139.8189 - val_mean_squared_error: 139.8189\n",
      "Epoch 31/100\n",
      "1/1 [==============================] - 0s 37ms/step - loss: 172.9987 - mean_squared_error: 172.9987 - val_loss: 141.5928 - val_mean_squared_error: 141.5928\n",
      "Epoch 32/100\n",
      "1/1 [==============================] - 0s 40ms/step - loss: 161.1862 - mean_squared_error: 161.1862 - val_loss: 142.6610 - val_mean_squared_error: 142.6610\n",
      "Epoch 33/100\n",
      "1/1 [==============================] - 0s 42ms/step - loss: 168.5023 - mean_squared_error: 168.5023 - val_loss: 143.0732 - val_mean_squared_error: 143.0732\n",
      "Epoch 34/100\n",
      "1/1 [==============================] - 0s 46ms/step - loss: 158.2655 - mean_squared_error: 158.2655 - val_loss: 142.5664 - val_mean_squared_error: 142.5664\n",
      "Epoch 35/100\n",
      "1/1 [==============================] - 0s 39ms/step - loss: 172.9075 - mean_squared_error: 172.9075 - val_loss: 141.5466 - val_mean_squared_error: 141.5466\n",
      "Epoch 36/100\n",
      "1/1 [==============================] - 0s 41ms/step - loss: 187.2518 - mean_squared_error: 187.2518 - val_loss: 140.2265 - val_mean_squared_error: 140.2265\n",
      "Epoch 37/100\n",
      "1/1 [==============================] - 0s 37ms/step - loss: 168.7298 - mean_squared_error: 168.7298 - val_loss: 138.5712 - val_mean_squared_error: 138.5712\n",
      "Epoch 38/100\n",
      "1/1 [==============================] - 0s 43ms/step - loss: 168.7270 - mean_squared_error: 168.7270 - val_loss: 136.7365 - val_mean_squared_error: 136.7365\n",
      "Epoch 39/100\n",
      "1/1 [==============================] - 0s 37ms/step - loss: 179.5332 - mean_squared_error: 179.5332 - val_loss: 134.8759 - val_mean_squared_error: 134.8759\n",
      "Epoch 40/100\n",
      "1/1 [==============================] - 0s 41ms/step - loss: 173.6310 - mean_squared_error: 173.6310 - val_loss: 133.1085 - val_mean_squared_error: 133.1085\n",
      "Epoch 41/100\n",
      "1/1 [==============================] - 0s 42ms/step - loss: 165.1486 - mean_squared_error: 165.1486 - val_loss: 131.4752 - val_mean_squared_error: 131.4752\n",
      "Epoch 42/100\n",
      "1/1 [==============================] - 0s 44ms/step - loss: 178.2513 - mean_squared_error: 178.2513 - val_loss: 130.1621 - val_mean_squared_error: 130.1621\n",
      "Epoch 43/100\n",
      "1/1 [==============================] - 0s 42ms/step - loss: 160.6748 - mean_squared_error: 160.6748 - val_loss: 129.1008 - val_mean_squared_error: 129.1008\n",
      "Epoch 44/100\n",
      "1/1 [==============================] - 0s 45ms/step - loss: 173.5286 - mean_squared_error: 173.5286 - val_loss: 128.3604 - val_mean_squared_error: 128.3604\n",
      "Epoch 45/100\n",
      "1/1 [==============================] - 0s 40ms/step - loss: 160.2678 - mean_squared_error: 160.2678 - val_loss: 127.8618 - val_mean_squared_error: 127.8618\n",
      "Epoch 46/100\n",
      "1/1 [==============================] - 0s 43ms/step - loss: 172.4281 - mean_squared_error: 172.4281 - val_loss: 127.5588 - val_mean_squared_error: 127.5588\n",
      "Epoch 47/100\n",
      "1/1 [==============================] - 0s 42ms/step - loss: 186.4053 - mean_squared_error: 186.4053 - val_loss: 127.3369 - val_mean_squared_error: 127.3369\n",
      "Epoch 48/100\n",
      "1/1 [==============================] - 0s 46ms/step - loss: 159.9160 - mean_squared_error: 159.9160 - val_loss: 127.1820 - val_mean_squared_error: 127.1820\n",
      "Epoch 49/100\n",
      "1/1 [==============================] - 0s 44ms/step - loss: 168.7939 - mean_squared_error: 168.7939 - val_loss: 127.0812 - val_mean_squared_error: 127.0812\n",
      "Epoch 50/100\n",
      "1/1 [==============================] - 0s 38ms/step - loss: 154.8908 - mean_squared_error: 154.8908 - val_loss: 127.0018 - val_mean_squared_error: 127.0018\n",
      "Epoch 51/100\n",
      "1/1 [==============================] - 0s 38ms/step - loss: 152.2089 - mean_squared_error: 152.2089 - val_loss: 126.9728 - val_mean_squared_error: 126.9728\n",
      "Epoch 52/100\n",
      "1/1 [==============================] - 0s 38ms/step - loss: 177.7316 - mean_squared_error: 177.7316 - val_loss: 127.0274 - val_mean_squared_error: 127.0274\n",
      "Epoch 53/100\n",
      "1/1 [==============================] - 0s 39ms/step - loss: 185.2265 - mean_squared_error: 185.2265 - val_loss: 127.1966 - val_mean_squared_error: 127.1966\n",
      "Epoch 54/100\n",
      "1/1 [==============================] - 0s 44ms/step - loss: 178.0305 - mean_squared_error: 178.0305 - val_loss: 127.4908 - val_mean_squared_error: 127.4908\n",
      "Epoch 55/100\n",
      "1/1 [==============================] - 0s 40ms/step - loss: 171.3807 - mean_squared_error: 171.3807 - val_loss: 128.0271 - val_mean_squared_error: 128.0271\n",
      "Epoch 56/100\n",
      "1/1 [==============================] - 0s 46ms/step - loss: 173.4775 - mean_squared_error: 173.4775 - val_loss: 128.6465 - val_mean_squared_error: 128.6465\n",
      "Epoch 57/100\n",
      "1/1 [==============================] - 0s 40ms/step - loss: 184.4949 - mean_squared_error: 184.4949 - val_loss: 129.3288 - val_mean_squared_error: 129.3288\n",
      "Epoch 58/100\n",
      "1/1 [==============================] - 0s 46ms/step - loss: 175.2062 - mean_squared_error: 175.2062 - val_loss: 130.0509 - val_mean_squared_error: 130.0509\n",
      "Epoch 59/100\n",
      "1/1 [==============================] - 0s 45ms/step - loss: 173.2548 - mean_squared_error: 173.2548 - val_loss: 130.6333 - val_mean_squared_error: 130.6333\n",
      "Epoch 60/100\n",
      "1/1 [==============================] - 0s 39ms/step - loss: 170.6690 - mean_squared_error: 170.6690 - val_loss: 130.8811 - val_mean_squared_error: 130.8811\n",
      "Epoch 61/100\n",
      "1/1 [==============================] - 0s 40ms/step - loss: 177.7359 - mean_squared_error: 177.7359 - val_loss: 131.1111 - val_mean_squared_error: 131.1111\n",
      "Epoch 62/100\n",
      "1/1 [==============================] - 0s 42ms/step - loss: 156.2712 - mean_squared_error: 156.2712 - val_loss: 130.9727 - val_mean_squared_error: 130.9727\n",
      "Epoch 63/100\n",
      "1/1 [==============================] - 0s 44ms/step - loss: 177.1680 - mean_squared_error: 177.1680 - val_loss: 130.7035 - val_mean_squared_error: 130.7035\n",
      "Epoch 64/100\n",
      "1/1 [==============================] - 0s 41ms/step - loss: 163.4957 - mean_squared_error: 163.4957 - val_loss: 130.2549 - val_mean_squared_error: 130.2549\n",
      "Epoch 65/100\n",
      "1/1 [==============================] - 0s 38ms/step - loss: 157.0844 - mean_squared_error: 157.0844 - val_loss: 129.5488 - val_mean_squared_error: 129.5488\n",
      "Epoch 66/100\n",
      "1/1 [==============================] - 0s 37ms/step - loss: 159.8821 - mean_squared_error: 159.8821 - val_loss: 128.7736 - val_mean_squared_error: 128.7736\n",
      "Epoch 67/100\n",
      "1/1 [==============================] - 0s 38ms/step - loss: 174.4499 - mean_squared_error: 174.4499 - val_loss: 128.1916 - val_mean_squared_error: 128.1916\n",
      "Epoch 68/100\n",
      "1/1 [==============================] - 0s 45ms/step - loss: 169.0547 - mean_squared_error: 169.0547 - val_loss: 127.5638 - val_mean_squared_error: 127.5638\n",
      "Epoch 69/100\n",
      "1/1 [==============================] - 0s 45ms/step - loss: 167.5190 - mean_squared_error: 167.5190 - val_loss: 126.9757 - val_mean_squared_error: 126.9757\n",
      "Epoch 70/100\n",
      "1/1 [==============================] - 0s 45ms/step - loss: 173.7001 - mean_squared_error: 173.7001 - val_loss: 126.4682 - val_mean_squared_error: 126.4682\n",
      "Epoch 71/100\n",
      "1/1 [==============================] - 0s 40ms/step - loss: 163.7894 - mean_squared_error: 163.7894 - val_loss: 126.0990 - val_mean_squared_error: 126.0990\n",
      "Epoch 72/100\n",
      "1/1 [==============================] - 0s 39ms/step - loss: 155.7762 - mean_squared_error: 155.7762 - val_loss: 125.7689 - val_mean_squared_error: 125.7689\n",
      "Epoch 73/100\n",
      "1/1 [==============================] - 0s 42ms/step - loss: 179.7972 - mean_squared_error: 179.7972 - val_loss: 125.4970 - val_mean_squared_error: 125.4970\n",
      "Epoch 74/100\n",
      "1/1 [==============================] - 0s 41ms/step - loss: 176.9561 - mean_squared_error: 176.9561 - val_loss: 125.3664 - val_mean_squared_error: 125.3664\n",
      "Epoch 75/100\n",
      "1/1 [==============================] - 0s 42ms/step - loss: 159.4345 - mean_squared_error: 159.4345 - val_loss: 125.4001 - val_mean_squared_error: 125.4001\n",
      "Epoch 76/100\n",
      "1/1 [==============================] - 0s 45ms/step - loss: 166.5805 - mean_squared_error: 166.5805 - val_loss: 125.3934 - val_mean_squared_error: 125.3934\n",
      "Epoch 77/100\n",
      "1/1 [==============================] - 0s 39ms/step - loss: 151.6692 - mean_squared_error: 151.6692 - val_loss: 125.2803 - val_mean_squared_error: 125.2803\n",
      "Epoch 78/100\n",
      "1/1 [==============================] - 0s 38ms/step - loss: 170.3731 - mean_squared_error: 170.3731 - val_loss: 125.2588 - val_mean_squared_error: 125.2588\n",
      "Epoch 79/100\n",
      "1/1 [==============================] - 0s 33ms/step - loss: 154.6581 - mean_squared_error: 154.6581 - val_loss: 125.1145 - val_mean_squared_error: 125.1145\n",
      "Epoch 80/100\n",
      "1/1 [==============================] - 0s 42ms/step - loss: 171.6293 - mean_squared_error: 171.6293 - val_loss: 125.0242 - val_mean_squared_error: 125.0242\n",
      "Epoch 81/100\n",
      "1/1 [==============================] - 0s 40ms/step - loss: 176.3065 - mean_squared_error: 176.3065 - val_loss: 125.0276 - val_mean_squared_error: 125.0276\n",
      "Epoch 82/100\n",
      "1/1 [==============================] - 0s 46ms/step - loss: 158.0218 - mean_squared_error: 158.0218 - val_loss: 124.8702 - val_mean_squared_error: 124.8702\n",
      "Epoch 83/100\n",
      "1/1 [==============================] - 0s 45ms/step - loss: 160.4239 - mean_squared_error: 160.4239 - val_loss: 124.6864 - val_mean_squared_error: 124.6864\n",
      "Epoch 84/100\n",
      "1/1 [==============================] - 0s 41ms/step - loss: 163.4997 - mean_squared_error: 163.4997 - val_loss: 124.4330 - val_mean_squared_error: 124.4330\n",
      "Epoch 85/100\n",
      "1/1 [==============================] - 0s 38ms/step - loss: 160.6057 - mean_squared_error: 160.6057 - val_loss: 124.1623 - val_mean_squared_error: 124.1623\n",
      "Epoch 86/100\n",
      "1/1 [==============================] - 0s 39ms/step - loss: 160.2729 - mean_squared_error: 160.2729 - val_loss: 123.9790 - val_mean_squared_error: 123.9790\n",
      "Epoch 87/100\n",
      "1/1 [==============================] - 0s 43ms/step - loss: 173.9622 - mean_squared_error: 173.9622 - val_loss: 123.8917 - val_mean_squared_error: 123.8917\n",
      "Epoch 88/100\n",
      "1/1 [==============================] - 0s 35ms/step - loss: 156.2168 - mean_squared_error: 156.2168 - val_loss: 123.7933 - val_mean_squared_error: 123.7933\n",
      "Epoch 89/100\n",
      "1/1 [==============================] - 0s 43ms/step - loss: 150.7457 - mean_squared_error: 150.7457 - val_loss: 123.6518 - val_mean_squared_error: 123.6518\n",
      "Epoch 90/100\n",
      "1/1 [==============================] - 0s 46ms/step - loss: 168.4212 - mean_squared_error: 168.4212 - val_loss: 123.5572 - val_mean_squared_error: 123.5572\n",
      "Epoch 91/100\n",
      "1/1 [==============================] - 0s 45ms/step - loss: 180.9432 - mean_squared_error: 180.9432 - val_loss: 123.5291 - val_mean_squared_error: 123.5291\n",
      "Epoch 92/100\n",
      "1/1 [==============================] - 0s 40ms/step - loss: 150.4230 - mean_squared_error: 150.4230 - val_loss: 123.5176 - val_mean_squared_error: 123.5176\n",
      "Epoch 93/100\n",
      "1/1 [==============================] - 0s 42ms/step - loss: 153.6185 - mean_squared_error: 153.6185 - val_loss: 123.4838 - val_mean_squared_error: 123.4838\n",
      "Epoch 94/100\n",
      "1/1 [==============================] - 0s 47ms/step - loss: 165.5336 - mean_squared_error: 165.5336 - val_loss: 123.4929 - val_mean_squared_error: 123.4929\n",
      "Epoch 95/100\n",
      "1/1 [==============================] - 0s 46ms/step - loss: 162.6353 - mean_squared_error: 162.6353 - val_loss: 123.4168 - val_mean_squared_error: 123.4168\n",
      "Epoch 96/100\n",
      "1/1 [==============================] - 0s 45ms/step - loss: 154.5514 - mean_squared_error: 154.5514 - val_loss: 123.2636 - val_mean_squared_error: 123.2636\n",
      "Epoch 97/100\n",
      "1/1 [==============================] - 0s 45ms/step - loss: 161.0209 - mean_squared_error: 161.0209 - val_loss: 123.1990 - val_mean_squared_error: 123.1990\n",
      "Epoch 98/100\n",
      "1/1 [==============================] - 0s 41ms/step - loss: 164.1208 - mean_squared_error: 164.1208 - val_loss: 122.9991 - val_mean_squared_error: 122.9991\n",
      "Epoch 99/100\n",
      "1/1 [==============================] - 0s 40ms/step - loss: 164.4188 - mean_squared_error: 164.4188 - val_loss: 122.8923 - val_mean_squared_error: 122.8923\n",
      "Epoch 100/100\n",
      "1/1 [==============================] - 0s 34ms/step - loss: 153.7340 - mean_squared_error: 153.7340 - val_loss: 122.7492 - val_mean_squared_error: 122.7492\n",
      "1/1 [==============================] - 0s 14ms/step - loss: 122.7492 - mean_squared_error: 122.7492\n",
      "loss : 122.74922943115234\n",
      "mean_squared_error : 122.74922943115234\n"
     ]
    }
   ],
   "source": [
    "#callback = EarlyStopping(monitor='loss', patience=3)\n",
    "model.fit(X_train, y_train, epochs=100, batch_size=100, validation_data=(X_test, y_test))\n",
    "loss_and_metrics = model.evaluate(X_test, y_test, batch_size=100)\n",
    "for name, metric in zip(model.metrics_names, loss_and_metrics):\n",
    "    print(name, \":\", metric)"
   ]
  },
  {
   "cell_type": "code",
   "execution_count": 30,
   "id": "tough-speaking",
   "metadata": {},
   "outputs": [],
   "source": [
    "import matplotlib.pyplot as plt"
   ]
  },
  {
   "cell_type": "code",
   "execution_count": 31,
   "id": "agricultural-recommendation",
   "metadata": {},
   "outputs": [
    {
     "data": {
      "text/plain": [
       "[<matplotlib.lines.Line2D at 0x7fe5347bf670>]"
      ]
     },
     "execution_count": 31,
     "metadata": {},
     "output_type": "execute_result"
    },
    {
     "data": {
      "image/png": "[encoded data removed]",
      "text/plain": [
       "<Figure size 432x288 with 1 Axes>"
      ]
     },
     "metadata": {
      "needs_background": "light"
     },
     "output_type": "display_data"
    }
   ],
   "source": [
    "y_hat = model.predict(X_train)\n",
    "plt.plot(y_train, y_hat, linestyle=\"\", marker=\".\")"
   ]
  },
  {
   "cell_type": "code",
   "execution_count": 32,
   "id": "treated-martial",
   "metadata": {},
   "outputs": [
    {
     "data": {
      "text/plain": [
       "[<matplotlib.lines.Line2D at 0x7fe53636d850>]"
      ]
     },
     "execution_count": 32,
     "metadata": {},
     "output_type": "execute_result"
    },
    {
     "data": {
      "image/png": "[encoded data removed]",
      "text/plain": [
       "<Figure size 432x288 with 1 Axes>"
      ]
     },
     "metadata": {
      "needs_background": "light"
     },
     "output_type": "display_data"
    }
   ],
   "source": [
    "y_hat = model.predict(X_test)\n",
    "plt.plot(y_test, y_hat, linestyle=\"\", marker=\".\")"
   ]
  },
  {
   "cell_type": "code",
   "execution_count": null,
   "id": "otherwise-association",
   "metadata": {},
   "outputs": [],
   "source": []
  }
 ],
 "metadata": {
  "kernelspec": {
   "display_name": "Python 3",
   "language": "python",
   "name": "python3"
  },
  "language_info": {
   "codemirror_mode": {
    "name": "ipython",
    "version": 3
   },
   "file_extension": ".py",
   "mimetype": "text/x-python",
   "name": "python",
   "nbconvert_exporter": "python",
   "pygments_lexer": "ipython3",
   "version": "3.8.8"
  }
 },
 "nbformat": 4,
 "nbformat_minor": 5
}
