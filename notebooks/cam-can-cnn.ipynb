{
 "cells": [
  {
   "cell_type": "code",
   "execution_count": 1,
   "id": "prepared-seven",
   "metadata": {},
   "outputs": [],
   "source": [
    "import afqinsight as afq"
   ]
  },
  {
   "cell_type": "code",
   "execution_count": 22,
   "id": "hydraulic-compact",
   "metadata": {},
   "outputs": [],
   "source": [
    "import numpy as np\n",
    "import pandas as pd\n",
    "import matplotlib.pyplot as plt\n",
    "from sklearn.model_selection import cross_val_score, train_test_split\n",
    "from sklearn.metrics import r2_score\n",
    "from tensorflow.keras.models import Sequential\n",
    "from keras.layers import Dense, Conv1D, Flatten, MaxPool1D, MaxPooling1D, Dropout\n",
    "from keras.regularizers import l1_l2, l2\n",
    "from keras.callbacks import EarlyStopping\n",
    "from sklearn.impute import SimpleImputer\n",
    "import kerastuner as kt"
   ]
  },
  {
   "cell_type": "code",
   "execution_count": 3,
   "id": "color-description",
   "metadata": {},
   "outputs": [
    {
     "data": {
      "text/plain": [
       "'/Users/ceciliabarnes/Documents/DIRECT/afq-cnn/notebooks'"
      ]
     },
     "execution_count": 3,
     "metadata": {},
     "output_type": "execute_result"
    }
   ],
   "source": [
    "pwd"
   ]
  },
  {
   "cell_type": "code",
   "execution_count": 4,
   "id": "becoming-moral",
   "metadata": {},
   "outputs": [],
   "source": [
    "X, y, groups, feature_names, group_names, subjects, classes = afq.datasets.load_afq_data(\n",
    "    workdir=\"../data/raw/cam-can\",\n",
    "    dwi_metrics=[\"dki_md\", \"dki_fa\"],\n",
    "    target_cols=[\"age\"],\n",
    "    index_col=\"Observations\",\n",
    "    fn_nodes=\"combined_tract_profiles.csv\",\n",
    "    fn_subjects=\"participant_data.tsv\",\n",
    ")"
   ]
  },
  {
   "cell_type": "code",
   "execution_count": 5,
   "id": "geological-amplifier",
   "metadata": {},
   "outputs": [
    {
     "data": {
      "text/plain": [
       "((641, 3600), (641,))"
      ]
     },
     "execution_count": 5,
     "metadata": {},
     "output_type": "execute_result"
    }
   ],
   "source": [
    "X.shape, y.shape"
   ]
  },
  {
   "cell_type": "code",
   "execution_count": 6,
   "id": "mechanical-universe",
   "metadata": {},
   "outputs": [],
   "source": [
    "nan_mask = np.logical_not(np.isnan(y))\n",
    "y = y[nan_mask]\n",
    "X = X[nan_mask, :]"
   ]
  },
  {
   "cell_type": "code",
   "execution_count": 7,
   "id": "anonymous-surrey",
   "metadata": {},
   "outputs": [],
   "source": [
    "X_train, X_test, y_train, y_test = train_test_split(X, y)"
   ]
  },
  {
   "cell_type": "code",
   "execution_count": 8,
   "id": "still-protection",
   "metadata": {},
   "outputs": [
    {
     "data": {
      "text/plain": [
       "0"
      ]
     },
     "execution_count": 8,
     "metadata": {},
     "output_type": "execute_result"
    }
   ],
   "source": [
    "np.count_nonzero(np.isnan(y_test))"
   ]
  },
  {
   "cell_type": "code",
   "execution_count": 9,
   "id": "discrete-contributor",
   "metadata": {},
   "outputs": [],
   "source": [
    "imp = SimpleImputer(strategy='median')\n",
    "imp.fit(X_train)\n",
    "X_train = imp.transform(X_train)\n",
    "X_test = imp.transform(X_test)\n",
    "#y_imp = SimpleImputer(strategy='median')\n",
    "#y_imp.fit(y_train)\n",
    "#y_train = imp.transform(y_train)\n",
    "#y_test = imp.transform(y_test)"
   ]
  },
  {
   "cell_type": "code",
   "execution_count": 10,
   "id": "mineral-maple",
   "metadata": {},
   "outputs": [
    {
     "data": {
      "text/plain": [
       "((480, 3600), (480,), (160, 3600), (160,))"
      ]
     },
     "execution_count": 10,
     "metadata": {},
     "output_type": "execute_result"
    }
   ],
   "source": [
    "X_train.shape, y_train.shape, X_test.shape, y_test.shape"
   ]
  },
  {
   "cell_type": "code",
   "execution_count": 11,
   "id": "weird-binary",
   "metadata": {},
   "outputs": [
    {
     "data": {
      "text/plain": [
       "480"
      ]
     },
     "execution_count": 11,
     "metadata": {},
     "output_type": "execute_result"
    }
   ],
   "source": [
    "X_train.shape[0]"
   ]
  },
  {
   "cell_type": "code",
   "execution_count": 12,
   "id": "ultimate-ethics",
   "metadata": {},
   "outputs": [],
   "source": [
    "X_train_reshaped = np.swapaxes(X_train.reshape((480, 36, 100)), 1, 2)\n",
    "X_test_reshaped = np.swapaxes(X_test.reshape((160, 36, 100)), 1, 2)"
   ]
  },
  {
   "cell_type": "code",
   "execution_count": 13,
   "id": "assigned-michael",
   "metadata": {},
   "outputs": [
    {
     "data": {
      "text/plain": [
       "((480, 3600), (160, 3600))"
      ]
     },
     "execution_count": 13,
     "metadata": {},
     "output_type": "execute_result"
    }
   ],
   "source": [
    "X_train.shape, X_test.shape"
   ]
  },
  {
   "cell_type": "code",
   "execution_count": 23,
   "id": "turned-poland",
   "metadata": {},
   "outputs": [],
   "source": [
    "def cam_can_model_builder(hp):\n",
    "\n",
    "    # input: 3+D tensor with shape: batch_shape + (steps, input_dim)\n",
    "    # output: 3+D tensor with shape: batch_shape + (new_steps, filters) steps value might have changed due to padding or strides.\n",
    "    model = Sequential()\n",
    "    \n",
    "    filters1 = hp.Int('filters1', min_value=32, max_value=512, step=32)\n",
    "    model.add(Dense(filters1, activation='relu', \n",
    "                    input_shape=X_train_reshaped.shape[1:]))\n",
    "    \n",
    "    filters2 = hp.Int('filters2', min_value=32, max_value=512, step=32)\n",
    "    kernel1 = hp.Int('kernel1', min_value=1, max_value=4, step=1)\n",
    "    model.add(Conv1D(filters2, kernel_size=kernel1, activation='relu'))\n",
    "    \n",
    "    model.add(MaxPool1D(pool_size=2,padding='same'))\n",
    "    \n",
    "    filters3 = hp.Int('filters3', min_value=32, max_value=512, step=32)\n",
    "    kernel2 = hp.Int('kernel2', min_value=1, max_value=4, step=1)\n",
    "    model.add(Conv1D(filters3, kernel_size=kernel2, activation='relu'))\n",
    "    \n",
    "    model.add(MaxPool1D(pool_size=2,padding='same'))\n",
    "    \n",
    "    filters4 = hp.Int('filters4', min_value=32, max_value=512, step=32)\n",
    "    kernel3 = hp.Int('kernel3', min_value=1, max_value=4, step=1)\n",
    "    model.add(Conv1D(filters4, kernel_size=kernel3, activation='relu'))\n",
    "    \n",
    "    model.add(MaxPool1D(pool_size=2,padding='same'))\n",
    "    \n",
    "    filters5 = hp.Int('filters5', min_value=32, max_value=512, step=32)\n",
    "    kernel4 = hp.Int('kernel4', min_value=1, max_value=4, step=1)\n",
    "    model.add(Conv1D(filters5, kernel_size=kernel4, activation='relu'))\n",
    "    \n",
    "    model.add(MaxPool1D(pool_size=2,padding='same'))\n",
    "    \n",
    "    filters6 = hp.Int('filters6', min_value=32, max_value=512, step=32)\n",
    "    kernel5 = hp.Int('kernel5', min_value=1, max_value=4, step=1)\n",
    "    model.add(Conv1D(filters6, kernel_size=kernel5, activation='relu'))\n",
    "    \n",
    "    model.add(MaxPool1D(pool_size=2,padding='same'))\n",
    "    model.add(Dropout(0.25))\n",
    "    model.add(Flatten())\n",
    "    \n",
    "    filters7 = hp.Int('filters7', min_value=32, max_value=512, step=32)\n",
    "    model.add(Dense(filters7, activation='relu'))\n",
    "    model.add(Dropout(0.25))\n",
    "    model.add(Dense(64, activation='relu'))\n",
    "    model.add(Dense(1, activation='linear'))\n",
    "\n",
    "    model.compile(loss='mean_squared_error',optimizer='adam',metrics=['mean_squared_error'])\n",
    "    return model"
   ]
  },
  {
   "cell_type": "code",
   "execution_count": 24,
   "id": "southeast-reproduction",
   "metadata": {},
   "outputs": [],
   "source": [
    "cam_can_tuner = kt.Hyperband(cam_can_model_builder,\n",
    "                             objective='mean_squared_error',\n",
    "                             max_epochs=5,\n",
    "                             factor=3,\n",
    "                             overwrite=True)"
   ]
  },
  {
   "cell_type": "code",
   "execution_count": 25,
   "id": "furnished-north",
   "metadata": {},
   "outputs": [
    {
     "name": "stdout",
     "output_type": "stream",
     "text": [
      "Trial 10 Complete [00h 00m 07s]\n",
      "mean_squared_error: 395.4204406738281\n",
      "\n",
      "Best mean_squared_error So Far: 393.8582458496094\n",
      "Total elapsed time: 00h 01m 00s\n",
      "INFO:tensorflow:Oracle triggered exit\n"
     ]
    }
   ],
   "source": [
    "#callback = EarlyStopping(monitor='loss', patience=10)\n",
    "cam_can_tuner.search(X_train_reshaped, y_train, epochs=50, validation_split=0.2)\n",
    "\n",
    "# Get the optimal hyperparameters\n",
    "best_hps=cam_can_tuner.get_best_hyperparameters(num_trials=1)[0]"
   ]
  },
  {
   "cell_type": "code",
   "execution_count": 27,
   "id": "quiet-corporation",
   "metadata": {
    "scrolled": true,
    "tags": []
   },
   "outputs": [],
   "source": [
    "# Build the model with the optimal hyperparameters and train it on the data for 50 epochs\n",
    "model = cam_can_tuner.hypermodel.build(best_hps)"
   ]
  },
  {
   "cell_type": "code",
   "execution_count": 29,
   "id": "systematic-removal",
   "metadata": {},
   "outputs": [],
   "source": [
    "from tensorflow.keras.callbacks import ModelCheckpoint"
   ]
  },
  {
   "cell_type": "code",
   "execution_count": 44,
   "id": "hourly-welsh",
   "metadata": {
    "scrolled": true,
    "tags": []
   },
   "outputs": [
    {
     "name": "stdout",
     "output_type": "stream",
     "text": [
      "Epoch 1/50\n",
      "12/12 [==============================] - 1s 82ms/step - loss: 21.2535 - mean_squared_error: 21.2535 - val_loss: 117.3266 - val_mean_squared_error: 117.3266\n",
      "\n",
      "Epoch 00001: val_loss improved from inf to 117.32661, saving model to train/weights.hdf5\n",
      "Epoch 2/50\n",
      "12/12 [==============================] - 1s 76ms/step - loss: 27.3696 - mean_squared_error: 27.3696 - val_loss: 127.6147 - val_mean_squared_error: 127.6147\n",
      "\n",
      "Epoch 00002: val_loss did not improve from 117.32661\n",
      "Epoch 3/50\n",
      "12/12 [==============================] - 1s 79ms/step - loss: 26.2609 - mean_squared_error: 26.2609 - val_loss: 104.5225 - val_mean_squared_error: 104.5225\n",
      "\n",
      "Epoch 00003: val_loss improved from 117.32661 to 104.52250, saving model to train/weights.hdf5\n",
      "Epoch 4/50\n",
      "12/12 [==============================] - 1s 78ms/step - loss: 20.8287 - mean_squared_error: 20.8287 - val_loss: 114.4653 - val_mean_squared_error: 114.4653\n",
      "\n",
      "Epoch 00004: val_loss did not improve from 104.52250\n",
      "Epoch 5/50\n",
      "12/12 [==============================] - 1s 75ms/step - loss: 22.9620 - mean_squared_error: 22.9620 - val_loss: 105.8944 - val_mean_squared_error: 105.8944\n",
      "\n",
      "Epoch 00005: val_loss did not improve from 104.52250\n",
      "Epoch 6/50\n",
      "12/12 [==============================] - 1s 78ms/step - loss: 25.3683 - mean_squared_error: 25.3683 - val_loss: 140.3619 - val_mean_squared_error: 140.3619\n",
      "\n",
      "Epoch 00006: val_loss did not improve from 104.52250\n",
      "Epoch 7/50\n",
      "12/12 [==============================] - 1s 79ms/step - loss: 23.5746 - mean_squared_error: 23.5746 - val_loss: 113.6313 - val_mean_squared_error: 113.6313\n",
      "\n",
      "Epoch 00007: val_loss did not improve from 104.52250\n",
      "Epoch 8/50\n",
      "12/12 [==============================] - 1s 100ms/step - loss: 27.8814 - mean_squared_error: 27.8814 - val_loss: 125.3991 - val_mean_squared_error: 125.3991\n",
      "\n",
      "Epoch 00008: val_loss did not improve from 104.52250\n",
      "Epoch 9/50\n",
      "12/12 [==============================] - 1s 86ms/step - loss: 23.1440 - mean_squared_error: 23.1440 - val_loss: 114.9411 - val_mean_squared_error: 114.9411\n",
      "\n",
      "Epoch 00009: val_loss did not improve from 104.52250\n",
      "Epoch 10/50\n",
      "12/12 [==============================] - 1s 85ms/step - loss: 23.1422 - mean_squared_error: 23.1422 - val_loss: 106.0663 - val_mean_squared_error: 106.0663\n",
      "\n",
      "Epoch 00010: val_loss did not improve from 104.52250\n",
      "Epoch 11/50\n",
      "12/12 [==============================] - 1s 76ms/step - loss: 25.2173 - mean_squared_error: 25.2173 - val_loss: 115.8054 - val_mean_squared_error: 115.8054\n",
      "\n",
      "Epoch 00011: val_loss did not improve from 104.52250\n",
      "Epoch 12/50\n",
      "12/12 [==============================] - 1s 76ms/step - loss: 23.0643 - mean_squared_error: 23.0643 - val_loss: 98.3468 - val_mean_squared_error: 98.3468\n",
      "\n",
      "Epoch 00012: val_loss improved from 104.52250 to 98.34679, saving model to train/weights.hdf5\n",
      "Epoch 13/50\n",
      "12/12 [==============================] - 1s 77ms/step - loss: 27.1549 - mean_squared_error: 27.1549 - val_loss: 109.0725 - val_mean_squared_error: 109.0725\n",
      "\n",
      "Epoch 00013: val_loss did not improve from 98.34679\n",
      "Epoch 14/50\n",
      "12/12 [==============================] - 1s 78ms/step - loss: 26.7432 - mean_squared_error: 26.7432 - val_loss: 156.7974 - val_mean_squared_error: 156.7974\n",
      "\n",
      "Epoch 00014: val_loss did not improve from 98.34679\n",
      "Epoch 15/50\n",
      "12/12 [==============================] - 1s 79ms/step - loss: 26.9074 - mean_squared_error: 26.9074 - val_loss: 114.9735 - val_mean_squared_error: 114.9735\n",
      "\n",
      "Epoch 00015: val_loss did not improve from 98.34679\n",
      "Epoch 16/50\n",
      "12/12 [==============================] - 1s 76ms/step - loss: 23.7758 - mean_squared_error: 23.7758 - val_loss: 108.3401 - val_mean_squared_error: 108.3401\n",
      "\n",
      "Epoch 00016: val_loss did not improve from 98.34679\n",
      "Epoch 17/50\n",
      "12/12 [==============================] - 1s 78ms/step - loss: 21.5383 - mean_squared_error: 21.5383 - val_loss: 114.7610 - val_mean_squared_error: 114.7610\n",
      "\n",
      "Epoch 00017: val_loss did not improve from 98.34679\n",
      "Epoch 18/50\n",
      "12/12 [==============================] - 1s 78ms/step - loss: 22.5940 - mean_squared_error: 22.5940 - val_loss: 101.0633 - val_mean_squared_error: 101.0633\n",
      "\n",
      "Epoch 00018: val_loss did not improve from 98.34679\n",
      "Epoch 19/50\n",
      "12/12 [==============================] - 1s 78ms/step - loss: 32.7203 - mean_squared_error: 32.7203 - val_loss: 116.5917 - val_mean_squared_error: 116.5917\n",
      "\n",
      "Epoch 00019: val_loss did not improve from 98.34679\n",
      "Epoch 20/50\n",
      "12/12 [==============================] - 1s 78ms/step - loss: 28.5428 - mean_squared_error: 28.5428 - val_loss: 112.6522 - val_mean_squared_error: 112.6522\n",
      "\n",
      "Epoch 00020: val_loss did not improve from 98.34679\n",
      "Epoch 21/50\n",
      "12/12 [==============================] - 1s 79ms/step - loss: 25.0525 - mean_squared_error: 25.0525 - val_loss: 126.2415 - val_mean_squared_error: 126.2415\n",
      "\n",
      "Epoch 00021: val_loss did not improve from 98.34679\n",
      "Epoch 22/50\n",
      "12/12 [==============================] - 1s 78ms/step - loss: 23.2645 - mean_squared_error: 23.2645 - val_loss: 107.8872 - val_mean_squared_error: 107.8872\n",
      "\n",
      "Epoch 00022: val_loss did not improve from 98.34679\n",
      "Epoch 23/50\n",
      "12/12 [==============================] - 1s 77ms/step - loss: 20.7846 - mean_squared_error: 20.7846 - val_loss: 105.6813 - val_mean_squared_error: 105.6813\n",
      "\n",
      "Epoch 00023: val_loss did not improve from 98.34679\n",
      "Epoch 24/50\n",
      "12/12 [==============================] - 1s 77ms/step - loss: 22.3487 - mean_squared_error: 22.3487 - val_loss: 113.8517 - val_mean_squared_error: 113.8517\n",
      "\n",
      "Epoch 00024: val_loss did not improve from 98.34679\n",
      "Epoch 25/50\n",
      "12/12 [==============================] - 1s 76ms/step - loss: 20.4031 - mean_squared_error: 20.4031 - val_loss: 114.4940 - val_mean_squared_error: 114.4940\n",
      "\n",
      "Epoch 00025: val_loss did not improve from 98.34679\n",
      "Epoch 26/50\n",
      "12/12 [==============================] - 1s 76ms/step - loss: 25.8561 - mean_squared_error: 25.8561 - val_loss: 122.2356 - val_mean_squared_error: 122.2356\n",
      "\n",
      "Epoch 00026: val_loss did not improve from 98.34679\n",
      "Epoch 27/50\n",
      "12/12 [==============================] - 1s 78ms/step - loss: 25.2760 - mean_squared_error: 25.2760 - val_loss: 114.0273 - val_mean_squared_error: 114.0273\n",
      "\n",
      "Epoch 00027: val_loss did not improve from 98.34679\n",
      "Epoch 28/50\n",
      "12/12 [==============================] - 1s 81ms/step - loss: 24.1526 - mean_squared_error: 24.1526 - val_loss: 128.7337 - val_mean_squared_error: 128.7337\n",
      "\n",
      "Epoch 00028: val_loss did not improve from 98.34679\n",
      "Epoch 29/50\n",
      "12/12 [==============================] - 1s 80ms/step - loss: 19.9271 - mean_squared_error: 19.9271 - val_loss: 127.3056 - val_mean_squared_error: 127.3056\n",
      "\n",
      "Epoch 00029: val_loss did not improve from 98.34679\n",
      "Epoch 30/50\n",
      "12/12 [==============================] - 1s 79ms/step - loss: 17.5261 - mean_squared_error: 17.5261 - val_loss: 115.5977 - val_mean_squared_error: 115.5977\n",
      "\n",
      "Epoch 00030: val_loss did not improve from 98.34679\n",
      "Epoch 31/50\n",
      "12/12 [==============================] - 1s 79ms/step - loss: 21.3947 - mean_squared_error: 21.3947 - val_loss: 108.3625 - val_mean_squared_error: 108.3625\n",
      "\n",
      "Epoch 00031: val_loss did not improve from 98.34679\n",
      "Epoch 32/50\n",
      "12/12 [==============================] - 1s 79ms/step - loss: 20.6799 - mean_squared_error: 20.6799 - val_loss: 125.8712 - val_mean_squared_error: 125.8712\n",
      "\n",
      "Epoch 00032: val_loss did not improve from 98.34679\n",
      "Epoch 33/50\n",
      "12/12 [==============================] - 1s 78ms/step - loss: 18.4543 - mean_squared_error: 18.4543 - val_loss: 110.3889 - val_mean_squared_error: 110.3889\n",
      "\n",
      "Epoch 00033: val_loss did not improve from 98.34679\n",
      "Epoch 34/50\n",
      "12/12 [==============================] - 1s 78ms/step - loss: 17.9500 - mean_squared_error: 17.9500 - val_loss: 120.5349 - val_mean_squared_error: 120.5349\n",
      "\n",
      "Epoch 00034: val_loss did not improve from 98.34679\n",
      "Epoch 35/50\n",
      "12/12 [==============================] - 1s 78ms/step - loss: 20.4794 - mean_squared_error: 20.4794 - val_loss: 106.6900 - val_mean_squared_error: 106.6900\n",
      "\n",
      "Epoch 00035: val_loss did not improve from 98.34679\n",
      "Epoch 36/50\n",
      "12/12 [==============================] - 1s 77ms/step - loss: 19.1813 - mean_squared_error: 19.1813 - val_loss: 111.3178 - val_mean_squared_error: 111.3178\n",
      "\n",
      "Epoch 00036: val_loss did not improve from 98.34679\n",
      "Epoch 37/50\n",
      "12/12 [==============================] - 1s 77ms/step - loss: 17.1556 - mean_squared_error: 17.1556 - val_loss: 116.2632 - val_mean_squared_error: 116.2632\n",
      "\n",
      "Epoch 00037: val_loss did not improve from 98.34679\n",
      "Epoch 38/50\n",
      "12/12 [==============================] - 1s 79ms/step - loss: 20.0683 - mean_squared_error: 20.0683 - val_loss: 118.5200 - val_mean_squared_error: 118.5200\n",
      "\n",
      "Epoch 00038: val_loss did not improve from 98.34679\n",
      "Epoch 39/50\n",
      "12/12 [==============================] - 1s 75ms/step - loss: 22.8551 - mean_squared_error: 22.8551 - val_loss: 109.2410 - val_mean_squared_error: 109.2410\n",
      "\n",
      "Epoch 00039: val_loss did not improve from 98.34679\n",
      "Epoch 40/50\n",
      "12/12 [==============================] - 1s 75ms/step - loss: 23.6783 - mean_squared_error: 23.6783 - val_loss: 116.7802 - val_mean_squared_error: 116.7802\n",
      "\n",
      "Epoch 00040: val_loss did not improve from 98.34679\n",
      "Epoch 41/50\n",
      "12/12 [==============================] - 1s 77ms/step - loss: 17.0554 - mean_squared_error: 17.0554 - val_loss: 110.6381 - val_mean_squared_error: 110.6381\n",
      "\n",
      "Epoch 00041: val_loss did not improve from 98.34679\n",
      "Epoch 42/50\n",
      "12/12 [==============================] - 1s 82ms/step - loss: 23.4168 - mean_squared_error: 23.4168 - val_loss: 105.0177 - val_mean_squared_error: 105.0177\n",
      "\n",
      "Epoch 00042: val_loss did not improve from 98.34679\n",
      "Epoch 43/50\n",
      "12/12 [==============================] - 1s 76ms/step - loss: 19.9434 - mean_squared_error: 19.9434 - val_loss: 127.7230 - val_mean_squared_error: 127.7230\n",
      "\n",
      "Epoch 00043: val_loss did not improve from 98.34679\n",
      "Epoch 44/50\n",
      "12/12 [==============================] - 1s 93ms/step - loss: 20.4013 - mean_squared_error: 20.4013 - val_loss: 134.3554 - val_mean_squared_error: 134.3554\n",
      "\n",
      "Epoch 00044: val_loss did not improve from 98.34679\n",
      "Epoch 45/50\n",
      "12/12 [==============================] - 1s 88ms/step - loss: 27.0261 - mean_squared_error: 27.0261 - val_loss: 154.7647 - val_mean_squared_error: 154.7647\n",
      "\n",
      "Epoch 00045: val_loss did not improve from 98.34679\n",
      "Epoch 46/50\n",
      "12/12 [==============================] - 1s 111ms/step - loss: 23.5394 - mean_squared_error: 23.5394 - val_loss: 117.7173 - val_mean_squared_error: 117.7173\n",
      "\n",
      "Epoch 00046: val_loss did not improve from 98.34679\n",
      "Epoch 47/50\n",
      "12/12 [==============================] - 1s 100ms/step - loss: 23.0101 - mean_squared_error: 23.0101 - val_loss: 105.1720 - val_mean_squared_error: 105.1720\n",
      "\n",
      "Epoch 00047: val_loss did not improve from 98.34679\n",
      "Epoch 48/50\n",
      "12/12 [==============================] - 1s 91ms/step - loss: 19.7438 - mean_squared_error: 19.7438 - val_loss: 113.1644 - val_mean_squared_error: 113.1644\n",
      "\n",
      "Epoch 00048: val_loss did not improve from 98.34679\n",
      "Epoch 49/50\n",
      "12/12 [==============================] - 1s 85ms/step - loss: 21.6215 - mean_squared_error: 21.6215 - val_loss: 130.2157 - val_mean_squared_error: 130.2157\n",
      "\n",
      "Epoch 00049: val_loss did not improve from 98.34679\n",
      "Epoch 50/50\n",
      "12/12 [==============================] - 1s 86ms/step - loss: 19.9179 - mean_squared_error: 19.9179 - val_loss: 137.8349 - val_mean_squared_error: 137.8349\n",
      "\n",
      "Epoch 00050: val_loss did not improve from 98.34679\n"
     ]
    },
    {
     "ename": "OSError",
     "evalue": "Unable to open file (unable to open file: name = 'weights.best.hdf5', errno = 2, error message = 'No such file or directory', flags = 0, o_flags = 0)",
     "output_type": "error",
     "traceback": [
      "\u001b[0;31m---------------------------------------------------------------------------\u001b[0m",
      "\u001b[0;31mOSError\u001b[0m                                   Traceback (most recent call last)",
      "\u001b[0;32m<ipython-input-44-9a1b94a23c08>\u001b[0m in \u001b[0;36m<module>\u001b[0;34m\u001b[0m\n\u001b[1;32m     16\u001b[0m \u001b[0mmodel\u001b[0m\u001b[0;34m.\u001b[0m\u001b[0mfit\u001b[0m\u001b[0;34m(\u001b[0m\u001b[0mX_train_reshaped\u001b[0m\u001b[0;34m,\u001b[0m \u001b[0my_train\u001b[0m\u001b[0;34m,\u001b[0m \u001b[0mepochs\u001b[0m\u001b[0;34m=\u001b[0m\u001b[0;36m50\u001b[0m\u001b[0;34m,\u001b[0m \u001b[0mcallbacks\u001b[0m\u001b[0;34m=\u001b[0m\u001b[0;34m[\u001b[0m\u001b[0mmodel_checkpoint_callback\u001b[0m\u001b[0;34m]\u001b[0m\u001b[0;34m,\u001b[0m \u001b[0mvalidation_split\u001b[0m\u001b[0;34m=\u001b[0m\u001b[0;36m0.2\u001b[0m\u001b[0;34m)\u001b[0m\u001b[0;34m\u001b[0m\u001b[0;34m\u001b[0m\u001b[0m\n\u001b[1;32m     17\u001b[0m \u001b[0;34m\u001b[0m\u001b[0m\n\u001b[0;32m---> 18\u001b[0;31m \u001b[0mmodel\u001b[0m\u001b[0;34m.\u001b[0m\u001b[0mload_weights\u001b[0m\u001b[0;34m(\u001b[0m\u001b[0;34m\"weights.best.hdf5\"\u001b[0m\u001b[0;34m)\u001b[0m\u001b[0;34m\u001b[0m\u001b[0;34m\u001b[0m\u001b[0m\n\u001b[0m\u001b[1;32m     19\u001b[0m \u001b[0;34m\u001b[0m\u001b[0m\n",
      "\u001b[0;32m~/opt/anaconda3/envs/direct_cnn/lib/python3.8/site-packages/tensorflow/python/keras/engine/training.py\u001b[0m in \u001b[0;36mload_weights\u001b[0;34m(self, filepath, by_name, skip_mismatch, options)\u001b[0m\n\u001b[1;32m   2225\u001b[0m           'first, then load the weights.')\n\u001b[1;32m   2226\u001b[0m     \u001b[0mself\u001b[0m\u001b[0;34m.\u001b[0m\u001b[0m_assert_weights_created\u001b[0m\u001b[0;34m(\u001b[0m\u001b[0;34m)\u001b[0m\u001b[0;34m\u001b[0m\u001b[0;34m\u001b[0m\u001b[0m\n\u001b[0;32m-> 2227\u001b[0;31m     \u001b[0;32mwith\u001b[0m \u001b[0mh5py\u001b[0m\u001b[0;34m.\u001b[0m\u001b[0mFile\u001b[0m\u001b[0;34m(\u001b[0m\u001b[0mfilepath\u001b[0m\u001b[0;34m,\u001b[0m \u001b[0;34m'r'\u001b[0m\u001b[0;34m)\u001b[0m \u001b[0;32mas\u001b[0m \u001b[0mf\u001b[0m\u001b[0;34m:\u001b[0m\u001b[0;34m\u001b[0m\u001b[0;34m\u001b[0m\u001b[0m\n\u001b[0m\u001b[1;32m   2228\u001b[0m       \u001b[0;32mif\u001b[0m \u001b[0;34m'layer_names'\u001b[0m \u001b[0;32mnot\u001b[0m \u001b[0;32min\u001b[0m \u001b[0mf\u001b[0m\u001b[0;34m.\u001b[0m\u001b[0mattrs\u001b[0m \u001b[0;32mand\u001b[0m \u001b[0;34m'model_weights'\u001b[0m \u001b[0;32min\u001b[0m \u001b[0mf\u001b[0m\u001b[0;34m:\u001b[0m\u001b[0;34m\u001b[0m\u001b[0;34m\u001b[0m\u001b[0m\n\u001b[1;32m   2229\u001b[0m         \u001b[0mf\u001b[0m \u001b[0;34m=\u001b[0m \u001b[0mf\u001b[0m\u001b[0;34m[\u001b[0m\u001b[0;34m'model_weights'\u001b[0m\u001b[0;34m]\u001b[0m\u001b[0;34m\u001b[0m\u001b[0;34m\u001b[0m\u001b[0m\n",
      "\u001b[0;32m~/opt/anaconda3/envs/direct_cnn/lib/python3.8/site-packages/h5py/_hl/files.py\u001b[0m in \u001b[0;36m__init__\u001b[0;34m(self, name, mode, driver, libver, userblock_size, swmr, rdcc_nslots, rdcc_nbytes, rdcc_w0, track_order, **kwds)\u001b[0m\n\u001b[1;32m    404\u001b[0m             \u001b[0;32mwith\u001b[0m \u001b[0mphil\u001b[0m\u001b[0;34m:\u001b[0m\u001b[0;34m\u001b[0m\u001b[0;34m\u001b[0m\u001b[0m\n\u001b[1;32m    405\u001b[0m                 \u001b[0mfapl\u001b[0m \u001b[0;34m=\u001b[0m \u001b[0mmake_fapl\u001b[0m\u001b[0;34m(\u001b[0m\u001b[0mdriver\u001b[0m\u001b[0;34m,\u001b[0m \u001b[0mlibver\u001b[0m\u001b[0;34m,\u001b[0m \u001b[0mrdcc_nslots\u001b[0m\u001b[0;34m,\u001b[0m \u001b[0mrdcc_nbytes\u001b[0m\u001b[0;34m,\u001b[0m \u001b[0mrdcc_w0\u001b[0m\u001b[0;34m,\u001b[0m \u001b[0;34m**\u001b[0m\u001b[0mkwds\u001b[0m\u001b[0;34m)\u001b[0m\u001b[0;34m\u001b[0m\u001b[0;34m\u001b[0m\u001b[0m\n\u001b[0;32m--> 406\u001b[0;31m                 fid = make_fid(name, mode, userblock_size,\n\u001b[0m\u001b[1;32m    407\u001b[0m                                \u001b[0mfapl\u001b[0m\u001b[0;34m,\u001b[0m \u001b[0mfcpl\u001b[0m\u001b[0;34m=\u001b[0m\u001b[0mmake_fcpl\u001b[0m\u001b[0;34m(\u001b[0m\u001b[0mtrack_order\u001b[0m\u001b[0;34m=\u001b[0m\u001b[0mtrack_order\u001b[0m\u001b[0;34m)\u001b[0m\u001b[0;34m,\u001b[0m\u001b[0;34m\u001b[0m\u001b[0;34m\u001b[0m\u001b[0m\n\u001b[1;32m    408\u001b[0m                                swmr=swmr)\n",
      "\u001b[0;32m~/opt/anaconda3/envs/direct_cnn/lib/python3.8/site-packages/h5py/_hl/files.py\u001b[0m in \u001b[0;36mmake_fid\u001b[0;34m(name, mode, userblock_size, fapl, fcpl, swmr)\u001b[0m\n\u001b[1;32m    171\u001b[0m         \u001b[0;32mif\u001b[0m \u001b[0mswmr\u001b[0m \u001b[0;32mand\u001b[0m \u001b[0mswmr_support\u001b[0m\u001b[0;34m:\u001b[0m\u001b[0;34m\u001b[0m\u001b[0;34m\u001b[0m\u001b[0m\n\u001b[1;32m    172\u001b[0m             \u001b[0mflags\u001b[0m \u001b[0;34m|=\u001b[0m \u001b[0mh5f\u001b[0m\u001b[0;34m.\u001b[0m\u001b[0mACC_SWMR_READ\u001b[0m\u001b[0;34m\u001b[0m\u001b[0;34m\u001b[0m\u001b[0m\n\u001b[0;32m--> 173\u001b[0;31m         \u001b[0mfid\u001b[0m \u001b[0;34m=\u001b[0m \u001b[0mh5f\u001b[0m\u001b[0;34m.\u001b[0m\u001b[0mopen\u001b[0m\u001b[0;34m(\u001b[0m\u001b[0mname\u001b[0m\u001b[0;34m,\u001b[0m \u001b[0mflags\u001b[0m\u001b[0;34m,\u001b[0m \u001b[0mfapl\u001b[0m\u001b[0;34m=\u001b[0m\u001b[0mfapl\u001b[0m\u001b[0;34m)\u001b[0m\u001b[0;34m\u001b[0m\u001b[0;34m\u001b[0m\u001b[0m\n\u001b[0m\u001b[1;32m    174\u001b[0m     \u001b[0;32melif\u001b[0m \u001b[0mmode\u001b[0m \u001b[0;34m==\u001b[0m \u001b[0;34m'r+'\u001b[0m\u001b[0;34m:\u001b[0m\u001b[0;34m\u001b[0m\u001b[0;34m\u001b[0m\u001b[0m\n\u001b[1;32m    175\u001b[0m         \u001b[0mfid\u001b[0m \u001b[0;34m=\u001b[0m \u001b[0mh5f\u001b[0m\u001b[0;34m.\u001b[0m\u001b[0mopen\u001b[0m\u001b[0;34m(\u001b[0m\u001b[0mname\u001b[0m\u001b[0;34m,\u001b[0m \u001b[0mh5f\u001b[0m\u001b[0;34m.\u001b[0m\u001b[0mACC_RDWR\u001b[0m\u001b[0;34m,\u001b[0m \u001b[0mfapl\u001b[0m\u001b[0;34m=\u001b[0m\u001b[0mfapl\u001b[0m\u001b[0;34m)\u001b[0m\u001b[0;34m\u001b[0m\u001b[0;34m\u001b[0m\u001b[0m\n",
      "\u001b[0;32mh5py/_objects.pyx\u001b[0m in \u001b[0;36mh5py._objects.with_phil.wrapper\u001b[0;34m()\u001b[0m\n",
      "\u001b[0;32mh5py/_objects.pyx\u001b[0m in \u001b[0;36mh5py._objects.with_phil.wrapper\u001b[0;34m()\u001b[0m\n",
      "\u001b[0;32mh5py/h5f.pyx\u001b[0m in \u001b[0;36mh5py.h5f.open\u001b[0;34m()\u001b[0m\n",
      "\u001b[0;31mOSError\u001b[0m: Unable to open file (unable to open file: name = 'weights.best.hdf5', errno = 2, error message = 'No such file or directory', flags = 0, o_flags = 0)"
     ]
    }
   ],
   "source": [
    "#history = model.fit(X_train_reshaped, y_train, epochs=50, validation_split=0.2)\n",
    "\n",
    "#mse_per_epoch = history.history['mean_squared_error']\n",
    "#best_epoch = mse_per_epoch.index(min(mse_per_epoch)) + 1\n",
    "#print('Best epoch: %d' % (best_epoch,))\n",
    "import os.path as op\n",
    "weights_path = op.join(\"train\", 'weights.hdf5')\n",
    "model_checkpoint_callback = ModelCheckpoint(filepath=weights_path,\n",
    "                                            monitor='val_loss',\n",
    "                                            mode='auto',\n",
    "                                            save_best_only=True,\n",
    "                                            save_weights_only=True,\n",
    "                                            verbose=True)\n",
    "\n",
    "# Fitting model using model checkpoint callback to find best model which is saved to 'weights'\n",
    "model.fit(X_train_reshaped, y_train, epochs=50, callbacks=[model_checkpoint_callback], validation_split=0.2)        "
   ]
  },
  {
   "cell_type": "code",
   "execution_count": 49,
   "id": "defensive-miami",
   "metadata": {},
   "outputs": [],
   "source": [
    "model.load_weights(weights_path)"
   ]
  },
  {
   "cell_type": "code",
   "execution_count": 50,
   "id": "geographic-driver",
   "metadata": {
    "scrolled": true,
    "tags": []
   },
   "outputs": [],
   "source": [
    "#hypermodel = cam_can_tuner.hypermodel.build(best_hps)\n",
    "\n",
    "# Retrain the model\n",
    "#hypermodel.fit(X_train_reshaped, y_train, epochs=best_epoch, validation_split=0.2)"
   ]
  },
  {
   "cell_type": "code",
   "execution_count": 52,
   "id": "banner-blast",
   "metadata": {},
   "outputs": [
    {
     "data": {
      "text/plain": [
       "[<matplotlib.lines.Line2D at 0x7f93c85d1280>]"
      ]
     },
     "execution_count": 52,
     "metadata": {},
     "output_type": "execute_result"
    },
    {
     "data": {
      "image/png": "[encoded data removed]",
      "text/plain": [
       "<Figure size 432x288 with 1 Axes>"
      ]
     },
     "metadata": {
      "needs_background": "light"
     },
     "output_type": "display_data"
    }
   ],
   "source": [
    "y_hat = model.predict(X_train_reshaped)\n",
    "plt.plot(y_train, y_hat, linestyle=\"\", marker=\".\")\n",
    "plt.plot([20, 70], [20, 70])"
   ]
  },
  {
   "cell_type": "code",
   "execution_count": 63,
   "id": "union-investor",
   "metadata": {},
   "outputs": [
    {
     "data": {
      "image/png": "[encoded data removed]",
      "text/plain": [
       "<Figure size 432x288 with 1 Axes>"
      ]
     },
     "metadata": {
      "needs_background": "light"
     },
     "output_type": "display_data"
    }
   ],
   "source": [
    "y_hat = model.predict(X_test_reshaped)\n",
    "plt.plot(y_test, y_hat, linestyle=\"\", marker=\".\")\n",
    "plt.plot([20, 70], [20, 70])\n",
    "plt.xlabel(\"X axis label\")\n",
    "plt.ylabel(\"Y axis label\")"
   ]
  },
  {
   "cell_type": "code",
   "execution_count": 54,
   "id": "charged-boost",
   "metadata": {},
   "outputs": [
    {
     "data": {
      "text/plain": [
       "0.5648199811503022"
      ]
     },
     "execution_count": 54,
     "metadata": {},
     "output_type": "execute_result"
    }
   ],
   "source": [
    "r2_score(y_test, y_hat)"
   ]
  },
  {
   "cell_type": "code",
   "execution_count": null,
   "id": "pressing-jacksonville",
   "metadata": {},
   "outputs": [],
   "source": []
  }
 ],
 "metadata": {
  "kernelspec": {
   "display_name": "Python 3",
   "language": "python",
   "name": "python3"
  },
  "language_info": {
   "codemirror_mode": {
    "name": "ipython",
    "version": 3
   },
   "file_extension": ".py",
   "mimetype": "text/x-python",
   "name": "python",
   "nbconvert_exporter": "python",
   "pygments_lexer": "ipython3",
   "version": "3.8.8"
  }
 },
 "nbformat": 4,
 "nbformat_minor": 5
}
