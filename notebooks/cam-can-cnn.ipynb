{
 "cells": [
  {
   "cell_type": "code",
   "execution_count": 1,
   "id": "organic-covering",
   "metadata": {},
   "outputs": [],
   "source": [
    "import afqinsight as afq"
   ]
  },
  {
   "cell_type": "code",
   "execution_count": 2,
   "id": "bigger-paradise",
   "metadata": {},
   "outputs": [],
   "source": [
    "import numpy as np\n",
    "import pandas as pd\n",
    "import matplotlib.pyplot as plt\n",
    "from sklearn.model_selection import cross_val_score, train_test_split\n",
    "from sklearn.metrics import r2_score\n",
    "from keras.models import Sequential\n",
    "from keras.layers import Dense, Conv1D, Flatten, MaxPool1D, MaxPooling1D, Dropout\n",
    "from keras.regularizers import l1_l2, l2\n",
    "from keras.callbacks import EarlyStopping\n",
    "from sklearn.impute import SimpleImputer\n",
    "import kerastuner as kt"
   ]
  },
  {
   "cell_type": "code",
   "execution_count": 3,
   "id": "english-publisher",
   "metadata": {},
   "outputs": [
    {
     "data": {
      "text/plain": [
       "'/Users/ceciliabarnes/Documents/DIRECT/afq-cnn/notebooks'"
      ]
     },
     "execution_count": 3,
     "metadata": {},
     "output_type": "execute_result"
    }
   ],
   "source": [
    "pwd"
   ]
  },
  {
   "cell_type": "code",
   "execution_count": 4,
   "id": "atlantic-sydney",
   "metadata": {},
   "outputs": [],
   "source": [
    "X, y, groups, feature_names, group_names, subjects, classes = afq.datasets.load_afq_data(\n",
    "    workdir=\"../data/raw/cam-can\",\n",
    "    dwi_metrics=[\"dki_md\", \"dki_fa\"],\n",
    "    target_cols=[\"age\"],\n",
    "    index_col=\"Observations\",\n",
    "    fn_nodes=\"combined_tract_profiles.csv\",\n",
    "    fn_subjects=\"participant_data.tsv\",\n",
    ")"
   ]
  },
  {
   "cell_type": "code",
   "execution_count": 5,
   "id": "regional-blank",
   "metadata": {},
   "outputs": [
    {
     "data": {
      "text/plain": [
       "((641, 3600), (641,))"
      ]
     },
     "execution_count": 5,
     "metadata": {},
     "output_type": "execute_result"
    }
   ],
   "source": [
    "X.shape, y.shape"
   ]
  },
  {
   "cell_type": "code",
   "execution_count": 6,
   "id": "junior-girlfriend",
   "metadata": {},
   "outputs": [],
   "source": [
    "nan_mask = np.logical_not(np.isnan(y))\n",
    "y = y[nan_mask]\n",
    "X = X[nan_mask, :]"
   ]
  },
  {
   "cell_type": "code",
   "execution_count": 7,
   "id": "functioning-liverpool",
   "metadata": {},
   "outputs": [],
   "source": [
    "X_train, X_test, y_train, y_test = train_test_split(X, y)"
   ]
  },
  {
   "cell_type": "code",
   "execution_count": 8,
   "id": "natural-rochester",
   "metadata": {},
   "outputs": [
    {
     "data": {
      "text/plain": [
       "0"
      ]
     },
     "execution_count": 8,
     "metadata": {},
     "output_type": "execute_result"
    }
   ],
   "source": [
    "np.count_nonzero(np.isnan(y_test))"
   ]
  },
  {
   "cell_type": "code",
   "execution_count": 9,
   "id": "exposed-orbit",
   "metadata": {},
   "outputs": [],
   "source": [
    "imp = SimpleImputer(strategy='median')\n",
    "imp.fit(X_train)\n",
    "X_train = imp.transform(X_train)\n",
    "X_test = imp.transform(X_test)\n",
    "#y_imp = SimpleImputer(strategy='median')\n",
    "#y_imp.fit(y_train)\n",
    "#y_train = imp.transform(y_train)\n",
    "#y_test = imp.transform(y_test)"
   ]
  },
  {
   "cell_type": "code",
   "execution_count": 10,
   "id": "isolated-smooth",
   "metadata": {},
   "outputs": [
    {
     "data": {
      "text/plain": [
       "((480, 3600), (480,), (160, 3600), (160,))"
      ]
     },
     "execution_count": 10,
     "metadata": {},
     "output_type": "execute_result"
    }
   ],
   "source": [
    "X_train.shape, y_train.shape, X_test.shape, y_test.shape"
   ]
  },
  {
   "cell_type": "code",
   "execution_count": 21,
   "id": "australian-immunology",
   "metadata": {},
   "outputs": [],
   "source": [
    "X_train_reshaped = np.swapaxes(X_train.reshape((480, 36, 100)), 1, 2)\n",
    "X_test_reshaped = np.swapaxes(X_test.reshape((160, 36, 100)), 1, 2)"
   ]
  },
  {
   "cell_type": "code",
   "execution_count": 22,
   "id": "associate-olive",
   "metadata": {},
   "outputs": [
    {
     "data": {
      "text/plain": [
       "((480, 3600), (160, 3600))"
      ]
     },
     "execution_count": 22,
     "metadata": {},
     "output_type": "execute_result"
    }
   ],
   "source": [
    "X_train.shape, X_test.shape"
   ]
  },
  {
   "cell_type": "code",
   "execution_count": 23,
   "id": "purple-nerve",
   "metadata": {},
   "outputs": [],
   "source": [
    "def cam_can_model_builder(hp):\n",
    "    model = Sequential()\n",
    "\n",
    "    # input: 3+D tensor with shape: batch_shape + (steps, input_dim)\n",
    "    # output: 3+D tensor with shape: batch_shape + (new_steps, filters) steps value might have changed due to padding or strides.\n",
    "    model = Sequential()\n",
    "    \n",
    "    filters1 = hp.Int('filters1', min_value=32, max_value=512, step=32)\n",
    "    model.add(Dense(filters1, activation='relu', \n",
    "                    input_shape=X_train_reshaped.shape[1:]))\n",
    "    \n",
    "    filters2 = hp.Int('filters2', min_value=32, max_value=512, step=32)\n",
    "    kernel1 = hp.Int('kernel1', min_value=1, max_value=4, step=1)\n",
    "    model.add(Conv1D(filters2, kernel_size=kernel1, activation='relu'))\n",
    "    \n",
    "    model.add(MaxPool1D(pool_size=2,padding='same'))\n",
    "    \n",
    "    filters3 = hp.Int('filters3', min_value=32, max_value=512, step=32)\n",
    "    kernel2 = hp.Int('kernel2', min_value=1, max_value=4, step=1)\n",
    "    model.add(Conv1D(filters3, kernel_size=kernel2, activation='relu'))\n",
    "    \n",
    "    model.add(MaxPool1D(pool_size=2,padding='same'))\n",
    "    \n",
    "    filters4 = hp.Int('filters4', min_value=32, max_value=512, step=32)\n",
    "    kernel3 = hp.Int('kernel3', min_value=1, max_value=4, step=1)\n",
    "    model.add(Conv1D(filters4, kernel_size=kernel3, activation='relu'))\n",
    "    \n",
    "    model.add(MaxPool1D(pool_size=2,padding='same'))\n",
    "    \n",
    "    filters5 = hp.Int('filters5', min_value=32, max_value=512, step=32)\n",
    "    kernel4 = hp.Int('kernel4', min_value=1, max_value=4, step=1)\n",
    "    model.add(Conv1D(filters5, kernel_size=kernel4, activation='relu'))\n",
    "    \n",
    "    model.add(MaxPool1D(pool_size=2,padding='same'))\n",
    "    \n",
    "    filters6 = hp.Int('filters6', min_value=32, max_value=512, step=32)\n",
    "    kernel5 = hp.Int('kernel5', min_value=1, max_value=4, step=1)\n",
    "    model.add(Conv1D(filters6, kernel_size=kernel5, activation='relu'))\n",
    "    \n",
    "    model.add(MaxPool1D(pool_size=2,padding='same'))\n",
    "    model.add(Dropout(0.25))\n",
    "    model.add(Flatten())\n",
    "    \n",
    "    filters7 = hp.Int('filters7', min_value=32, max_value=512, step=32)\n",
    "    model.add(Dense(filters7, activation='relu'))\n",
    "    model.add(Dropout(0.25))\n",
    "    model.add(Dense(64, activation='relu'))\n",
    "    model.add(Dense(1, activation='linear'))\n",
    "\n",
    "    model.compile(loss='mean_squared_error',optimizer='adam',metrics=['mean_squared_error'])\n",
    "    return model"
   ]
  },
  {
   "cell_type": "code",
   "execution_count": 26,
   "id": "matched-pointer",
   "metadata": {},
   "outputs": [
    {
     "name": "stdout",
     "output_type": "stream",
     "text": [
      "INFO:tensorflow:Reloading Oracle from existing project ./untitled_project/oracle.json\n",
      "INFO:tensorflow:Reloading Tuner from ./untitled_project/tuner0.json\n"
     ]
    }
   ],
   "source": [
    "cam_can_tuner = kt.Hyperband(cam_can_model_builder,\n",
    "                     objective='mean_squared_error',\n",
    "                     max_epochs=5,\n",
    "                     factor=3)"
   ]
  },
  {
   "cell_type": "code",
   "execution_count": 27,
   "id": "running-young",
   "metadata": {},
   "outputs": [
    {
     "name": "stdout",
     "output_type": "stream",
     "text": [
      "INFO:tensorflow:Oracle triggered exit\n"
     ]
    }
   ],
   "source": [
    "#callback = EarlyStopping(monitor='loss', patience=10)\n",
    "cam_can_tuner.search(X_train_reshaped, y_train, epochs=50, validation_split=0.2)\n",
    "\n",
    "# Get the optimal hyperparameters\n",
    "best_hps=cam_can_tuner.get_best_hyperparameters(num_trials=1)[0]"
   ]
  },
  {
   "cell_type": "code",
   "execution_count": 17,
   "id": "creative-publication",
   "metadata": {},
   "outputs": [
    {
     "data": {
      "text/plain": [
       "{'units1': 192,\n",
       " 'units2': 122,\n",
       " 'units3': 262,\n",
       " 'units4': 332,\n",
       " 'units5': 374,\n",
       " 'units6': 1,\n",
       " 'units7': 206,\n",
       " 'units8': 4,\n",
       " 'units9': 290,\n",
       " 'tuner/epochs': 10,\n",
       " 'tuner/initial_epoch': 0,\n",
       " 'tuner/bracket': 0,\n",
       " 'tuner/round': 0}"
      ]
     },
     "execution_count": 17,
     "metadata": {},
     "output_type": "execute_result"
    }
   ],
   "source": [
    "cam_can_tuner.get_best_hyperparameters()[0].values"
   ]
  },
  {
   "cell_type": "code",
   "execution_count": 17,
   "id": "handy-fighter",
   "metadata": {
    "scrolled": true,
    "tags": []
   },
   "outputs": [
    {
     "name": "stdout",
     "output_type": "stream",
     "text": [
      "Epoch 1/50\n",
      "12/12 [==============================] - 1s 74ms/step - loss: 3191.4615 - mean_squared_error: 3191.4615 - val_loss: 3162.3835 - val_mean_squared_error: 3162.3835\n",
      "Epoch 2/50\n",
      "12/12 [==============================] - 0s 9ms/step - loss: 3136.6451 - mean_squared_error: 3136.6451 - val_loss: 2786.4329 - val_mean_squared_error: 2786.4329\n",
      "Epoch 3/50\n",
      "12/12 [==============================] - 0s 8ms/step - loss: 2381.0273 - mean_squared_error: 2381.0273 - val_loss: 1348.3407 - val_mean_squared_error: 1348.3407\n",
      "Epoch 4/50\n",
      "12/12 [==============================] - 0s 8ms/step - loss: 915.5265 - mean_squared_error: 915.5265 - val_loss: 471.7397 - val_mean_squared_error: 471.7397\n",
      "Epoch 5/50\n",
      "12/12 [==============================] - 0s 9ms/step - loss: 568.2979 - mean_squared_error: 568.2979 - val_loss: 449.6156 - val_mean_squared_error: 449.6156\n",
      "Epoch 6/50\n",
      "12/12 [==============================] - 0s 8ms/step - loss: 530.9675 - mean_squared_error: 530.9675 - val_loss: 356.6227 - val_mean_squared_error: 356.6227\n",
      "Epoch 7/50\n",
      "12/12 [==============================] - 0s 9ms/step - loss: 465.1953 - mean_squared_error: 465.1953 - val_loss: 378.3800 - val_mean_squared_error: 378.3800\n",
      "Epoch 8/50\n",
      "12/12 [==============================] - 0s 8ms/step - loss: 430.3561 - mean_squared_error: 430.3561 - val_loss: 363.8499 - val_mean_squared_error: 363.8499\n",
      "Epoch 9/50\n",
      "12/12 [==============================] - 0s 8ms/step - loss: 456.8649 - mean_squared_error: 456.8649 - val_loss: 391.0275 - val_mean_squared_error: 391.0275\n",
      "Epoch 10/50\n",
      "12/12 [==============================] - 0s 8ms/step - loss: 447.3627 - mean_squared_error: 447.3627 - val_loss: 375.6062 - val_mean_squared_error: 375.6062\n",
      "Epoch 11/50\n",
      "12/12 [==============================] - 0s 8ms/step - loss: 481.1681 - mean_squared_error: 481.1681 - val_loss: 373.0016 - val_mean_squared_error: 373.0016\n",
      "Epoch 12/50\n",
      "12/12 [==============================] - 0s 8ms/step - loss: 446.1110 - mean_squared_error: 446.1110 - val_loss: 394.8852 - val_mean_squared_error: 394.8852\n",
      "Epoch 13/50\n",
      "12/12 [==============================] - 0s 7ms/step - loss: 463.3464 - mean_squared_error: 463.3464 - val_loss: 366.3880 - val_mean_squared_error: 366.3880\n",
      "Epoch 14/50\n",
      "12/12 [==============================] - 0s 8ms/step - loss: 476.8028 - mean_squared_error: 476.8028 - val_loss: 400.1421 - val_mean_squared_error: 400.1421\n",
      "Epoch 15/50\n",
      "12/12 [==============================] - 0s 8ms/step - loss: 470.1593 - mean_squared_error: 470.1593 - val_loss: 359.6338 - val_mean_squared_error: 359.6338\n",
      "Epoch 16/50\n",
      "12/12 [==============================] - 0s 8ms/step - loss: 417.5225 - mean_squared_error: 417.5225 - val_loss: 391.0852 - val_mean_squared_error: 391.0852\n",
      "Epoch 17/50\n",
      "12/12 [==============================] - 0s 7ms/step - loss: 447.4535 - mean_squared_error: 447.4535 - val_loss: 366.7448 - val_mean_squared_error: 366.7448\n",
      "Epoch 18/50\n",
      "12/12 [==============================] - 0s 8ms/step - loss: 435.2346 - mean_squared_error: 435.2346 - val_loss: 380.5798 - val_mean_squared_error: 380.5798\n",
      "Epoch 19/50\n",
      "12/12 [==============================] - 0s 8ms/step - loss: 432.7260 - mean_squared_error: 432.7260 - val_loss: 378.6082 - val_mean_squared_error: 378.6082\n",
      "Epoch 20/50\n",
      "12/12 [==============================] - 0s 8ms/step - loss: 462.0601 - mean_squared_error: 462.0601 - val_loss: 385.7652 - val_mean_squared_error: 385.7652\n",
      "Epoch 21/50\n",
      "12/12 [==============================] - 0s 8ms/step - loss: 446.2328 - mean_squared_error: 446.2328 - val_loss: 380.1970 - val_mean_squared_error: 380.1970\n",
      "Epoch 22/50\n",
      "12/12 [==============================] - 0s 8ms/step - loss: 424.8352 - mean_squared_error: 424.8352 - val_loss: 386.5199 - val_mean_squared_error: 386.5199\n",
      "Epoch 23/50\n",
      "12/12 [==============================] - 0s 8ms/step - loss: 402.9725 - mean_squared_error: 402.9725 - val_loss: 387.8139 - val_mean_squared_error: 387.8139\n",
      "Epoch 24/50\n",
      "12/12 [==============================] - 0s 8ms/step - loss: 412.2972 - mean_squared_error: 412.2972 - val_loss: 380.6576 - val_mean_squared_error: 380.6576\n",
      "Epoch 25/50\n",
      "12/12 [==============================] - 0s 8ms/step - loss: 381.7744 - mean_squared_error: 381.7744 - val_loss: 378.7863 - val_mean_squared_error: 378.7863\n",
      "Epoch 26/50\n",
      "12/12 [==============================] - 0s 8ms/step - loss: 441.3925 - mean_squared_error: 441.3925 - val_loss: 378.7105 - val_mean_squared_error: 378.7105\n",
      "Epoch 27/50\n",
      "12/12 [==============================] - 0s 8ms/step - loss: 401.7729 - mean_squared_error: 401.7729 - val_loss: 389.8628 - val_mean_squared_error: 389.8628\n",
      "Epoch 28/50\n",
      "12/12 [==============================] - 0s 9ms/step - loss: 447.7587 - mean_squared_error: 447.7587 - val_loss: 389.2920 - val_mean_squared_error: 389.2920\n",
      "Epoch 29/50\n",
      "12/12 [==============================] - 0s 8ms/step - loss: 424.5979 - mean_squared_error: 424.5979 - val_loss: 392.0929 - val_mean_squared_error: 392.0929\n",
      "Epoch 30/50\n",
      "12/12 [==============================] - 0s 8ms/step - loss: 416.2364 - mean_squared_error: 416.2364 - val_loss: 419.1040 - val_mean_squared_error: 419.1040\n",
      "Epoch 31/50\n",
      "12/12 [==============================] - 0s 11ms/step - loss: 450.8929 - mean_squared_error: 450.8929 - val_loss: 390.6551 - val_mean_squared_error: 390.6551\n",
      "Epoch 32/50\n",
      "12/12 [==============================] - 0s 8ms/step - loss: 420.9016 - mean_squared_error: 420.9016 - val_loss: 408.4837 - val_mean_squared_error: 408.4837\n",
      "Epoch 33/50\n",
      "12/12 [==============================] - 0s 7ms/step - loss: 384.3967 - mean_squared_error: 384.3967 - val_loss: 384.2558 - val_mean_squared_error: 384.2558\n",
      "Epoch 34/50\n",
      "12/12 [==============================] - 0s 8ms/step - loss: 438.3157 - mean_squared_error: 438.3157 - val_loss: 405.8059 - val_mean_squared_error: 405.8059\n",
      "Epoch 35/50\n",
      "12/12 [==============================] - 0s 8ms/step - loss: 411.8102 - mean_squared_error: 411.8102 - val_loss: 387.2461 - val_mean_squared_error: 387.2461\n",
      "Epoch 36/50\n",
      "12/12 [==============================] - 0s 9ms/step - loss: 431.9381 - mean_squared_error: 431.9381 - val_loss: 402.1023 - val_mean_squared_error: 402.1023\n",
      "Epoch 37/50\n",
      "12/12 [==============================] - 0s 7ms/step - loss: 402.2206 - mean_squared_error: 402.2206 - val_loss: 393.2407 - val_mean_squared_error: 393.2407\n",
      "Epoch 38/50\n",
      "12/12 [==============================] - 0s 8ms/step - loss: 425.9087 - mean_squared_error: 425.9087 - val_loss: 386.0887 - val_mean_squared_error: 386.0887\n",
      "Epoch 39/50\n",
      "12/12 [==============================] - 0s 8ms/step - loss: 414.0958 - mean_squared_error: 414.0958 - val_loss: 380.7032 - val_mean_squared_error: 380.7032\n",
      "Epoch 40/50\n",
      "12/12 [==============================] - 0s 8ms/step - loss: 401.0598 - mean_squared_error: 401.0598 - val_loss: 374.0699 - val_mean_squared_error: 374.0699\n",
      "Epoch 41/50\n",
      "12/12 [==============================] - 0s 8ms/step - loss: 418.8307 - mean_squared_error: 418.8307 - val_loss: 441.6438 - val_mean_squared_error: 441.6438\n",
      "Epoch 42/50\n",
      "12/12 [==============================] - 0s 8ms/step - loss: 413.6478 - mean_squared_error: 413.6478 - val_loss: 383.1675 - val_mean_squared_error: 383.1675\n",
      "Epoch 43/50\n",
      "12/12 [==============================] - 0s 8ms/step - loss: 413.1269 - mean_squared_error: 413.1269 - val_loss: 397.9814 - val_mean_squared_error: 397.9814\n",
      "Epoch 44/50\n",
      "12/12 [==============================] - 0s 8ms/step - loss: 400.1516 - mean_squared_error: 400.1516 - val_loss: 406.7034 - val_mean_squared_error: 406.7034\n",
      "Epoch 45/50\n",
      "12/12 [==============================] - 0s 8ms/step - loss: 381.1436 - mean_squared_error: 381.1436 - val_loss: 427.9974 - val_mean_squared_error: 427.9974\n",
      "Epoch 46/50\n",
      "12/12 [==============================] - 0s 9ms/step - loss: 406.5496 - mean_squared_error: 406.5496 - val_loss: 402.0416 - val_mean_squared_error: 402.0416\n",
      "Epoch 47/50\n",
      "12/12 [==============================] - 0s 9ms/step - loss: 383.3662 - mean_squared_error: 383.3662 - val_loss: 394.5340 - val_mean_squared_error: 394.5340\n",
      "Epoch 48/50\n",
      "12/12 [==============================] - 0s 7ms/step - loss: 420.5142 - mean_squared_error: 420.5142 - val_loss: 515.7563 - val_mean_squared_error: 515.7563\n",
      "Epoch 49/50\n",
      "12/12 [==============================] - 0s 8ms/step - loss: 463.0015 - mean_squared_error: 463.0015 - val_loss: 372.3042 - val_mean_squared_error: 372.3042\n",
      "Epoch 50/50\n",
      "12/12 [==============================] - 0s 8ms/step - loss: 397.8828 - mean_squared_error: 397.8828 - val_loss: 481.4170 - val_mean_squared_error: 481.4170\n",
      "Best epoch: 40\n"
     ]
    }
   ],
   "source": [
    "# Build the model with the optimal hyperparameters and train it on the data for 50 epochs\n",
    "model = cam_can_tuner.hypermodel.build(best_hps)\n",
    "history = model.fit(X_train_reshaped, y_train, epochs=50, validation_split=0.2)\n",
    "\n",
    "mse_per_epoch = history.history['mean_squared_error']\n",
    "best_epoch = mse_per_epoch.index(min(mse_per_epoch)) + 1\n",
    "print('Best epoch: %d' % (best_epoch,))"
   ]
  },
  {
   "cell_type": "code",
   "execution_count": 18,
   "id": "herbal-fitting",
   "metadata": {},
   "outputs": [],
   "source": [
    "#model.summary()"
   ]
  },
  {
   "cell_type": "code",
   "execution_count": 19,
   "id": "chronic-situation",
   "metadata": {
    "scrolled": true,
    "tags": []
   },
   "outputs": [
    {
     "name": "stdout",
     "output_type": "stream",
     "text": [
      "Epoch 1/40\n",
      "12/12 [==============================] - 1s 23ms/step - loss: 3298.1723 - mean_squared_error: 3298.1723 - val_loss: 3212.0691 - val_mean_squared_error: 3212.0691\n",
      "Epoch 2/40\n",
      "12/12 [==============================] - 0s 9ms/step - loss: 3164.7210 - mean_squared_error: 3164.7210 - val_loss: 2984.5693 - val_mean_squared_error: 2984.5693\n",
      "Epoch 3/40\n",
      "12/12 [==============================] - 0s 8ms/step - loss: 2687.5960 - mean_squared_error: 2687.5960 - val_loss: 1835.6149 - val_mean_squared_error: 1835.6149\n",
      "Epoch 4/40\n",
      "12/12 [==============================] - 0s 9ms/step - loss: 1289.6447 - mean_squared_error: 1289.6447 - val_loss: 495.1778 - val_mean_squared_error: 495.1778\n",
      "Epoch 5/40\n",
      "12/12 [==============================] - 0s 7ms/step - loss: 621.9527 - mean_squared_error: 621.9527 - val_loss: 433.6857 - val_mean_squared_error: 433.6857\n",
      "Epoch 6/40\n",
      "12/12 [==============================] - 0s 8ms/step - loss: 512.0238 - mean_squared_error: 512.0238 - val_loss: 356.5697 - val_mean_squared_error: 356.5697\n",
      "Epoch 7/40\n",
      "12/12 [==============================] - 0s 7ms/step - loss: 444.9118 - mean_squared_error: 444.9118 - val_loss: 367.6602 - val_mean_squared_error: 367.6602\n",
      "Epoch 8/40\n",
      "12/12 [==============================] - 0s 8ms/step - loss: 460.1824 - mean_squared_error: 460.1824 - val_loss: 355.6340 - val_mean_squared_error: 355.6340\n",
      "Epoch 9/40\n",
      "12/12 [==============================] - 0s 8ms/step - loss: 485.4542 - mean_squared_error: 485.4542 - val_loss: 355.9872 - val_mean_squared_error: 355.9872\n",
      "Epoch 10/40\n",
      "12/12 [==============================] - 0s 8ms/step - loss: 469.8083 - mean_squared_error: 469.8083 - val_loss: 350.6208 - val_mean_squared_error: 350.6208\n",
      "Epoch 11/40\n",
      "12/12 [==============================] - 0s 7ms/step - loss: 438.9181 - mean_squared_error: 438.9181 - val_loss: 350.1791 - val_mean_squared_error: 350.1791\n",
      "Epoch 12/40\n",
      "12/12 [==============================] - 0s 8ms/step - loss: 450.5479 - mean_squared_error: 450.5479 - val_loss: 398.0550 - val_mean_squared_error: 398.0550\n",
      "Epoch 13/40\n",
      "12/12 [==============================] - 0s 11ms/step - loss: 443.5686 - mean_squared_error: 443.5686 - val_loss: 345.9380 - val_mean_squared_error: 345.9380\n",
      "Epoch 14/40\n",
      "12/12 [==============================] - 0s 8ms/step - loss: 427.7749 - mean_squared_error: 427.7749 - val_loss: 377.3744 - val_mean_squared_error: 377.3744\n",
      "Epoch 15/40\n",
      "12/12 [==============================] - 0s 8ms/step - loss: 461.0646 - mean_squared_error: 461.0646 - val_loss: 354.4844 - val_mean_squared_error: 354.4844\n",
      "Epoch 16/40\n",
      "12/12 [==============================] - 0s 7ms/step - loss: 416.8449 - mean_squared_error: 416.8449 - val_loss: 354.6620 - val_mean_squared_error: 354.6620\n",
      "Epoch 17/40\n",
      "12/12 [==============================] - 0s 8ms/step - loss: 481.8716 - mean_squared_error: 481.8716 - val_loss: 368.4732 - val_mean_squared_error: 368.4732\n",
      "Epoch 18/40\n",
      "12/12 [==============================] - 0s 8ms/step - loss: 426.1932 - mean_squared_error: 426.1932 - val_loss: 375.4687 - val_mean_squared_error: 375.4687\n",
      "Epoch 19/40\n",
      "12/12 [==============================] - 0s 8ms/step - loss: 395.1959 - mean_squared_error: 395.1959 - val_loss: 350.3368 - val_mean_squared_error: 350.3368\n",
      "Epoch 20/40\n",
      "12/12 [==============================] - 0s 8ms/step - loss: 418.5405 - mean_squared_error: 418.5405 - val_loss: 397.5883 - val_mean_squared_error: 397.5883\n",
      "Epoch 21/40\n",
      "12/12 [==============================] - 0s 8ms/step - loss: 404.3635 - mean_squared_error: 404.3635 - val_loss: 350.3391 - val_mean_squared_error: 350.3391\n",
      "Epoch 22/40\n",
      "12/12 [==============================] - 0s 7ms/step - loss: 442.9747 - mean_squared_error: 442.9747 - val_loss: 370.8507 - val_mean_squared_error: 370.8507\n",
      "Epoch 23/40\n",
      "12/12 [==============================] - 0s 8ms/step - loss: 420.9662 - mean_squared_error: 420.9662 - val_loss: 361.2956 - val_mean_squared_error: 361.2956\n",
      "Epoch 24/40\n",
      "12/12 [==============================] - 0s 8ms/step - loss: 397.8268 - mean_squared_error: 397.8268 - val_loss: 384.3617 - val_mean_squared_error: 384.3617\n",
      "Epoch 25/40\n",
      "12/12 [==============================] - 0s 8ms/step - loss: 417.3578 - mean_squared_error: 417.3578 - val_loss: 349.1803 - val_mean_squared_error: 349.1803\n",
      "Epoch 26/40\n",
      "12/12 [==============================] - 0s 8ms/step - loss: 418.7455 - mean_squared_error: 418.7455 - val_loss: 401.9637 - val_mean_squared_error: 401.9637\n",
      "Epoch 27/40\n",
      "12/12 [==============================] - 0s 8ms/step - loss: 419.9520 - mean_squared_error: 419.9520 - val_loss: 341.1814 - val_mean_squared_error: 341.1814\n",
      "Epoch 28/40\n",
      "12/12 [==============================] - 0s 8ms/step - loss: 442.7172 - mean_squared_error: 442.7172 - val_loss: 396.8096 - val_mean_squared_error: 396.8096\n",
      "Epoch 29/40\n",
      "12/12 [==============================] - 0s 8ms/step - loss: 464.3128 - mean_squared_error: 464.3128 - val_loss: 367.3610 - val_mean_squared_error: 367.3610\n",
      "Epoch 30/40\n",
      "12/12 [==============================] - 0s 8ms/step - loss: 425.4980 - mean_squared_error: 425.4980 - val_loss: 366.0576 - val_mean_squared_error: 366.0576\n",
      "Epoch 31/40\n",
      "12/12 [==============================] - 0s 8ms/step - loss: 440.0998 - mean_squared_error: 440.0998 - val_loss: 374.8243 - val_mean_squared_error: 374.8243\n",
      "Epoch 32/40\n",
      "12/12 [==============================] - 0s 8ms/step - loss: 416.8963 - mean_squared_error: 416.8963 - val_loss: 362.2344 - val_mean_squared_error: 362.2344\n",
      "Epoch 33/40\n",
      "12/12 [==============================] - 0s 9ms/step - loss: 400.3170 - mean_squared_error: 400.3170 - val_loss: 375.8446 - val_mean_squared_error: 375.8446\n",
      "Epoch 34/40\n",
      "12/12 [==============================] - 0s 8ms/step - loss: 390.6867 - mean_squared_error: 390.6867 - val_loss: 354.5001 - val_mean_squared_error: 354.5001\n",
      "Epoch 35/40\n",
      "12/12 [==============================] - 0s 9ms/step - loss: 402.9239 - mean_squared_error: 402.9239 - val_loss: 370.9270 - val_mean_squared_error: 370.9270\n",
      "Epoch 36/40\n",
      "12/12 [==============================] - 0s 9ms/step - loss: 409.9802 - mean_squared_error: 409.9802 - val_loss: 396.3511 - val_mean_squared_error: 396.3511\n",
      "Epoch 37/40\n",
      "12/12 [==============================] - 0s 8ms/step - loss: 436.1313 - mean_squared_error: 436.1313 - val_loss: 343.8175 - val_mean_squared_error: 343.8175\n",
      "Epoch 38/40\n",
      "12/12 [==============================] - 0s 10ms/step - loss: 423.4285 - mean_squared_error: 423.4285 - val_loss: 389.0898 - val_mean_squared_error: 389.0898\n",
      "Epoch 39/40\n",
      "12/12 [==============================] - 0s 8ms/step - loss: 434.5831 - mean_squared_error: 434.5831 - val_loss: 335.3462 - val_mean_squared_error: 335.3462\n",
      "Epoch 40/40\n",
      "12/12 [==============================] - 0s 8ms/step - loss: 420.7090 - mean_squared_error: 420.7090 - val_loss: 371.8438 - val_mean_squared_error: 371.8438\n"
     ]
    },
    {
     "data": {
      "text/plain": [
       "<tensorflow.python.keras.callbacks.History at 0x7faf6f70b1f0>"
      ]
     },
     "execution_count": 19,
     "metadata": {},
     "output_type": "execute_result"
    }
   ],
   "source": [
    "hypermodel = cam_can_tuner.hypermodel.build(best_hps)\n",
    "\n",
    "# Retrain the model\n",
    "hypermodel.fit(X_train_reshaped, y_train, epochs=best_epoch, validation_split=0.2)"
   ]
  },
  {
   "cell_type": "code",
   "execution_count": 20,
   "id": "alive-major",
   "metadata": {},
   "outputs": [
    {
     "data": {
      "text/plain": [
       "[<matplotlib.lines.Line2D at 0x7faf70a8a190>]"
      ]
     },
     "execution_count": 20,
     "metadata": {},
     "output_type": "execute_result"
    },
    {
     "data": {
      "image/png": "[encoded data removed]",
      "text/plain": [
       "<Figure size 432x288 with 1 Axes>"
      ]
     },
     "metadata": {
      "needs_background": "light"
     },
     "output_type": "display_data"
    }
   ],
   "source": [
    "y_hat = hypermodel.predict(X_train_reshaped)\n",
    "plt.plot(y_train, y_hat, linestyle=\"\", marker=\".\")\n",
    "plt.plot([20, 70], [20, 70])"
   ]
  },
  {
   "cell_type": "code",
   "execution_count": 21,
   "id": "composed-karaoke",
   "metadata": {},
   "outputs": [
    {
     "data": {
      "text/plain": [
       "[<matplotlib.lines.Line2D at 0x7faf700efd90>]"
      ]
     },
     "execution_count": 21,
     "metadata": {},
     "output_type": "execute_result"
    },
    {
     "data": {
      "image/png": "[encoded data removed]",
      "text/plain": [
       "<Figure size 432x288 with 1 Axes>"
      ]
     },
     "metadata": {
      "needs_background": "light"
     },
     "output_type": "display_data"
    }
   ],
   "source": [
    "y_hat = hypermodel.predict(X_test_reshaped)\n",
    "plt.plot(y_test, y_hat, linestyle=\"\", marker=\".\")\n",
    "plt.plot([20, 70], [20, 70])"
   ]
  },
  {
   "cell_type": "code",
   "execution_count": 22,
   "id": "juvenile-institution",
   "metadata": {},
   "outputs": [
    {
     "data": {
      "text/plain": [
       "-0.23829178078955726"
      ]
     },
     "execution_count": 22,
     "metadata": {},
     "output_type": "execute_result"
    }
   ],
   "source": [
    "r2_score(y_test, y_hat)"
   ]
  },
  {
   "cell_type": "code",
   "execution_count": null,
   "id": "saved-mattress",
   "metadata": {},
   "outputs": [],
   "source": []
  }
 ],
 "metadata": {
  "kernelspec": {
   "display_name": "Python 3",
   "language": "python",
   "name": "python3"
  },
  "language_info": {
   "codemirror_mode": {
    "name": "ipython",
    "version": 3
   },
   "file_extension": ".py",
   "mimetype": "text/x-python",
   "name": "python",
   "nbconvert_exporter": "python",
   "pygments_lexer": "ipython3",
   "version": "3.8.8"
  }
 },
 "nbformat": 4,
 "nbformat_minor": 5
}
