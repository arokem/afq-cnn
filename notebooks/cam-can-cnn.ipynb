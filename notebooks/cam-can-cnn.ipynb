{
 "cells": [
  {
   "cell_type": "code",
   "execution_count": 1,
   "id": "concrete-visibility",
   "metadata": {},
   "outputs": [],
   "source": [
    "import afqinsight as afq"
   ]
  },
  {
   "cell_type": "code",
   "execution_count": 75,
   "id": "affiliated-surrey",
   "metadata": {},
   "outputs": [],
   "source": [
    "import numpy as np\n",
    "import pandas as pd\n",
    "import matplotlib.pyplot as plt\n",
    "from sklearn.model_selection import cross_val_score, train_test_split\n",
    "from sklearn.metrics import r2_score\n",
    "from keras.models import Sequential\n",
    "from keras.layers import Dense, Conv1D, Flatten, MaxPool1D, MaxPooling1D, Dropout\n",
    "from keras.regularizers import l1_l2, l2\n",
    "from keras.callbacks import EarlyStopping\n",
    "from sklearn.impute import SimpleImputer"
   ]
  },
  {
   "cell_type": "code",
   "execution_count": 5,
   "id": "stunning-alabama",
   "metadata": {},
   "outputs": [
    {
     "data": {
      "text/plain": [
       "'/Users/ceciliabarnes/Documents/DIRECT/afq-cnn/notebooks'"
      ]
     },
     "execution_count": 5,
     "metadata": {},
     "output_type": "execute_result"
    }
   ],
   "source": [
    "pwd"
   ]
  },
  {
   "cell_type": "code",
   "execution_count": 43,
   "id": "logical-couple",
   "metadata": {},
   "outputs": [],
   "source": [
    "X, y, groups, feature_names, group_names, subjects, classes = afq.datasets.load_afq_data(\n",
    "    workdir=\"../data/raw/cam-can\",\n",
    "    dwi_metrics=[\"dki_md\", \"dki_fa\"],\n",
    "    target_cols=[\"age\"],\n",
    "    index_col=\"Observations\",\n",
    "    fn_nodes=\"combined_tract_profiles.csv\",\n",
    "    fn_subjects=\"participant_data.tsv\",\n",
    ")"
   ]
  },
  {
   "cell_type": "code",
   "execution_count": 44,
   "id": "cognitive-angle",
   "metadata": {},
   "outputs": [
    {
     "data": {
      "text/plain": [
       "((641, 3600), (641,))"
      ]
     },
     "execution_count": 44,
     "metadata": {},
     "output_type": "execute_result"
    }
   ],
   "source": [
    "X.shape, y.shape"
   ]
  },
  {
   "cell_type": "code",
   "execution_count": 45,
   "id": "enormous-zambia",
   "metadata": {},
   "outputs": [],
   "source": [
    "X_train, X_test, y_train, y_test = train_test_split(X, y)"
   ]
  },
  {
   "cell_type": "code",
   "execution_count": 78,
   "id": "brief-blast",
   "metadata": {},
   "outputs": [
    {
     "data": {
      "text/plain": [
       "1"
      ]
     },
     "execution_count": 78,
     "metadata": {},
     "output_type": "execute_result"
    }
   ],
   "source": [
    "np.count_nonzero(np.isnan(y_test))"
   ]
  },
  {
   "cell_type": "code",
   "execution_count": 80,
   "id": "architectural-pastor",
   "metadata": {},
   "outputs": [],
   "source": [
    "imp = SimpleImputer(strategy='median')\n",
    "imp.fit(X_train)\n",
    "X_train = imp.transform(X_train)\n",
    "X_test = imp.transform(X_test)\n",
    "#y_imp = SimpleImputer(strategy='median')\n",
    "#y_imp.fit(y_train)\n",
    "#y_train = imp.transform(y_train)\n",
    "#y_test = imp.transform(y_test)"
   ]
  },
  {
   "cell_type": "code",
   "execution_count": 66,
   "id": "hundred-diagram",
   "metadata": {},
   "outputs": [
    {
     "data": {
      "text/plain": [
       "((480, 3600), (480,), (161, 3600), (161,))"
      ]
     },
     "execution_count": 66,
     "metadata": {},
     "output_type": "execute_result"
    }
   ],
   "source": [
    "X_train.shape, y_train.shape, X_test.shape, y_test.shape"
   ]
  },
  {
   "cell_type": "code",
   "execution_count": 67,
   "id": "unnecessary-expert",
   "metadata": {},
   "outputs": [],
   "source": [
    "X_train_reshaped = np.swapaxes(X_train.reshape((480, 36, 100)), 1, 2)\n",
    "X_test_reshaped = np.swapaxes(X_test.reshape((161, 36, 100)), 1, 2)"
   ]
  },
  {
   "cell_type": "code",
   "execution_count": 68,
   "id": "defined-packaging",
   "metadata": {},
   "outputs": [
    {
     "data": {
      "text/plain": [
       "((480, 3600), (161, 3600))"
      ]
     },
     "execution_count": 68,
     "metadata": {},
     "output_type": "execute_result"
    }
   ],
   "source": [
    "X_train.shape, X_test.shape"
   ]
  },
  {
   "cell_type": "code",
   "execution_count": 69,
   "id": "coastal-settlement",
   "metadata": {},
   "outputs": [],
   "source": [
    "model = Sequential()\n",
    "\n",
    "# input: 3+D tensor with shape: batch_shape + (steps, input_dim)\n",
    "# output: 3+D tensor with shape: batch_shape + (new_steps, filters) steps value might have changed due to padding or strides.\n",
    "model = Sequential()\n",
    "model.add(Dense(128, activation='relu', \n",
    "                input_shape=X_train_reshaped.shape[1:],\n",
    "                kernel_regularizer=l1_l2(l1=1e-5, l2=1e-4),\n",
    "                bias_regularizer=l2(1e-4),\n",
    "                activity_regularizer=l2(1e-5)))\n",
    "model.add(Conv1D(24, kernel_size=2, activation='relu'))\n",
    "model.add(MaxPool1D(pool_size=2,padding='same'))\n",
    "model.add(Conv1D(32, kernel_size=2, activation='relu'))\n",
    "model.add(MaxPool1D(pool_size=2,padding='same'))\n",
    "model.add(Conv1D(64, kernel_size=3, activation='relu'))\n",
    "model.add(MaxPool1D(pool_size=2,padding='same'))\n",
    "model.add(Conv1D(128, kernel_size=4, activation='relu'))\n",
    "model.add(MaxPool1D(pool_size=2,padding='same'))\n",
    "model.add(Conv1D(256, kernel_size=4, activation='relu'))\n",
    "model.add(MaxPool1D(pool_size=2,padding='same'))\n",
    "model.add(Dropout(0.25))\n",
    "model.add(Flatten())\n",
    "model.add(Dense(128, activation='relu',\n",
    "                kernel_regularizer=l1_l2(l1=1e-5, l2=1e-4),\n",
    "                bias_regularizer=l2(1e-4),\n",
    "                activity_regularizer=l2(1e-5)))\n",
    "model.add(Dropout(0.25))\n",
    "model.add(Dense(64, activation='relu',\n",
    "                kernel_regularizer=l1_l2(l1=1e-5, l2=1e-4),\n",
    "                bias_regularizer=l2(1e-4),\n",
    "                activity_regularizer=l2(1e-5)))\n",
    "model.add(Dense(1, activation='linear'))\n",
    "\n",
    "model.compile(loss='mean_squared_error',optimizer='adam',metrics=['mean_squared_error'])"
   ]
  },
  {
   "cell_type": "code",
   "execution_count": 70,
   "id": "later-mambo",
   "metadata": {},
   "outputs": [
    {
     "name": "stdout",
     "output_type": "stream",
     "text": [
      "Model: \"sequential_13\"\n",
      "_________________________________________________________________\n",
      "Layer (type)                 Output Shape              Param #   \n",
      "=================================================================\n",
      "dense_14 (Dense)             (None, 100, 128)          4736      \n",
      "_________________________________________________________________\n",
      "conv1d_20 (Conv1D)           (None, 99, 24)            6168      \n",
      "_________________________________________________________________\n",
      "max_pooling1d_20 (MaxPooling (None, 50, 24)            0         \n",
      "_________________________________________________________________\n",
      "conv1d_21 (Conv1D)           (None, 49, 32)            1568      \n",
      "_________________________________________________________________\n",
      "max_pooling1d_21 (MaxPooling (None, 25, 32)            0         \n",
      "_________________________________________________________________\n",
      "conv1d_22 (Conv1D)           (None, 23, 64)            6208      \n",
      "_________________________________________________________________\n",
      "max_pooling1d_22 (MaxPooling (None, 12, 64)            0         \n",
      "_________________________________________________________________\n",
      "conv1d_23 (Conv1D)           (None, 9, 128)            32896     \n",
      "_________________________________________________________________\n",
      "max_pooling1d_23 (MaxPooling (None, 5, 128)            0         \n",
      "_________________________________________________________________\n",
      "conv1d_24 (Conv1D)           (None, 2, 256)            131328    \n",
      "_________________________________________________________________\n",
      "max_pooling1d_24 (MaxPooling (None, 1, 256)            0         \n",
      "_________________________________________________________________\n",
      "dropout_7 (Dropout)          (None, 1, 256)            0         \n",
      "_________________________________________________________________\n",
      "flatten_4 (Flatten)          (None, 256)               0         \n",
      "_________________________________________________________________\n",
      "dense_15 (Dense)             (None, 128)               32896     \n",
      "_________________________________________________________________\n",
      "dropout_8 (Dropout)          (None, 128)               0         \n",
      "_________________________________________________________________\n",
      "dense_16 (Dense)             (None, 64)                8256      \n",
      "_________________________________________________________________\n",
      "dense_17 (Dense)             (None, 1)                 65        \n",
      "=================================================================\n",
      "Total params: 224,121\n",
      "Trainable params: 224,121\n",
      "Non-trainable params: 0\n",
      "_________________________________________________________________\n"
     ]
    }
   ],
   "source": [
    "model.summary()"
   ]
  },
  {
   "cell_type": "code",
   "execution_count": 71,
   "id": "another-appliance",
   "metadata": {
    "scrolled": true,
    "tags": []
   },
   "outputs": [
    {
     "name": "stdout",
     "output_type": "stream",
     "text": [
      "Epoch 1/100\n",
      "5/5 [==============================] - 1s 106ms/step - loss: 3198.9117 - mean_squared_error: 3198.8454 - val_loss: nan - val_mean_squared_error: nan\n",
      "Epoch 2/100\n",
      "5/5 [==============================] - 0s 47ms/step - loss: 2824.2993 - mean_squared_error: 2824.2324 - val_loss: nan - val_mean_squared_error: nan\n",
      "Epoch 3/100\n",
      "5/5 [==============================] - 0s 46ms/step - loss: 884.9366 - mean_squared_error: 884.8120 - val_loss: nan - val_mean_squared_error: nan\n",
      "Epoch 4/100\n",
      "5/5 [==============================] - 0s 45ms/step - loss: 607.5257 - mean_squared_error: 607.3588 - val_loss: nan - val_mean_squared_error: nan\n",
      "Epoch 5/100\n",
      "5/5 [==============================] - 0s 44ms/step - loss: 738.6654 - mean_squared_error: 738.5685 - val_loss: nan - val_mean_squared_error: nan\n",
      "Epoch 6/100\n",
      "5/5 [==============================] - 0s 46ms/step - loss: 497.1970 - mean_squared_error: 497.0730 - val_loss: nan - val_mean_squared_error: nan\n",
      "Epoch 7/100\n",
      "5/5 [==============================] - 0s 45ms/step - loss: 576.1914 - mean_squared_error: 576.0188 - val_loss: nan - val_mean_squared_error: nan\n",
      "Epoch 8/100\n",
      "5/5 [==============================] - 0s 46ms/step - loss: 448.0444 - mean_squared_error: 447.9219 - val_loss: nan - val_mean_squared_error: nan\n",
      "Epoch 9/100\n",
      "5/5 [==============================] - 0s 46ms/step - loss: 457.6559 - mean_squared_error: 457.5308 - val_loss: nan - val_mean_squared_error: nan\n",
      "Epoch 10/100\n",
      "5/5 [==============================] - 0s 44ms/step - loss: 419.4170 - mean_squared_error: 419.2682 - val_loss: nan - val_mean_squared_error: nan\n",
      "Epoch 11/100\n",
      "5/5 [==============================] - 0s 45ms/step - loss: 459.6916 - mean_squared_error: 459.5633 - val_loss: nan - val_mean_squared_error: nan\n",
      "Epoch 12/100\n",
      "5/5 [==============================] - 0s 45ms/step - loss: 447.6845 - mean_squared_error: 447.5573 - val_loss: nan - val_mean_squared_error: nan\n",
      "Epoch 13/100\n",
      "5/5 [==============================] - 0s 51ms/step - loss: 387.6193 - mean_squared_error: 387.4800 - val_loss: nan - val_mean_squared_error: nan\n",
      "Epoch 14/100\n",
      "5/5 [==============================] - 0s 47ms/step - loss: 394.5876 - mean_squared_error: 394.4554 - val_loss: nan - val_mean_squared_error: nan\n",
      "Epoch 15/100\n",
      "5/5 [==============================] - 0s 48ms/step - loss: 405.0436 - mean_squared_error: 404.9146 - val_loss: nan - val_mean_squared_error: nan\n",
      "Epoch 16/100\n",
      "5/5 [==============================] - 0s 48ms/step - loss: 436.5910 - mean_squared_error: 436.4571 - val_loss: nan - val_mean_squared_error: nan\n",
      "Epoch 17/100\n",
      "5/5 [==============================] - 0s 45ms/step - loss: 418.7218 - mean_squared_error: 418.5957 - val_loss: nan - val_mean_squared_error: nan\n",
      "Epoch 18/100\n",
      "5/5 [==============================] - 0s 46ms/step - loss: 412.1124 - mean_squared_error: 411.9792 - val_loss: nan - val_mean_squared_error: nan\n",
      "Epoch 19/100\n",
      "5/5 [==============================] - 0s 46ms/step - loss: 412.4657 - mean_squared_error: 412.3362 - val_loss: nan - val_mean_squared_error: nan\n",
      "Epoch 20/100\n",
      "5/5 [==============================] - 0s 45ms/step - loss: 400.6955 - mean_squared_error: 400.5681 - val_loss: nan - val_mean_squared_error: nan\n",
      "Epoch 21/100\n",
      "5/5 [==============================] - 0s 45ms/step - loss: 412.9728 - mean_squared_error: 412.8394 - val_loss: nan - val_mean_squared_error: nan\n",
      "Epoch 22/100\n",
      "5/5 [==============================] - 0s 45ms/step - loss: 405.3734 - mean_squared_error: 405.2463 - val_loss: nan - val_mean_squared_error: nan\n",
      "Epoch 23/100\n",
      "5/5 [==============================] - 0s 45ms/step - loss: 371.6071 - mean_squared_error: 371.4771 - val_loss: nan - val_mean_squared_error: nan\n",
      "Epoch 24/100\n",
      "5/5 [==============================] - 0s 46ms/step - loss: 407.0587 - mean_squared_error: 406.9306 - val_loss: nan - val_mean_squared_error: nan\n",
      "Epoch 25/100\n",
      "5/5 [==============================] - 0s 49ms/step - loss: 401.2965 - mean_squared_error: 401.1666 - val_loss: nan - val_mean_squared_error: nan\n",
      "Epoch 26/100\n",
      "5/5 [==============================] - 0s 47ms/step - loss: 395.0822 - mean_squared_error: 394.9592 - val_loss: nan - val_mean_squared_error: nan\n",
      "Epoch 27/100\n",
      "5/5 [==============================] - 0s 45ms/step - loss: 410.1439 - mean_squared_error: 410.0139 - val_loss: nan - val_mean_squared_error: nan\n",
      "Epoch 28/100\n",
      "5/5 [==============================] - 0s 47ms/step - loss: 378.0408 - mean_squared_error: 377.9142 - val_loss: nan - val_mean_squared_error: nan\n",
      "Epoch 29/100\n",
      "5/5 [==============================] - 0s 45ms/step - loss: 374.1117 - mean_squared_error: 373.9899 - val_loss: nan - val_mean_squared_error: nan\n",
      "Epoch 30/100\n",
      "5/5 [==============================] - 0s 53ms/step - loss: 364.3989 - mean_squared_error: 364.2711 - val_loss: nan - val_mean_squared_error: nan\n",
      "Epoch 31/100\n",
      "5/5 [==============================] - 0s 47ms/step - loss: 354.5411 - mean_squared_error: 354.4167 - val_loss: nan - val_mean_squared_error: nan\n",
      "Epoch 32/100\n",
      "5/5 [==============================] - 0s 46ms/step - loss: 381.1218 - mean_squared_error: 380.9978 - val_loss: nan - val_mean_squared_error: nan\n",
      "Epoch 33/100\n",
      "5/5 [==============================] - 0s 47ms/step - loss: 356.0759 - mean_squared_error: 355.9474 - val_loss: nan - val_mean_squared_error: nan\n",
      "Epoch 34/100\n",
      "5/5 [==============================] - 0s 48ms/step - loss: 423.5486 - mean_squared_error: 423.4318 - val_loss: nan - val_mean_squared_error: nan\n",
      "Epoch 35/100\n",
      "5/5 [==============================] - 0s 64ms/step - loss: 352.3173 - mean_squared_error: 352.1885 - val_loss: nan - val_mean_squared_error: nan\n",
      "Epoch 36/100\n",
      "5/5 [==============================] - 0s 51ms/step - loss: 363.2203 - mean_squared_error: 363.0949 - val_loss: nan - val_mean_squared_error: nan\n",
      "Epoch 37/100\n",
      "5/5 [==============================] - 0s 47ms/step - loss: 370.2893 - mean_squared_error: 370.1706 - val_loss: nan - val_mean_squared_error: nan\n",
      "Epoch 38/100\n",
      "5/5 [==============================] - 0s 50ms/step - loss: 326.3825 - mean_squared_error: 326.2591 - val_loss: nan - val_mean_squared_error: nan\n",
      "Epoch 39/100\n",
      "5/5 [==============================] - 0s 46ms/step - loss: 334.7960 - mean_squared_error: 334.6701 - val_loss: nan - val_mean_squared_error: nan\n",
      "Epoch 40/100\n",
      "5/5 [==============================] - 0s 46ms/step - loss: 363.3513 - mean_squared_error: 363.2279 - val_loss: nan - val_mean_squared_error: nan\n",
      "Epoch 41/100\n",
      "5/5 [==============================] - 0s 46ms/step - loss: 352.9972 - mean_squared_error: 352.8770 - val_loss: nan - val_mean_squared_error: nan\n",
      "Epoch 42/100\n",
      "5/5 [==============================] - 0s 47ms/step - loss: 343.9702 - mean_squared_error: 343.8410 - val_loss: nan - val_mean_squared_error: nan\n",
      "Epoch 43/100\n",
      "5/5 [==============================] - 0s 48ms/step - loss: 331.1564 - mean_squared_error: 331.0415 - val_loss: nan - val_mean_squared_error: nan\n",
      "Epoch 44/100\n",
      "5/5 [==============================] - 0s 46ms/step - loss: 359.4185 - mean_squared_error: 359.2993 - val_loss: nan - val_mean_squared_error: nan\n",
      "Epoch 45/100\n",
      "5/5 [==============================] - 0s 47ms/step - loss: 368.4452 - mean_squared_error: 368.3163 - val_loss: nan - val_mean_squared_error: nan\n",
      "Epoch 46/100\n",
      "5/5 [==============================] - 0s 47ms/step - loss: 370.1866 - mean_squared_error: 370.0763 - val_loss: nan - val_mean_squared_error: nan\n",
      "Epoch 47/100\n",
      "5/5 [==============================] - 0s 46ms/step - loss: 329.0149 - mean_squared_error: 328.8949 - val_loss: nan - val_mean_squared_error: nan\n",
      "Epoch 48/100\n",
      "5/5 [==============================] - 0s 48ms/step - loss: 329.7939 - mean_squared_error: 329.6784 - val_loss: nan - val_mean_squared_error: nan\n",
      "Epoch 49/100\n",
      "5/5 [==============================] - 0s 47ms/step - loss: 341.2525 - mean_squared_error: 341.1375 - val_loss: nan - val_mean_squared_error: nan\n",
      "Epoch 50/100\n",
      "5/5 [==============================] - 0s 47ms/step - loss: 302.6131 - mean_squared_error: 302.4995 - val_loss: nan - val_mean_squared_error: nan\n",
      "Epoch 51/100\n",
      "5/5 [==============================] - 0s 49ms/step - loss: 348.3952 - mean_squared_error: 348.2716 - val_loss: nan - val_mean_squared_error: nan\n",
      "Epoch 52/100\n",
      "5/5 [==============================] - 0s 48ms/step - loss: 325.8851 - mean_squared_error: 325.7706 - val_loss: nan - val_mean_squared_error: nan\n",
      "Epoch 53/100\n",
      "5/5 [==============================] - 0s 54ms/step - loss: 329.4636 - mean_squared_error: 329.3543 - val_loss: nan - val_mean_squared_error: nan\n",
      "Epoch 54/100\n",
      "5/5 [==============================] - 0s 59ms/step - loss: 279.0420 - mean_squared_error: 278.9217 - val_loss: nan - val_mean_squared_error: nan\n",
      "Epoch 55/100\n",
      "5/5 [==============================] - 0s 53ms/step - loss: 303.3880 - mean_squared_error: 303.2754 - val_loss: nan - val_mean_squared_error: nan\n",
      "Epoch 56/100\n",
      "5/5 [==============================] - 0s 49ms/step - loss: 293.9722 - mean_squared_error: 293.8613 - val_loss: nan - val_mean_squared_error: nan\n",
      "Epoch 57/100\n",
      "5/5 [==============================] - 0s 47ms/step - loss: 308.2690 - mean_squared_error: 308.1514 - val_loss: nan - val_mean_squared_error: nan\n",
      "Epoch 58/100\n",
      "5/5 [==============================] - 0s 48ms/step - loss: 285.4445 - mean_squared_error: 285.3291 - val_loss: nan - val_mean_squared_error: nan\n",
      "Epoch 59/100\n",
      "5/5 [==============================] - 0s 47ms/step - loss: 294.1101 - mean_squared_error: 293.9938 - val_loss: nan - val_mean_squared_error: nan\n",
      "Epoch 60/100\n",
      "5/5 [==============================] - 0s 49ms/step - loss: 311.9897 - mean_squared_error: 311.8698 - val_loss: nan - val_mean_squared_error: nan\n",
      "Epoch 61/100\n",
      "5/5 [==============================] - 0s 47ms/step - loss: 284.0272 - mean_squared_error: 283.9093 - val_loss: nan - val_mean_squared_error: nan\n",
      "Epoch 62/100\n",
      "5/5 [==============================] - 0s 47ms/step - loss: 304.1233 - mean_squared_error: 304.0097 - val_loss: nan - val_mean_squared_error: nan\n",
      "Epoch 63/100\n",
      "5/5 [==============================] - 0s 48ms/step - loss: 257.6004 - mean_squared_error: 257.4858 - val_loss: nan - val_mean_squared_error: nan\n",
      "Epoch 64/100\n",
      "5/5 [==============================] - 0s 48ms/step - loss: 309.8875 - mean_squared_error: 309.7822 - val_loss: nan - val_mean_squared_error: nan\n",
      "Epoch 65/100\n",
      "5/5 [==============================] - 0s 48ms/step - loss: 273.0094 - mean_squared_error: 272.8950 - val_loss: nan - val_mean_squared_error: nan\n",
      "Epoch 66/100\n",
      "5/5 [==============================] - 0s 47ms/step - loss: 280.7152 - mean_squared_error: 280.6030 - val_loss: nan - val_mean_squared_error: nan\n",
      "Epoch 67/100\n",
      "5/5 [==============================] - 0s 47ms/step - loss: 280.8140 - mean_squared_error: 280.7076 - val_loss: nan - val_mean_squared_error: nan\n",
      "Epoch 68/100\n",
      "5/5 [==============================] - 0s 49ms/step - loss: 336.9640 - mean_squared_error: 336.8648 - val_loss: nan - val_mean_squared_error: nan\n",
      "Epoch 69/100\n",
      "5/5 [==============================] - 0s 49ms/step - loss: 298.7734 - mean_squared_error: 298.6691 - val_loss: nan - val_mean_squared_error: nan\n",
      "Epoch 70/100\n",
      "5/5 [==============================] - 0s 48ms/step - loss: 344.2985 - mean_squared_error: 344.1796 - val_loss: nan - val_mean_squared_error: nan\n",
      "Epoch 71/100\n",
      "5/5 [==============================] - 0s 49ms/step - loss: 298.3442 - mean_squared_error: 298.2239 - val_loss: nan - val_mean_squared_error: nan\n",
      "Epoch 72/100\n",
      "5/5 [==============================] - 0s 47ms/step - loss: 261.4978 - mean_squared_error: 261.3872 - val_loss: nan - val_mean_squared_error: nan\n",
      "Epoch 73/100\n",
      "5/5 [==============================] - 0s 49ms/step - loss: 254.5507 - mean_squared_error: 254.4411 - val_loss: nan - val_mean_squared_error: nan\n",
      "Epoch 74/100\n",
      "5/5 [==============================] - 0s 47ms/step - loss: 262.0019 - mean_squared_error: 261.8904 - val_loss: nan - val_mean_squared_error: nan\n",
      "Epoch 75/100\n",
      "5/5 [==============================] - 0s 47ms/step - loss: 257.2198 - mean_squared_error: 257.1040 - val_loss: nan - val_mean_squared_error: nan\n",
      "Epoch 76/100\n",
      "5/5 [==============================] - 0s 48ms/step - loss: 247.1741 - mean_squared_error: 247.0586 - val_loss: nan - val_mean_squared_error: nan\n",
      "Epoch 77/100\n",
      "5/5 [==============================] - 0s 49ms/step - loss: 236.3938 - mean_squared_error: 236.2846 - val_loss: nan - val_mean_squared_error: nan\n",
      "Epoch 78/100\n",
      "5/5 [==============================] - 0s 48ms/step - loss: 253.4858 - mean_squared_error: 253.3800 - val_loss: nan - val_mean_squared_error: nan\n",
      "Epoch 79/100\n",
      "5/5 [==============================] - 0s 48ms/step - loss: 250.8452 - mean_squared_error: 250.7376 - val_loss: nan - val_mean_squared_error: nan\n",
      "Epoch 80/100\n",
      "5/5 [==============================] - 0s 48ms/step - loss: 228.3604 - mean_squared_error: 228.2489 - val_loss: nan - val_mean_squared_error: nan\n",
      "Epoch 81/100\n",
      "5/5 [==============================] - 0s 48ms/step - loss: 218.4119 - mean_squared_error: 218.2994 - val_loss: nan - val_mean_squared_error: nan\n",
      "Epoch 82/100\n",
      "5/5 [==============================] - 0s 48ms/step - loss: 231.4553 - mean_squared_error: 231.3443 - val_loss: nan - val_mean_squared_error: nan\n",
      "Epoch 83/100\n",
      "5/5 [==============================] - 0s 47ms/step - loss: 220.3504 - mean_squared_error: 220.2443 - val_loss: nan - val_mean_squared_error: nan\n",
      "Epoch 84/100\n",
      "5/5 [==============================] - 0s 48ms/step - loss: 225.0557 - mean_squared_error: 224.9481 - val_loss: nan - val_mean_squared_error: nan\n",
      "Epoch 85/100\n",
      "5/5 [==============================] - 0s 46ms/step - loss: 258.0391 - mean_squared_error: 257.9332 - val_loss: nan - val_mean_squared_error: nan\n",
      "Epoch 86/100\n",
      "5/5 [==============================] - 0s 48ms/step - loss: 235.5675 - mean_squared_error: 235.4657 - val_loss: nan - val_mean_squared_error: nan\n",
      "Epoch 87/100\n",
      "5/5 [==============================] - 0s 47ms/step - loss: 208.9484 - mean_squared_error: 208.8388 - val_loss: nan - val_mean_squared_error: nan\n",
      "Epoch 88/100\n",
      "5/5 [==============================] - 0s 48ms/step - loss: 226.5427 - mean_squared_error: 226.4310 - val_loss: nan - val_mean_squared_error: nan\n",
      "Epoch 89/100\n",
      "5/5 [==============================] - 0s 48ms/step - loss: 240.6367 - mean_squared_error: 240.5285 - val_loss: nan - val_mean_squared_error: nan\n",
      "Epoch 90/100\n",
      "5/5 [==============================] - 0s 47ms/step - loss: 228.7912 - mean_squared_error: 228.6818 - val_loss: nan - val_mean_squared_error: nan\n",
      "Epoch 91/100\n",
      "5/5 [==============================] - 0s 48ms/step - loss: 232.1521 - mean_squared_error: 232.0388 - val_loss: nan - val_mean_squared_error: nan\n",
      "Epoch 92/100\n",
      "5/5 [==============================] - 0s 65ms/step - loss: 254.1637 - mean_squared_error: 254.0505 - val_loss: nan - val_mean_squared_error: nan\n",
      "Epoch 93/100\n",
      "5/5 [==============================] - 0s 52ms/step - loss: 237.9898 - mean_squared_error: 237.8755 - val_loss: nan - val_mean_squared_error: nan\n",
      "Epoch 94/100\n",
      "5/5 [==============================] - 0s 50ms/step - loss: 205.2446 - mean_squared_error: 205.1372 - val_loss: nan - val_mean_squared_error: nan\n",
      "Epoch 95/100\n",
      "5/5 [==============================] - 0s 50ms/step - loss: 214.1158 - mean_squared_error: 214.0095 - val_loss: nan - val_mean_squared_error: nan\n",
      "Epoch 96/100\n",
      "5/5 [==============================] - 0s 47ms/step - loss: 261.8823 - mean_squared_error: 261.7692 - val_loss: nan - val_mean_squared_error: nan\n",
      "Epoch 97/100\n",
      "5/5 [==============================] - 0s 48ms/step - loss: 225.3125 - mean_squared_error: 225.1966 - val_loss: nan - val_mean_squared_error: nan\n",
      "Epoch 98/100\n",
      "5/5 [==============================] - 0s 48ms/step - loss: 216.2947 - mean_squared_error: 216.1870 - val_loss: nan - val_mean_squared_error: nan\n",
      "Epoch 99/100\n",
      "5/5 [==============================] - 0s 48ms/step - loss: 201.8663 - mean_squared_error: 201.7552 - val_loss: nan - val_mean_squared_error: nan\n",
      "Epoch 100/100\n",
      "5/5 [==============================] - 0s 49ms/step - loss: 202.0503 - mean_squared_error: 201.9403 - val_loss: nan - val_mean_squared_error: nan\n",
      "2/2 [==============================] - 0s 8ms/step - loss: nan - mean_squared_error: nan\n",
      "loss : nan\n",
      "mean_squared_error : nan\n"
     ]
    }
   ],
   "source": [
    "callback = EarlyStopping(monitor='loss', patience=10)\n",
    "model.fit(X_train_reshaped, y_train, epochs=100, batch_size=100, validation_data=(X_test_reshaped, y_test), callbacks=callback)\n",
    "loss_and_metrics = model.evaluate(X_test_reshaped, y_test, batch_size=100)\n",
    "for name, metric in zip(model.metrics_names, loss_and_metrics):\n",
    "    print(name, \":\", metric)"
   ]
  },
  {
   "cell_type": "code",
   "execution_count": 72,
   "id": "valuable-holder",
   "metadata": {},
   "outputs": [
    {
     "data": {
      "text/plain": [
       "[<matplotlib.lines.Line2D at 0x7fdfeab475b0>]"
      ]
     },
     "execution_count": 72,
     "metadata": {},
     "output_type": "execute_result"
    },
    {
     "data": {
      "image/png": "[encoded data removed]",
      "text/plain": [
       "<Figure size 432x288 with 1 Axes>"
      ]
     },
     "metadata": {
      "needs_background": "light"
     },
     "output_type": "display_data"
    }
   ],
   "source": [
    "y_hat = model.predict(X_train_reshaped)\n",
    "plt.plot(y_train, y_hat, linestyle=\"\", marker=\".\")"
   ]
  },
  {
   "cell_type": "code",
   "execution_count": 73,
   "id": "commercial-perspective",
   "metadata": {},
   "outputs": [
    {
     "data": {
      "text/plain": [
       "[<matplotlib.lines.Line2D at 0x7fdfeae2e550>]"
      ]
     },
     "execution_count": 73,
     "metadata": {},
     "output_type": "execute_result"
    },
    {
     "data": {
      "image/png": "[encoded data removed]",
      "text/plain": [
       "<Figure size 432x288 with 1 Axes>"
      ]
     },
     "metadata": {
      "needs_background": "light"
     },
     "output_type": "display_data"
    }
   ],
   "source": [
    "y_hat = model.predict(X_test_reshaped)\n",
    "plt.plot(y_test, y_hat, linestyle=\"\", marker=\".\")"
   ]
  },
  {
   "cell_type": "code",
   "execution_count": 81,
   "id": "caroline-hughes",
   "metadata": {},
   "outputs": [
    {
     "ename": "ValueError",
     "evalue": "Input contains NaN, infinity or a value too large for dtype('float64').",
     "output_type": "error",
     "traceback": [
      "\u001b[0;31m---------------------------------------------------------------------------\u001b[0m",
      "\u001b[0;31mValueError\u001b[0m                                Traceback (most recent call last)",
      "\u001b[0;32m<ipython-input-81-44117f4a5eb5>\u001b[0m in \u001b[0;36m<module>\u001b[0;34m\u001b[0m\n\u001b[0;32m----> 1\u001b[0;31m \u001b[0mr2_score\u001b[0m\u001b[0;34m(\u001b[0m\u001b[0my_test\u001b[0m\u001b[0;34m,\u001b[0m \u001b[0my_hat\u001b[0m\u001b[0;34m)\u001b[0m\u001b[0;34m\u001b[0m\u001b[0;34m\u001b[0m\u001b[0m\n\u001b[0m",
      "\u001b[0;32m~/opt/anaconda3/envs/direct_cnn/lib/python3.8/site-packages/sklearn/utils/validation.py\u001b[0m in \u001b[0;36minner_f\u001b[0;34m(*args, **kwargs)\u001b[0m\n\u001b[1;32m     70\u001b[0m                           FutureWarning)\n\u001b[1;32m     71\u001b[0m         \u001b[0mkwargs\u001b[0m\u001b[0;34m.\u001b[0m\u001b[0mupdate\u001b[0m\u001b[0;34m(\u001b[0m\u001b[0;34m{\u001b[0m\u001b[0mk\u001b[0m\u001b[0;34m:\u001b[0m \u001b[0marg\u001b[0m \u001b[0;32mfor\u001b[0m \u001b[0mk\u001b[0m\u001b[0;34m,\u001b[0m \u001b[0marg\u001b[0m \u001b[0;32min\u001b[0m \u001b[0mzip\u001b[0m\u001b[0;34m(\u001b[0m\u001b[0msig\u001b[0m\u001b[0;34m.\u001b[0m\u001b[0mparameters\u001b[0m\u001b[0;34m,\u001b[0m \u001b[0margs\u001b[0m\u001b[0;34m)\u001b[0m\u001b[0;34m}\u001b[0m\u001b[0;34m)\u001b[0m\u001b[0;34m\u001b[0m\u001b[0;34m\u001b[0m\u001b[0m\n\u001b[0;32m---> 72\u001b[0;31m         \u001b[0;32mreturn\u001b[0m \u001b[0mf\u001b[0m\u001b[0;34m(\u001b[0m\u001b[0;34m**\u001b[0m\u001b[0mkwargs\u001b[0m\u001b[0;34m)\u001b[0m\u001b[0;34m\u001b[0m\u001b[0;34m\u001b[0m\u001b[0m\n\u001b[0m\u001b[1;32m     73\u001b[0m     \u001b[0;32mreturn\u001b[0m \u001b[0minner_f\u001b[0m\u001b[0;34m\u001b[0m\u001b[0;34m\u001b[0m\u001b[0m\n\u001b[1;32m     74\u001b[0m \u001b[0;34m\u001b[0m\u001b[0m\n",
      "\u001b[0;32m~/opt/anaconda3/envs/direct_cnn/lib/python3.8/site-packages/sklearn/metrics/_regression.py\u001b[0m in \u001b[0;36mr2_score\u001b[0;34m(y_true, y_pred, sample_weight, multioutput)\u001b[0m\n\u001b[1;32m    586\u001b[0m     \u001b[0;34m-\u001b[0m\u001b[0;36m3.0\u001b[0m\u001b[0;34m\u001b[0m\u001b[0;34m\u001b[0m\u001b[0m\n\u001b[1;32m    587\u001b[0m     \"\"\"\n\u001b[0;32m--> 588\u001b[0;31m     y_type, y_true, y_pred, multioutput = _check_reg_targets(\n\u001b[0m\u001b[1;32m    589\u001b[0m         y_true, y_pred, multioutput)\n\u001b[1;32m    590\u001b[0m     \u001b[0mcheck_consistent_length\u001b[0m\u001b[0;34m(\u001b[0m\u001b[0my_true\u001b[0m\u001b[0;34m,\u001b[0m \u001b[0my_pred\u001b[0m\u001b[0;34m,\u001b[0m \u001b[0msample_weight\u001b[0m\u001b[0;34m)\u001b[0m\u001b[0;34m\u001b[0m\u001b[0;34m\u001b[0m\u001b[0m\n",
      "\u001b[0;32m~/opt/anaconda3/envs/direct_cnn/lib/python3.8/site-packages/sklearn/metrics/_regression.py\u001b[0m in \u001b[0;36m_check_reg_targets\u001b[0;34m(y_true, y_pred, multioutput, dtype)\u001b[0m\n\u001b[1;32m     83\u001b[0m     \"\"\"\n\u001b[1;32m     84\u001b[0m     \u001b[0mcheck_consistent_length\u001b[0m\u001b[0;34m(\u001b[0m\u001b[0my_true\u001b[0m\u001b[0;34m,\u001b[0m \u001b[0my_pred\u001b[0m\u001b[0;34m)\u001b[0m\u001b[0;34m\u001b[0m\u001b[0;34m\u001b[0m\u001b[0m\n\u001b[0;32m---> 85\u001b[0;31m     \u001b[0my_true\u001b[0m \u001b[0;34m=\u001b[0m \u001b[0mcheck_array\u001b[0m\u001b[0;34m(\u001b[0m\u001b[0my_true\u001b[0m\u001b[0;34m,\u001b[0m \u001b[0mensure_2d\u001b[0m\u001b[0;34m=\u001b[0m\u001b[0;32mFalse\u001b[0m\u001b[0;34m,\u001b[0m \u001b[0mdtype\u001b[0m\u001b[0;34m=\u001b[0m\u001b[0mdtype\u001b[0m\u001b[0;34m)\u001b[0m\u001b[0;34m\u001b[0m\u001b[0;34m\u001b[0m\u001b[0m\n\u001b[0m\u001b[1;32m     86\u001b[0m     \u001b[0my_pred\u001b[0m \u001b[0;34m=\u001b[0m \u001b[0mcheck_array\u001b[0m\u001b[0;34m(\u001b[0m\u001b[0my_pred\u001b[0m\u001b[0;34m,\u001b[0m \u001b[0mensure_2d\u001b[0m\u001b[0;34m=\u001b[0m\u001b[0;32mFalse\u001b[0m\u001b[0;34m,\u001b[0m \u001b[0mdtype\u001b[0m\u001b[0;34m=\u001b[0m\u001b[0mdtype\u001b[0m\u001b[0;34m)\u001b[0m\u001b[0;34m\u001b[0m\u001b[0;34m\u001b[0m\u001b[0m\n\u001b[1;32m     87\u001b[0m \u001b[0;34m\u001b[0m\u001b[0m\n",
      "\u001b[0;32m~/opt/anaconda3/envs/direct_cnn/lib/python3.8/site-packages/sklearn/utils/validation.py\u001b[0m in \u001b[0;36minner_f\u001b[0;34m(*args, **kwargs)\u001b[0m\n\u001b[1;32m     70\u001b[0m                           FutureWarning)\n\u001b[1;32m     71\u001b[0m         \u001b[0mkwargs\u001b[0m\u001b[0;34m.\u001b[0m\u001b[0mupdate\u001b[0m\u001b[0;34m(\u001b[0m\u001b[0;34m{\u001b[0m\u001b[0mk\u001b[0m\u001b[0;34m:\u001b[0m \u001b[0marg\u001b[0m \u001b[0;32mfor\u001b[0m \u001b[0mk\u001b[0m\u001b[0;34m,\u001b[0m \u001b[0marg\u001b[0m \u001b[0;32min\u001b[0m \u001b[0mzip\u001b[0m\u001b[0;34m(\u001b[0m\u001b[0msig\u001b[0m\u001b[0;34m.\u001b[0m\u001b[0mparameters\u001b[0m\u001b[0;34m,\u001b[0m \u001b[0margs\u001b[0m\u001b[0;34m)\u001b[0m\u001b[0;34m}\u001b[0m\u001b[0;34m)\u001b[0m\u001b[0;34m\u001b[0m\u001b[0;34m\u001b[0m\u001b[0m\n\u001b[0;32m---> 72\u001b[0;31m         \u001b[0;32mreturn\u001b[0m \u001b[0mf\u001b[0m\u001b[0;34m(\u001b[0m\u001b[0;34m**\u001b[0m\u001b[0mkwargs\u001b[0m\u001b[0;34m)\u001b[0m\u001b[0;34m\u001b[0m\u001b[0;34m\u001b[0m\u001b[0m\n\u001b[0m\u001b[1;32m     73\u001b[0m     \u001b[0;32mreturn\u001b[0m \u001b[0minner_f\u001b[0m\u001b[0;34m\u001b[0m\u001b[0;34m\u001b[0m\u001b[0m\n\u001b[1;32m     74\u001b[0m \u001b[0;34m\u001b[0m\u001b[0m\n",
      "\u001b[0;32m~/opt/anaconda3/envs/direct_cnn/lib/python3.8/site-packages/sklearn/utils/validation.py\u001b[0m in \u001b[0;36mcheck_array\u001b[0;34m(array, accept_sparse, accept_large_sparse, dtype, order, copy, force_all_finite, ensure_2d, allow_nd, ensure_min_samples, ensure_min_features, estimator)\u001b[0m\n\u001b[1;32m    642\u001b[0m \u001b[0;34m\u001b[0m\u001b[0m\n\u001b[1;32m    643\u001b[0m         \u001b[0;32mif\u001b[0m \u001b[0mforce_all_finite\u001b[0m\u001b[0;34m:\u001b[0m\u001b[0;34m\u001b[0m\u001b[0;34m\u001b[0m\u001b[0m\n\u001b[0;32m--> 644\u001b[0;31m             _assert_all_finite(array,\n\u001b[0m\u001b[1;32m    645\u001b[0m                                allow_nan=force_all_finite == 'allow-nan')\n\u001b[1;32m    646\u001b[0m \u001b[0;34m\u001b[0m\u001b[0m\n",
      "\u001b[0;32m~/opt/anaconda3/envs/direct_cnn/lib/python3.8/site-packages/sklearn/utils/validation.py\u001b[0m in \u001b[0;36m_assert_all_finite\u001b[0;34m(X, allow_nan, msg_dtype)\u001b[0m\n\u001b[1;32m     94\u001b[0m                 not allow_nan and not np.isfinite(X).all()):\n\u001b[1;32m     95\u001b[0m             \u001b[0mtype_err\u001b[0m \u001b[0;34m=\u001b[0m \u001b[0;34m'infinity'\u001b[0m \u001b[0;32mif\u001b[0m \u001b[0mallow_nan\u001b[0m \u001b[0;32melse\u001b[0m \u001b[0;34m'NaN, infinity'\u001b[0m\u001b[0;34m\u001b[0m\u001b[0;34m\u001b[0m\u001b[0m\n\u001b[0;32m---> 96\u001b[0;31m             raise ValueError(\n\u001b[0m\u001b[1;32m     97\u001b[0m                     \u001b[0mmsg_err\u001b[0m\u001b[0;34m.\u001b[0m\u001b[0mformat\u001b[0m\u001b[0;34m\u001b[0m\u001b[0;34m\u001b[0m\u001b[0m\n\u001b[1;32m     98\u001b[0m                     (type_err,\n",
      "\u001b[0;31mValueError\u001b[0m: Input contains NaN, infinity or a value too large for dtype('float64')."
     ]
    }
   ],
   "source": [
    "r2_score(y_test, y_hat)"
   ]
  },
  {
   "cell_type": "code",
   "execution_count": null,
   "id": "suitable-coordinator",
   "metadata": {},
   "outputs": [],
   "source": []
  }
 ],
 "metadata": {
  "kernelspec": {
   "display_name": "Python 3",
   "language": "python",
   "name": "python3"
  },
  "language_info": {
   "codemirror_mode": {
    "name": "ipython",
    "version": 3
   },
   "file_extension": ".py",
   "mimetype": "text/x-python",
   "name": "python",
   "nbconvert_exporter": "python",
   "pygments_lexer": "ipython3",
   "version": "3.8.8"
  }
 },
 "nbformat": 4,
 "nbformat_minor": 5
}
