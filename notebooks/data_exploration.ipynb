{
 "cells": [
  {
   "cell_type": "code",
   "execution_count": 2,
   "id": "hindu-envelope",
   "metadata": {},
   "outputs": [],
   "source": [
    "import pandas as pd\n",
    "import afqinsight as afq"
   ]
  },
  {
   "cell_type": "code",
   "execution_count": 3,
   "id": "restricted-astronomy",
   "metadata": {},
   "outputs": [
    {
     "data": {
      "text/html": [
       "<div>\n",
       "<style scoped>\n",
       "    .dataframe tbody tr th:only-of-type {\n",
       "        vertical-align: middle;\n",
       "    }\n",
       "\n",
       "    .dataframe tbody tr th {\n",
       "        vertical-align: top;\n",
       "    }\n",
       "\n",
       "    .dataframe thead th {\n",
       "        text-align: right;\n",
       "    }\n",
       "</style>\n",
       "<table border=\"1\" class=\"dataframe\">\n",
       "  <thead>\n",
       "    <tr style=\"text-align: right;\">\n",
       "      <th></th>\n",
       "      <th>subjectID</th>\n",
       "      <th>tractID</th>\n",
       "      <th>nodeID</th>\n",
       "      <th>rd</th>\n",
       "      <th>fa</th>\n",
       "      <th>cl</th>\n",
       "      <th>ad</th>\n",
       "      <th>md</th>\n",
       "    </tr>\n",
       "  </thead>\n",
       "  <tbody>\n",
       "    <tr>\n",
       "      <th>0</th>\n",
       "      <td>subject_000</td>\n",
       "      <td>Left Thalamic Radiation</td>\n",
       "      <td>0</td>\n",
       "      <td>0.656032</td>\n",
       "      <td>0.183053</td>\n",
       "      <td>0.081921</td>\n",
       "      <td>0.875535</td>\n",
       "      <td>0.729200</td>\n",
       "    </tr>\n",
       "    <tr>\n",
       "      <th>1</th>\n",
       "      <td>subject_000</td>\n",
       "      <td>Left Thalamic Radiation</td>\n",
       "      <td>1</td>\n",
       "      <td>0.613308</td>\n",
       "      <td>0.247121</td>\n",
       "      <td>0.115480</td>\n",
       "      <td>0.909085</td>\n",
       "      <td>0.711901</td>\n",
       "    </tr>\n",
       "    <tr>\n",
       "      <th>2</th>\n",
       "      <td>subject_000</td>\n",
       "      <td>Left Thalamic Radiation</td>\n",
       "      <td>2</td>\n",
       "      <td>0.574612</td>\n",
       "      <td>0.306726</td>\n",
       "      <td>0.151766</td>\n",
       "      <td>0.944572</td>\n",
       "      <td>0.697932</td>\n",
       "    </tr>\n",
       "    <tr>\n",
       "      <th>3</th>\n",
       "      <td>subject_000</td>\n",
       "      <td>Left Thalamic Radiation</td>\n",
       "      <td>3</td>\n",
       "      <td>0.549868</td>\n",
       "      <td>0.343995</td>\n",
       "      <td>0.176124</td>\n",
       "      <td>0.966964</td>\n",
       "      <td>0.688900</td>\n",
       "    </tr>\n",
       "    <tr>\n",
       "      <th>4</th>\n",
       "      <td>subject_000</td>\n",
       "      <td>Left Thalamic Radiation</td>\n",
       "      <td>4</td>\n",
       "      <td>0.530190</td>\n",
       "      <td>0.373869</td>\n",
       "      <td>0.194396</td>\n",
       "      <td>0.985039</td>\n",
       "      <td>0.681806</td>\n",
       "    </tr>\n",
       "  </tbody>\n",
       "</table>\n",
       "</div>"
      ],
      "text/plain": [
       "     subjectID                  tractID  nodeID        rd        fa        cl  \\\n",
       "0  subject_000  Left Thalamic Radiation       0  0.656032  0.183053  0.081921   \n",
       "1  subject_000  Left Thalamic Radiation       1  0.613308  0.247121  0.115480   \n",
       "2  subject_000  Left Thalamic Radiation       2  0.574612  0.306726  0.151766   \n",
       "3  subject_000  Left Thalamic Radiation       3  0.549868  0.343995  0.176124   \n",
       "4  subject_000  Left Thalamic Radiation       4  0.530190  0.373869  0.194396   \n",
       "\n",
       "         ad        md  \n",
       "0  0.875535  0.729200  \n",
       "1  0.909085  0.711901  \n",
       "2  0.944572  0.697932  \n",
       "3  0.966964  0.688900  \n",
       "4  0.985039  0.681806  "
      ]
     },
     "execution_count": 3,
     "metadata": {},
     "output_type": "execute_result"
    }
   ],
   "source": [
    "nodes = pd.read_csv('../data/raw/age_data/nodes.csv')\n",
    "nodes.head()"
   ]
  },
  {
   "cell_type": "code",
   "execution_count": 4,
   "id": "external-meaning",
   "metadata": {},
   "outputs": [
    {
     "data": {
      "text/html": [
       "<div>\n",
       "<style scoped>\n",
       "    .dataframe tbody tr th:only-of-type {\n",
       "        vertical-align: middle;\n",
       "    }\n",
       "\n",
       "    .dataframe tbody tr th {\n",
       "        vertical-align: top;\n",
       "    }\n",
       "\n",
       "    .dataframe thead th {\n",
       "        text-align: right;\n",
       "    }\n",
       "</style>\n",
       "<table border=\"1\" class=\"dataframe\">\n",
       "  <thead>\n",
       "    <tr style=\"text-align: right;\">\n",
       "      <th></th>\n",
       "      <th>Unnamed: 0</th>\n",
       "      <th>subjectID</th>\n",
       "      <th>Age</th>\n",
       "      <th>Gender</th>\n",
       "      <th>Handedness</th>\n",
       "      <th>IQ</th>\n",
       "      <th>IQ_Matrix</th>\n",
       "      <th>IQ_Vocab</th>\n",
       "    </tr>\n",
       "  </thead>\n",
       "  <tbody>\n",
       "    <tr>\n",
       "      <th>0</th>\n",
       "      <td>0</td>\n",
       "      <td>subject_000</td>\n",
       "      <td>20</td>\n",
       "      <td>Male</td>\n",
       "      <td>NaN</td>\n",
       "      <td>139.0</td>\n",
       "      <td>65.0</td>\n",
       "      <td>77.0</td>\n",
       "    </tr>\n",
       "    <tr>\n",
       "      <th>1</th>\n",
       "      <td>1</td>\n",
       "      <td>subject_001</td>\n",
       "      <td>31</td>\n",
       "      <td>Male</td>\n",
       "      <td>NaN</td>\n",
       "      <td>129.0</td>\n",
       "      <td>58.0</td>\n",
       "      <td>74.0</td>\n",
       "    </tr>\n",
       "    <tr>\n",
       "      <th>2</th>\n",
       "      <td>2</td>\n",
       "      <td>subject_002</td>\n",
       "      <td>18</td>\n",
       "      <td>Female</td>\n",
       "      <td>NaN</td>\n",
       "      <td>130.0</td>\n",
       "      <td>63.0</td>\n",
       "      <td>70.0</td>\n",
       "    </tr>\n",
       "    <tr>\n",
       "      <th>3</th>\n",
       "      <td>3</td>\n",
       "      <td>subject_003</td>\n",
       "      <td>28</td>\n",
       "      <td>Male</td>\n",
       "      <td>Right</td>\n",
       "      <td>NaN</td>\n",
       "      <td>NaN</td>\n",
       "      <td>NaN</td>\n",
       "    </tr>\n",
       "    <tr>\n",
       "      <th>4</th>\n",
       "      <td>4</td>\n",
       "      <td>subject_004</td>\n",
       "      <td>29</td>\n",
       "      <td>Male</td>\n",
       "      <td>NaN</td>\n",
       "      <td>NaN</td>\n",
       "      <td>NaN</td>\n",
       "      <td>NaN</td>\n",
       "    </tr>\n",
       "  </tbody>\n",
       "</table>\n",
       "</div>"
      ],
      "text/plain": [
       "   Unnamed: 0    subjectID  Age  Gender Handedness     IQ  IQ_Matrix  IQ_Vocab\n",
       "0           0  subject_000   20    Male        NaN  139.0       65.0      77.0\n",
       "1           1  subject_001   31    Male        NaN  129.0       58.0      74.0\n",
       "2           2  subject_002   18  Female        NaN  130.0       63.0      70.0\n",
       "3           3  subject_003   28    Male      Right    NaN        NaN       NaN\n",
       "4           4  subject_004   29    Male        NaN    NaN        NaN       NaN"
      ]
     },
     "execution_count": 4,
     "metadata": {},
     "output_type": "execute_result"
    }
   ],
   "source": [
    "subjects = pd.read_csv('../data/raw/age_data/subjects.csv')\n",
    "subjects.head()"
   ]
  },
  {
   "cell_type": "code",
   "execution_count": 5,
   "id": "consecutive-jones",
   "metadata": {},
   "outputs": [],
   "source": [
    "X, y, groups, feature_names, group_names, subjects, _ = afq.datasets.load_afq_data('../data/raw/age_data', \"Age\")"
   ]
  },
  {
   "cell_type": "code",
   "execution_count": 6,
   "id": "finished-melbourne",
   "metadata": {},
   "outputs": [
    {
     "data": {
      "text/plain": [
       "array([[0.80529484, 0.84255967, 0.89047843, ..., 0.5800756 , 0.61598011,\n",
       "        0.66923146],\n",
       "       [0.79958972, 0.83028681, 0.85340832, ..., 0.62736467, 0.64968075,\n",
       "        0.66583497],\n",
       "       [0.81828729, 0.8627886 , 0.91714986, ..., 0.6004928 , 0.62281404,\n",
       "        0.64698932],\n",
       "       ...,\n",
       "       [0.79745675, 0.8340532 , 0.85469315, ..., 0.58467594, 0.61122325,\n",
       "        0.63764813],\n",
       "       [0.77816811, 0.82947297, 0.87621243, ..., 0.61050187, 0.64257178,\n",
       "        0.6673916 ],\n",
       "       [0.82268442, 0.84248315, 0.87065483, ..., 0.61433358, 0.64663074,\n",
       "        0.68896431]])"
      ]
     },
     "execution_count": 6,
     "metadata": {},
     "output_type": "execute_result"
    }
   ],
   "source": [
    "X"
   ]
  },
  {
   "cell_type": "code",
   "execution_count": 7,
   "id": "modular-adoption",
   "metadata": {},
   "outputs": [
    {
     "data": {
      "text/plain": [
       "array([20, 31, 18, 28, 29, 36, 39, 34, 24, 21, 29, 31, 28, 20, 21, 20, 31,\n",
       "       32, 12, 14, 13, 12, 12, 11,  9, 14,  8, 10,  7,  8, 11, 11, 21,  9,\n",
       "       24,  8,  8, 14, 10, 14,  7,  8,  9,  8,  8, 11,  6,  9,  8,  9, 32,\n",
       "       16,  9,  9,  8, 15,  9, 10,  9,  8,  9, 24, 24,  9,  9, 43, 13, 44,\n",
       "       50, 47, 46, 18, 40, 50, 40, 17, 17])"
      ]
     },
     "execution_count": 7,
     "metadata": {},
     "output_type": "execute_result"
    }
   ],
   "source": [
    "y"
   ]
  },
  {
   "cell_type": "code",
   "execution_count": 25,
   "id": "naked-camping",
   "metadata": {},
   "outputs": [],
   "source": [
    "from sklearn.linear_model import LassoCV\n",
    "from sklearn.pipeline import Pipeline\n",
    "from sklearn.impute import SimpleImputer\n",
    "from sklearn.model_selection import cross_val_score, train_test_split\n",
    "from groupyr.transform import GroupExtractor\n",
    "from sklearn.ensemble import RandomForestRegressor, AdaBoostRegressor"
   ]
  },
  {
   "cell_type": "code",
   "execution_count": 19,
   "id": "hairy-grove",
   "metadata": {},
   "outputs": [
    {
     "data": {
      "text/plain": [
       "array([[0.21357297, 0.2898142 , 0.34087688, ..., 0.70245914, 0.70967451,\n",
       "        0.73665818],\n",
       "       [0.19058299, 0.2721342 , 0.32055065, ..., 0.72820305, 0.73652069,\n",
       "        0.73947076],\n",
       "       [0.24233305, 0.30895163, 0.37506668, ..., 0.70167013, 0.70817548,\n",
       "        0.71672209],\n",
       "       ...,\n",
       "       [0.18992911, 0.24986252, 0.27899307, ..., 0.68931342, 0.69524343,\n",
       "        0.70089865],\n",
       "       [0.24526717, 0.31377051, 0.36500822, ..., 0.73162777, 0.73706813,\n",
       "        0.73935197],\n",
       "       [0.20669057, 0.2846074 , 0.33341608, ..., 0.72049506, 0.73640573,\n",
       "        0.76009836]])"
      ]
     },
     "execution_count": 19,
     "metadata": {},
     "output_type": "execute_result"
    }
   ],
   "source": [
    "group_extractor = GroupExtractor(select=['fa', 'md'], groups=groups, group_names=group_names)\n",
    "#X = group_extractor.fit_transform(X)"
   ]
  },
  {
   "cell_type": "code",
   "execution_count": 21,
   "id": "advisory-vatican",
   "metadata": {},
   "outputs": [],
   "source": [
    "X_train, X_test, y_train, y_test = train_test_split(X, y)\n",
    "#X"
   ]
  },
  {
   "cell_type": "markdown",
   "id": "brief-learning",
   "metadata": {},
   "source": [
    "### Lasso"
   ]
  },
  {
   "cell_type": "code",
   "execution_count": 24,
   "id": "legitimate-december",
   "metadata": {},
   "outputs": [
    {
     "name": "stderr",
     "output_type": "stream",
     "text": [
      "/Users/ceciliabarnes/opt/anaconda3/envs/direct_cnn/lib/python3.8/site-packages/sklearn/linear_model/_coordinate_descent.py:529: ConvergenceWarning: Objective did not converge. You might want to increase the number of iterations. Duality gap: 1.2340466376931083, tolerance: 0.809095652173913\n",
      "  model = cd_fast.enet_coordinate_descent(\n"
     ]
    },
    {
     "data": {
      "text/plain": [
       "0.15653011665444183"
      ]
     },
     "execution_count": 24,
     "metadata": {},
     "output_type": "execute_result"
    }
   ],
   "source": [
    "pipeline = Pipeline([('impute', SimpleImputer(strategy='median')),('estimator', LassoCV(n_alphas=5))])\n",
    "pipeline.fit(X_train, y_train)\n",
    "pipeline.score(X_test, y_test)"
   ]
  },
  {
   "cell_type": "code",
   "execution_count": 11,
   "id": "spiritual-testament",
   "metadata": {},
   "outputs": [
    {
     "name": "stderr",
     "output_type": "stream",
     "text": [
      "/Users/ceciliabarnes/opt/anaconda3/envs/direct_cnn/lib/python3.8/site-packages/sklearn/linear_model/_coordinate_descent.py:529: ConvergenceWarning: Objective did not converge. You might want to increase the number of iterations. Duality gap: 0.8651511819546354, tolerance: 0.865125\n",
      "  model = cd_fast.enet_coordinate_descent(\n",
      "/Users/ceciliabarnes/opt/anaconda3/envs/direct_cnn/lib/python3.8/site-packages/sklearn/linear_model/_coordinate_descent.py:529: ConvergenceWarning: Objective did not converge. You might want to increase the number of iterations. Duality gap: 0.9857456835363632, tolerance: 0.8480775510204082\n",
      "  model = cd_fast.enet_coordinate_descent(\n",
      "/Users/ceciliabarnes/opt/anaconda3/envs/direct_cnn/lib/python3.8/site-packages/sklearn/linear_model/_coordinate_descent.py:529: ConvergenceWarning: Objective did not converge. You might want to increase the number of iterations. Duality gap: 0.38953400583074327, tolerance: 0.2079387755102041\n",
      "  model = cd_fast.enet_coordinate_descent(\n",
      "/Users/ceciliabarnes/opt/anaconda3/envs/direct_cnn/lib/python3.8/site-packages/sklearn/linear_model/_coordinate_descent.py:529: ConvergenceWarning: Objective did not converge. You might want to increase the number of iterations. Duality gap: 0.9600907783948429, tolerance: 0.8473479166666669\n",
      "  model = cd_fast.enet_coordinate_descent(\n",
      "/Users/ceciliabarnes/opt/anaconda3/envs/direct_cnn/lib/python3.8/site-packages/sklearn/linear_model/_coordinate_descent.py:529: ConvergenceWarning: Objective did not converge. You might want to increase the number of iterations. Duality gap: 1.8907493282013057, tolerance: 0.8130408163265307\n",
      "  model = cd_fast.enet_coordinate_descent(\n",
      "/Users/ceciliabarnes/opt/anaconda3/envs/direct_cnn/lib/python3.8/site-packages/sklearn/linear_model/_coordinate_descent.py:529: ConvergenceWarning: Objective did not converge. You might want to increase the number of iterations. Duality gap: 0.9307358994374404, tolerance: 0.800602\n",
      "  model = cd_fast.enet_coordinate_descent(\n",
      "/Users/ceciliabarnes/opt/anaconda3/envs/direct_cnn/lib/python3.8/site-packages/sklearn/linear_model/_coordinate_descent.py:529: ConvergenceWarning: Objective did not converge. You might want to increase the number of iterations. Duality gap: 0.8963184461090972, tolerance: 0.8251919999999998\n",
      "  model = cd_fast.enet_coordinate_descent(\n",
      "/Users/ceciliabarnes/opt/anaconda3/envs/direct_cnn/lib/python3.8/site-packages/sklearn/linear_model/_coordinate_descent.py:529: ConvergenceWarning: Objective did not converge. You might want to increase the number of iterations. Duality gap: 0.36696209855372697, tolerance: 0.21050612244897962\n",
      "  model = cd_fast.enet_coordinate_descent(\n",
      "/Users/ceciliabarnes/opt/anaconda3/envs/direct_cnn/lib/python3.8/site-packages/sklearn/linear_model/_coordinate_descent.py:529: ConvergenceWarning: Objective did not converge. You might want to increase the number of iterations. Duality gap: 0.7749745616498007, tolerance: 0.4435680000000001\n",
      "  model = cd_fast.enet_coordinate_descent(\n"
     ]
    },
    {
     "data": {
      "text/plain": [
       "array([-0.32016338,  0.01782182, -2.92530516, -0.5624851 , -0.0597728 ])"
      ]
     },
     "execution_count": 11,
     "metadata": {},
     "output_type": "execute_result"
    }
   ],
   "source": [
    "cross_val_score(pipeline, X, y)"
   ]
  },
  {
   "cell_type": "markdown",
   "id": "comparable-strength",
   "metadata": {},
   "source": [
    "### Random Forest"
   ]
  },
  {
   "cell_type": "code",
   "execution_count": 26,
   "id": "accepting-launch",
   "metadata": {},
   "outputs": [
    {
     "data": {
      "text/plain": [
       "0.8850115413449028"
      ]
     },
     "execution_count": 26,
     "metadata": {},
     "output_type": "execute_result"
    }
   ],
   "source": [
    "pipeline = Pipeline([('impute', SimpleImputer(strategy='median')),('estimator', RandomForestRegressor(n_estimators=10))])\n",
    "pipeline.fit(X, y)\n",
    "pipeline.score(X, y)"
   ]
  },
  {
   "cell_type": "code",
   "execution_count": 27,
   "id": "generous-semiconductor",
   "metadata": {},
   "outputs": [
    {
     "data": {
      "text/plain": [
       "array([-0.02170353,  0.33872675, -0.28138743, -0.5063403 , -0.13513763])"
      ]
     },
     "execution_count": 27,
     "metadata": {},
     "output_type": "execute_result"
    }
   ],
   "source": [
    "cross_val_score(pipeline, X, y)"
   ]
  },
  {
   "cell_type": "markdown",
   "id": "congressional-tension",
   "metadata": {},
   "source": [
    "### Adaboost"
   ]
  },
  {
   "cell_type": "code",
   "execution_count": 28,
   "id": "historic-adaptation",
   "metadata": {},
   "outputs": [
    {
     "data": {
      "text/plain": [
       "0.98687002029435"
      ]
     },
     "execution_count": 28,
     "metadata": {},
     "output_type": "execute_result"
    }
   ],
   "source": [
    "pipeline = Pipeline([('impute', SimpleImputer(strategy='median')),('estimator', AdaBoostRegressor())])\n",
    "pipeline.fit(X, y)\n",
    "pipeline.score(X, y)"
   ]
  },
  {
   "cell_type": "code",
   "execution_count": 29,
   "id": "disturbed-philippines",
   "metadata": {},
   "outputs": [
    {
     "data": {
      "text/plain": [
       "array([-1.96236055,  0.52854271, -1.26871827, -0.69832751, -0.18904504])"
      ]
     },
     "execution_count": 29,
     "metadata": {},
     "output_type": "execute_result"
    }
   ],
   "source": [
    "cross_val_score(pipeline, X, y)"
   ]
  },
  {
   "cell_type": "code",
   "execution_count": null,
   "id": "periodic-recall",
   "metadata": {},
   "outputs": [],
   "source": []
  }
 ],
 "metadata": {
  "kernelspec": {
   "display_name": "Python 3",
   "language": "python",
   "name": "python3"
  },
  "language_info": {
   "codemirror_mode": {
    "name": "ipython",
    "version": 3
   },
   "file_extension": ".py",
   "mimetype": "text/x-python",
   "name": "python",
   "nbconvert_exporter": "python",
   "pygments_lexer": "ipython3",
   "version": "3.8.8"
  }
 },
 "nbformat": 4,
 "nbformat_minor": 5
}
